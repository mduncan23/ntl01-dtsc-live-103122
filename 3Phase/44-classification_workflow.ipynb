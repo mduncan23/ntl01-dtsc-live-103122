{
 "cells": [
  {
   "cell_type": "markdown",
   "metadata": {
    "toc": true
   },
   "source": [
    "<h1>Table of Contents<span class=\"tocSkip\"></span></h1>\n",
    "<div class=\"toc\"><ul class=\"toc-item\"><li><span><a href=\"#Objectives\" data-toc-modified-id=\"Objectives-1\"><span class=\"toc-item-num\">1&nbsp;&nbsp;</span>Objectives</a></span></li><li><span><a href=\"#Modeling-Walkthrough\" data-toc-modified-id=\"Modeling-Walkthrough-2\"><span class=\"toc-item-num\">2&nbsp;&nbsp;</span>Modeling Walkthrough</a></span><ul class=\"toc-item\"><li><span><a href=\"#Modeling-Steps\" data-toc-modified-id=\"Modeling-Steps-2.1\"><span class=\"toc-item-num\">2.1&nbsp;&nbsp;</span>Modeling Steps</a></span></li><li><span><a href=\"#The-Data\" data-toc-modified-id=\"The-Data-2.2\"><span class=\"toc-item-num\">2.2&nbsp;&nbsp;</span>The Data</a></span></li><li><span><a href=\"#Initial-Data-Understanding-and-Preparation\" data-toc-modified-id=\"Initial-Data-Understanding-and-Preparation-2.3\"><span class=\"toc-item-num\">2.3&nbsp;&nbsp;</span>Initial Data Understanding and Preparation</a></span></li></ul></li><li><span><a href=\"#1st-Model---&quot;Dummy&quot;-Model\" data-toc-modified-id=\"1st-Model---&quot;Dummy&quot;-Model-3\"><span class=\"toc-item-num\">3&nbsp;&nbsp;</span>1st Model - \"Dummy\" Model</a></span><ul class=\"toc-item\"><li><span><a href=\"#Model-Evaluation\" data-toc-modified-id=\"Model-Evaluation-3.1\"><span class=\"toc-item-num\">3.1&nbsp;&nbsp;</span>Model Evaluation</a></span></li></ul></li><li><span><a href=\"#2nd-Model---Logistic-Regression\" data-toc-modified-id=\"2nd-Model---Logistic-Regression-4\"><span class=\"toc-item-num\">4&nbsp;&nbsp;</span>2nd Model - Logistic Regression</a></span><ul class=\"toc-item\"><li><span><a href=\"#Model-Evaluation,-Part-2\" data-toc-modified-id=\"Model-Evaluation,-Part-2-4.1\"><span class=\"toc-item-num\">4.1&nbsp;&nbsp;</span>Model Evaluation, Part 2</a></span></li></ul></li><li><span><a href=\"#Back-to-Data-Preparation\" data-toc-modified-id=\"Back-to-Data-Preparation-5\"><span class=\"toc-item-num\">5&nbsp;&nbsp;</span>Back to Data Preparation</a></span><ul class=\"toc-item\"><li><span><a href=\"#Handling-Missing-Values\" data-toc-modified-id=\"Handling-Missing-Values-5.1\"><span class=\"toc-item-num\">5.1&nbsp;&nbsp;</span>Handling Missing Values</a></span></li><li><span><a href=\"#One-Hot-Encoding\" data-toc-modified-id=\"One-Hot-Encoding-5.2\"><span class=\"toc-item-num\">5.2&nbsp;&nbsp;</span>One-Hot Encoding</a></span></li></ul></li><li><span><a href=\"#3rd-Model---After-More-Data-Preparation\" data-toc-modified-id=\"3rd-Model---After-More-Data-Preparation-6\"><span class=\"toc-item-num\">6&nbsp;&nbsp;</span>3rd Model - After More Data Preparation</a></span><ul class=\"toc-item\"><li><span><a href=\"#Hyperparameter-Adjustments-to-the-Model\" data-toc-modified-id=\"Hyperparameter-Adjustments-to-the-Model-6.1\"><span class=\"toc-item-num\">6.1&nbsp;&nbsp;</span>Hyperparameter Adjustments to the Model</a></span><ul class=\"toc-item\"><li><span><a href=\"#More-Iterations\" data-toc-modified-id=\"More-Iterations-6.1.1\"><span class=\"toc-item-num\">6.1.1&nbsp;&nbsp;</span>More Iterations</a></span></li><li><span><a href=\"#More-Regularization\" data-toc-modified-id=\"More-Regularization-6.1.2\"><span class=\"toc-item-num\">6.1.2&nbsp;&nbsp;</span>More Regularization</a></span></li><li><span><a href=\"#Higher-Tolerance\" data-toc-modified-id=\"Higher-Tolerance-6.1.3\"><span class=\"toc-item-num\">6.1.3&nbsp;&nbsp;</span>Higher Tolerance</a></span></li></ul></li><li><span><a href=\"#Model-Evaluation,-Part-3\" data-toc-modified-id=\"Model-Evaluation,-Part-3-6.2\"><span class=\"toc-item-num\">6.2&nbsp;&nbsp;</span>Model Evaluation, Part 3</a></span></li></ul></li><li><span><a href=\"#Even-More-Data-Preparation---Scaling\" data-toc-modified-id=\"Even-More-Data-Preparation---Scaling-7\"><span class=\"toc-item-num\">7&nbsp;&nbsp;</span>Even More Data Preparation - Scaling</a></span></li><li><span><a href=\"#4th-Model---After-Scaling\" data-toc-modified-id=\"4th-Model---After-Scaling-8\"><span class=\"toc-item-num\">8&nbsp;&nbsp;</span>4th Model - After Scaling</a></span><ul class=\"toc-item\"><li><span><a href=\"#Model-Evaluation,-Part-4\" data-toc-modified-id=\"Model-Evaluation,-Part-4-8.1\"><span class=\"toc-item-num\">8.1&nbsp;&nbsp;</span>Model Evaluation, Part 4</a></span></li><li><span><a href=\"#Hyperparameter-Adjustment\" data-toc-modified-id=\"Hyperparameter-Adjustment-8.2\"><span class=\"toc-item-num\">8.2&nbsp;&nbsp;</span>Hyperparameter Adjustment</a></span><ul class=\"toc-item\"><li><span><a href=\"#Different-Regularization-Strengths\" data-toc-modified-id=\"Different-Regularization-Strengths-8.2.1\"><span class=\"toc-item-num\">8.2.1&nbsp;&nbsp;</span>Different Regularization Strengths</a></span></li><li><span><a href=\"#Different-Solvers\" data-toc-modified-id=\"Different-Solvers-8.2.2\"><span class=\"toc-item-num\">8.2.2&nbsp;&nbsp;</span>Different Solvers</a></span></li></ul></li><li><span><a href=\"#SelectFromModel\" data-toc-modified-id=\"SelectFromModel-8.3\"><span class=\"toc-item-num\">8.3&nbsp;&nbsp;</span><code>SelectFromModel</code></a></span></li></ul></li><li><span><a href=\"#Final-Model-Evaluation\" data-toc-modified-id=\"Final-Model-Evaluation-9\"><span class=\"toc-item-num\">9&nbsp;&nbsp;</span>Final Model Evaluation</a></span><ul class=\"toc-item\"><li><span><a href=\"#Compare-the-past-models\" data-toc-modified-id=\"Compare-the-past-models-9.1\"><span class=\"toc-item-num\">9.1&nbsp;&nbsp;</span>Compare the past models</a></span></li></ul></li><li><span><a href=\"#Exercise\" data-toc-modified-id=\"Exercise-10\"><span class=\"toc-item-num\">10&nbsp;&nbsp;</span>Exercise</a></span></li></ul></div>"
   ]
  },
  {
   "cell_type": "code",
   "execution_count": 1,
   "metadata": {
    "ExecuteTime": {
     "end_time": "2022-12-19T16:33:05.646367Z",
     "start_time": "2022-12-19T16:33:04.713270Z"
    }
   },
   "outputs": [],
   "source": [
    "import pandas as pd\n",
    "import numpy as np\n",
    "import math\n",
    "\n",
    "import matplotlib.pyplot as plt\n",
    "import seaborn as sns\n",
    "%matplotlib inline\n",
    "\n",
    "from sklearn.preprocessing import OneHotEncoder, StandardScaler\n",
    "\n",
    "from sklearn.impute import MissingIndicator, SimpleImputer\n",
    "\n",
    "from sklearn.dummy import DummyClassifier\n",
    "from sklearn.linear_model import LogisticRegression\n",
    "\n",
    "from sklearn.model_selection import train_test_split, cross_val_score\n",
    "\n",
    "# plot_confusion_matrix is a handy visual tool, added in the latest version of scikit-learn\n",
    "# if you are running an older version, comment out this line and just use confusion_matrix\n",
    "from sklearn.metrics import plot_confusion_matrix\n",
    "from sklearn.metrics import confusion_matrix\n",
    "from sklearn.metrics import plot_roc_curve"
   ]
  },
  {
   "cell_type": "markdown",
   "metadata": {},
   "source": [
    "# Objectives"
   ]
  },
  {
   "cell_type": "markdown",
   "metadata": {},
   "source": [
    "> The goal here is to illustrate a possible workflow for classification modeling with `sklearn`'s `LogisticRegression` model.\n",
    "\n",
    "\n",
    "- Formulate and implement an iterative modeling workflow"
   ]
  },
  {
   "cell_type": "markdown",
   "metadata": {},
   "source": [
    "# Modeling Walkthrough"
   ]
  },
  {
   "cell_type": "markdown",
   "metadata": {},
   "source": [
    "Caution! This notebook is very long and we will likely not get through it all. But the good news is that the modeling process is *iterative* and so after a few of those iterations you should get the hang of it!"
   ]
  },
  {
   "cell_type": "markdown",
   "metadata": {},
   "source": [
    "## Modeling Steps"
   ]
  },
  {
   "cell_type": "markdown",
   "metadata": {},
   "source": [
    "1. Build a model based on the [Titanic dataset](https://www.kaggle.com/c/titanic/data) that predicts whether a given person survived or not\n",
    "2. Evaluate the performance of the model\n",
    "3. Make changes in an attempt to improve the model\n",
    "4. Demonstrate whether an improvement was made"
   ]
  },
  {
   "cell_type": "markdown",
   "metadata": {},
   "source": [
    "## The Data"
   ]
  },
  {
   "cell_type": "markdown",
   "metadata": {},
   "source": [
    "This dataset has the following columns:\n",
    "\n",
    "| Variable | Definition | Key |\n",
    "| -------- | ---------- | --- |\n",
    "| survival | Survival | 0 = No, 1 = Yes |\n",
    "| pclass | Ticket class | 1 = 1st, 2 = 2nd, 3 = 3rd |\n",
    "| sex | Sex | |\n",
    "| Age | Age in years | |\n",
    "| sibsp | # of siblings / spouses aboard the Titanic | |\n",
    "| parch | # of parents / children aboard the Titanic | |\n",
    "| ticket | Ticket number | |\n",
    "| fare | Passenger fare | |\n",
    "| cabin | Cabin number | |\n",
    "| embarked | Port of Embarkation | C = Cherbourg, Q = Queenstown, S = Southampton |"
   ]
  },
  {
   "cell_type": "markdown",
   "metadata": {},
   "source": [
    "## Initial Data Understanding and Preparation"
   ]
  },
  {
   "cell_type": "markdown",
   "metadata": {},
   "source": [
    "Open up the file, get everything into `X` features and `y` target variables, divided into train and test. Numerics only."
   ]
  },
  {
   "cell_type": "code",
   "execution_count": 2,
   "metadata": {
    "ExecuteTime": {
     "end_time": "2022-12-19T16:34:16.252749Z",
     "start_time": "2022-12-19T16:34:16.239739Z"
    }
   },
   "outputs": [],
   "source": [
    "df = pd.read_csv('./data/titanic.csv')"
   ]
  },
  {
   "cell_type": "code",
   "execution_count": 3,
   "metadata": {
    "ExecuteTime": {
     "end_time": "2022-12-19T16:34:20.191313Z",
     "start_time": "2022-12-19T16:34:20.175014Z"
    }
   },
   "outputs": [
    {
     "data": {
      "text/html": [
       "<div>\n",
       "<style scoped>\n",
       "    .dataframe tbody tr th:only-of-type {\n",
       "        vertical-align: middle;\n",
       "    }\n",
       "\n",
       "    .dataframe tbody tr th {\n",
       "        vertical-align: top;\n",
       "    }\n",
       "\n",
       "    .dataframe thead th {\n",
       "        text-align: right;\n",
       "    }\n",
       "</style>\n",
       "<table border=\"1\" class=\"dataframe\">\n",
       "  <thead>\n",
       "    <tr style=\"text-align: right;\">\n",
       "      <th></th>\n",
       "      <th>PassengerId</th>\n",
       "      <th>Survived</th>\n",
       "      <th>Pclass</th>\n",
       "      <th>Name</th>\n",
       "      <th>Sex</th>\n",
       "      <th>Age</th>\n",
       "      <th>SibSp</th>\n",
       "      <th>Parch</th>\n",
       "      <th>Ticket</th>\n",
       "      <th>Fare</th>\n",
       "      <th>Cabin</th>\n",
       "      <th>Embarked</th>\n",
       "    </tr>\n",
       "  </thead>\n",
       "  <tbody>\n",
       "    <tr>\n",
       "      <th>0</th>\n",
       "      <td>1</td>\n",
       "      <td>0</td>\n",
       "      <td>3</td>\n",
       "      <td>Braund, Mr. Owen Harris</td>\n",
       "      <td>male</td>\n",
       "      <td>22.0</td>\n",
       "      <td>1</td>\n",
       "      <td>0</td>\n",
       "      <td>A/5 21171</td>\n",
       "      <td>7.2500</td>\n",
       "      <td>NaN</td>\n",
       "      <td>S</td>\n",
       "    </tr>\n",
       "    <tr>\n",
       "      <th>1</th>\n",
       "      <td>2</td>\n",
       "      <td>1</td>\n",
       "      <td>1</td>\n",
       "      <td>Cumings, Mrs. John Bradley (Florence Briggs Th...</td>\n",
       "      <td>female</td>\n",
       "      <td>38.0</td>\n",
       "      <td>1</td>\n",
       "      <td>0</td>\n",
       "      <td>PC 17599</td>\n",
       "      <td>71.2833</td>\n",
       "      <td>C85</td>\n",
       "      <td>C</td>\n",
       "    </tr>\n",
       "    <tr>\n",
       "      <th>2</th>\n",
       "      <td>3</td>\n",
       "      <td>1</td>\n",
       "      <td>3</td>\n",
       "      <td>Heikkinen, Miss. Laina</td>\n",
       "      <td>female</td>\n",
       "      <td>26.0</td>\n",
       "      <td>0</td>\n",
       "      <td>0</td>\n",
       "      <td>STON/O2. 3101282</td>\n",
       "      <td>7.9250</td>\n",
       "      <td>NaN</td>\n",
       "      <td>S</td>\n",
       "    </tr>\n",
       "    <tr>\n",
       "      <th>3</th>\n",
       "      <td>4</td>\n",
       "      <td>1</td>\n",
       "      <td>1</td>\n",
       "      <td>Futrelle, Mrs. Jacques Heath (Lily May Peel)</td>\n",
       "      <td>female</td>\n",
       "      <td>35.0</td>\n",
       "      <td>1</td>\n",
       "      <td>0</td>\n",
       "      <td>113803</td>\n",
       "      <td>53.1000</td>\n",
       "      <td>C123</td>\n",
       "      <td>S</td>\n",
       "    </tr>\n",
       "    <tr>\n",
       "      <th>4</th>\n",
       "      <td>5</td>\n",
       "      <td>0</td>\n",
       "      <td>3</td>\n",
       "      <td>Allen, Mr. William Henry</td>\n",
       "      <td>male</td>\n",
       "      <td>35.0</td>\n",
       "      <td>0</td>\n",
       "      <td>0</td>\n",
       "      <td>373450</td>\n",
       "      <td>8.0500</td>\n",
       "      <td>NaN</td>\n",
       "      <td>S</td>\n",
       "    </tr>\n",
       "  </tbody>\n",
       "</table>\n",
       "</div>"
      ],
      "text/plain": [
       "   PassengerId  Survived  Pclass  \\\n",
       "0            1         0       3   \n",
       "1            2         1       1   \n",
       "2            3         1       3   \n",
       "3            4         1       1   \n",
       "4            5         0       3   \n",
       "\n",
       "                                                Name     Sex   Age  SibSp  \\\n",
       "0                            Braund, Mr. Owen Harris    male  22.0      1   \n",
       "1  Cumings, Mrs. John Bradley (Florence Briggs Th...  female  38.0      1   \n",
       "2                             Heikkinen, Miss. Laina  female  26.0      0   \n",
       "3       Futrelle, Mrs. Jacques Heath (Lily May Peel)  female  35.0      1   \n",
       "4                           Allen, Mr. William Henry    male  35.0      0   \n",
       "\n",
       "   Parch            Ticket     Fare Cabin Embarked  \n",
       "0      0         A/5 21171   7.2500   NaN        S  \n",
       "1      0          PC 17599  71.2833   C85        C  \n",
       "2      0  STON/O2. 3101282   7.9250   NaN        S  \n",
       "3      0            113803  53.1000  C123        S  \n",
       "4      0            373450   8.0500   NaN        S  "
      ]
     },
     "execution_count": 3,
     "metadata": {},
     "output_type": "execute_result"
    }
   ],
   "source": [
    "df.head()"
   ]
  },
  {
   "cell_type": "code",
   "execution_count": 4,
   "metadata": {
    "ExecuteTime": {
     "end_time": "2022-12-19T16:34:26.402480Z",
     "start_time": "2022-12-19T16:34:26.375022Z"
    }
   },
   "outputs": [
    {
     "data": {
      "text/html": [
       "<div>\n",
       "<style scoped>\n",
       "    .dataframe tbody tr th:only-of-type {\n",
       "        vertical-align: middle;\n",
       "    }\n",
       "\n",
       "    .dataframe tbody tr th {\n",
       "        vertical-align: top;\n",
       "    }\n",
       "\n",
       "    .dataframe thead th {\n",
       "        text-align: right;\n",
       "    }\n",
       "</style>\n",
       "<table border=\"1\" class=\"dataframe\">\n",
       "  <thead>\n",
       "    <tr style=\"text-align: right;\">\n",
       "      <th></th>\n",
       "      <th>PassengerId</th>\n",
       "      <th>Survived</th>\n",
       "      <th>Pclass</th>\n",
       "      <th>Age</th>\n",
       "      <th>SibSp</th>\n",
       "      <th>Parch</th>\n",
       "      <th>Fare</th>\n",
       "    </tr>\n",
       "  </thead>\n",
       "  <tbody>\n",
       "    <tr>\n",
       "      <th>count</th>\n",
       "      <td>891.000000</td>\n",
       "      <td>891.000000</td>\n",
       "      <td>891.000000</td>\n",
       "      <td>714.000000</td>\n",
       "      <td>891.000000</td>\n",
       "      <td>891.000000</td>\n",
       "      <td>891.000000</td>\n",
       "    </tr>\n",
       "    <tr>\n",
       "      <th>mean</th>\n",
       "      <td>446.000000</td>\n",
       "      <td>0.383838</td>\n",
       "      <td>2.308642</td>\n",
       "      <td>29.699118</td>\n",
       "      <td>0.523008</td>\n",
       "      <td>0.381594</td>\n",
       "      <td>32.204208</td>\n",
       "    </tr>\n",
       "    <tr>\n",
       "      <th>std</th>\n",
       "      <td>257.353842</td>\n",
       "      <td>0.486592</td>\n",
       "      <td>0.836071</td>\n",
       "      <td>14.526497</td>\n",
       "      <td>1.102743</td>\n",
       "      <td>0.806057</td>\n",
       "      <td>49.693429</td>\n",
       "    </tr>\n",
       "    <tr>\n",
       "      <th>min</th>\n",
       "      <td>1.000000</td>\n",
       "      <td>0.000000</td>\n",
       "      <td>1.000000</td>\n",
       "      <td>0.420000</td>\n",
       "      <td>0.000000</td>\n",
       "      <td>0.000000</td>\n",
       "      <td>0.000000</td>\n",
       "    </tr>\n",
       "    <tr>\n",
       "      <th>25%</th>\n",
       "      <td>223.500000</td>\n",
       "      <td>0.000000</td>\n",
       "      <td>2.000000</td>\n",
       "      <td>20.125000</td>\n",
       "      <td>0.000000</td>\n",
       "      <td>0.000000</td>\n",
       "      <td>7.910400</td>\n",
       "    </tr>\n",
       "    <tr>\n",
       "      <th>50%</th>\n",
       "      <td>446.000000</td>\n",
       "      <td>0.000000</td>\n",
       "      <td>3.000000</td>\n",
       "      <td>28.000000</td>\n",
       "      <td>0.000000</td>\n",
       "      <td>0.000000</td>\n",
       "      <td>14.454200</td>\n",
       "    </tr>\n",
       "    <tr>\n",
       "      <th>75%</th>\n",
       "      <td>668.500000</td>\n",
       "      <td>1.000000</td>\n",
       "      <td>3.000000</td>\n",
       "      <td>38.000000</td>\n",
       "      <td>1.000000</td>\n",
       "      <td>0.000000</td>\n",
       "      <td>31.000000</td>\n",
       "    </tr>\n",
       "    <tr>\n",
       "      <th>max</th>\n",
       "      <td>891.000000</td>\n",
       "      <td>1.000000</td>\n",
       "      <td>3.000000</td>\n",
       "      <td>80.000000</td>\n",
       "      <td>8.000000</td>\n",
       "      <td>6.000000</td>\n",
       "      <td>512.329200</td>\n",
       "    </tr>\n",
       "  </tbody>\n",
       "</table>\n",
       "</div>"
      ],
      "text/plain": [
       "       PassengerId    Survived      Pclass         Age       SibSp  \\\n",
       "count   891.000000  891.000000  891.000000  714.000000  891.000000   \n",
       "mean    446.000000    0.383838    2.308642   29.699118    0.523008   \n",
       "std     257.353842    0.486592    0.836071   14.526497    1.102743   \n",
       "min       1.000000    0.000000    1.000000    0.420000    0.000000   \n",
       "25%     223.500000    0.000000    2.000000   20.125000    0.000000   \n",
       "50%     446.000000    0.000000    3.000000   28.000000    0.000000   \n",
       "75%     668.500000    1.000000    3.000000   38.000000    1.000000   \n",
       "max     891.000000    1.000000    3.000000   80.000000    8.000000   \n",
       "\n",
       "            Parch        Fare  \n",
       "count  891.000000  891.000000  \n",
       "mean     0.381594   32.204208  \n",
       "std      0.806057   49.693429  \n",
       "min      0.000000    0.000000  \n",
       "25%      0.000000    7.910400  \n",
       "50%      0.000000   14.454200  \n",
       "75%      0.000000   31.000000  \n",
       "max      6.000000  512.329200  "
      ]
     },
     "execution_count": 4,
     "metadata": {},
     "output_type": "execute_result"
    }
   ],
   "source": [
    "df.describe()"
   ]
  },
  {
   "cell_type": "code",
   "execution_count": 5,
   "metadata": {
    "ExecuteTime": {
     "end_time": "2022-12-19T16:35:45.172597Z",
     "start_time": "2022-12-19T16:35:45.157456Z"
    }
   },
   "outputs": [
    {
     "data": {
      "text/plain": [
       "PassengerId      0\n",
       "Survived         0\n",
       "Pclass           0\n",
       "Name             0\n",
       "Sex              0\n",
       "Age            177\n",
       "SibSp            0\n",
       "Parch            0\n",
       "Ticket           0\n",
       "Fare             0\n",
       "Cabin          687\n",
       "Embarked         2\n",
       "dtype: int64"
      ]
     },
     "execution_count": 5,
     "metadata": {},
     "output_type": "execute_result"
    }
   ],
   "source": [
    "df.isna().sum()"
   ]
  },
  {
   "cell_type": "code",
   "execution_count": 8,
   "metadata": {
    "ExecuteTime": {
     "end_time": "2022-12-19T16:37:49.213305Z",
     "start_time": "2022-12-19T16:37:49.210518Z"
    }
   },
   "outputs": [],
   "source": [
    "df = df.drop(columns=['PassengerId'])"
   ]
  },
  {
   "cell_type": "code",
   "execution_count": 10,
   "metadata": {
    "ExecuteTime": {
     "end_time": "2022-12-19T16:38:56.690062Z",
     "start_time": "2022-12-19T16:38:56.688557Z"
    }
   },
   "outputs": [],
   "source": [
    "numeric_columns = ['Survived', 'SibSp', 'Parch', 'Fare']"
   ]
  },
  {
   "cell_type": "code",
   "execution_count": 11,
   "metadata": {
    "ExecuteTime": {
     "end_time": "2022-12-19T16:39:10.851302Z",
     "start_time": "2022-12-19T16:39:10.848170Z"
    }
   },
   "outputs": [],
   "source": [
    "numeric_df = df[numeric_columns]"
   ]
  },
  {
   "cell_type": "code",
   "execution_count": 12,
   "metadata": {
    "ExecuteTime": {
     "end_time": "2022-12-19T16:39:34.034570Z",
     "start_time": "2022-12-19T16:39:34.031558Z"
    }
   },
   "outputs": [],
   "source": [
    "X = numeric_df.drop('Survived', axis=1)"
   ]
  },
  {
   "cell_type": "code",
   "execution_count": 13,
   "metadata": {
    "ExecuteTime": {
     "end_time": "2022-12-19T16:39:50.497565Z",
     "start_time": "2022-12-19T16:39:50.495562Z"
    }
   },
   "outputs": [],
   "source": [
    "y = numeric_df.Survived"
   ]
  },
  {
   "cell_type": "code",
   "execution_count": 14,
   "metadata": {
    "ExecuteTime": {
     "end_time": "2022-12-19T16:40:36.489825Z",
     "start_time": "2022-12-19T16:40:36.485709Z"
    }
   },
   "outputs": [],
   "source": [
    "X_train, X_test, y_train, y_test = train_test_split(X, y, random_state=42)"
   ]
  },
  {
   "cell_type": "markdown",
   "metadata": {},
   "source": [
    "# 1st Model - \"Dummy\" Model"
   ]
  },
  {
   "cell_type": "markdown",
   "metadata": {},
   "source": [
    "Let's start with a completely \"dummy\" model, that will always choose the majority class."
   ]
  },
  {
   "cell_type": "code",
   "execution_count": 19,
   "metadata": {
    "ExecuteTime": {
     "end_time": "2022-12-19T16:42:35.241012Z",
     "start_time": "2022-12-19T16:42:35.234584Z"
    }
   },
   "outputs": [
    {
     "data": {
      "text/plain": [
       "0    0.616162\n",
       "1    0.383838\n",
       "Name: Survived, dtype: float64"
      ]
     },
     "execution_count": 19,
     "metadata": {},
     "output_type": "execute_result"
    }
   ],
   "source": [
    "numeric_df.Survived.value_counts(normalize=True)"
   ]
  },
  {
   "cell_type": "code",
   "execution_count": 15,
   "metadata": {
    "ExecuteTime": {
     "end_time": "2022-12-19T16:41:20.126361Z",
     "start_time": "2022-12-19T16:41:20.125360Z"
    }
   },
   "outputs": [],
   "source": [
    "dummy_model = DummyClassifier(strategy='most_frequent')"
   ]
  },
  {
   "cell_type": "code",
   "execution_count": 16,
   "metadata": {
    "ExecuteTime": {
     "end_time": "2022-12-19T16:41:33.207046Z",
     "start_time": "2022-12-19T16:41:33.204477Z"
    }
   },
   "outputs": [
    {
     "data": {
      "text/plain": [
       "DummyClassifier(strategy='most_frequent')"
      ]
     },
     "execution_count": 16,
     "metadata": {},
     "output_type": "execute_result"
    }
   ],
   "source": [
    "dummy_model.fit(X_train, y_train)"
   ]
  },
  {
   "cell_type": "code",
   "execution_count": 20,
   "metadata": {
    "ExecuteTime": {
     "end_time": "2022-12-19T16:42:42.605059Z",
     "start_time": "2022-12-19T16:42:42.602656Z"
    }
   },
   "outputs": [],
   "source": [
    "dum_preds = dummy_model.predict(X_train)"
   ]
  },
  {
   "cell_type": "code",
   "execution_count": 21,
   "metadata": {
    "ExecuteTime": {
     "end_time": "2022-12-19T16:42:44.326419Z",
     "start_time": "2022-12-19T16:42:44.323426Z"
    }
   },
   "outputs": [
    {
     "data": {
      "text/plain": [
       "array([0, 0, 0, 0, 0, 0, 0, 0, 0, 0, 0, 0, 0, 0, 0, 0, 0, 0, 0, 0, 0, 0,\n",
       "       0, 0, 0, 0, 0, 0, 0, 0, 0, 0, 0, 0, 0, 0, 0, 0, 0, 0, 0, 0, 0, 0,\n",
       "       0, 0, 0, 0, 0, 0, 0, 0, 0, 0, 0, 0, 0, 0, 0, 0, 0, 0, 0, 0, 0, 0,\n",
       "       0, 0, 0, 0, 0, 0, 0, 0, 0, 0, 0, 0, 0, 0, 0, 0, 0, 0, 0, 0, 0, 0,\n",
       "       0, 0, 0, 0, 0, 0, 0, 0, 0, 0, 0, 0, 0, 0, 0, 0, 0, 0, 0, 0, 0, 0,\n",
       "       0, 0, 0, 0, 0, 0, 0, 0, 0, 0, 0, 0, 0, 0, 0, 0, 0, 0, 0, 0, 0, 0,\n",
       "       0, 0, 0, 0, 0, 0, 0, 0, 0, 0, 0, 0, 0, 0, 0, 0, 0, 0, 0, 0, 0, 0,\n",
       "       0, 0, 0, 0, 0, 0, 0, 0, 0, 0, 0, 0, 0, 0, 0, 0, 0, 0, 0, 0, 0, 0,\n",
       "       0, 0, 0, 0, 0, 0, 0, 0, 0, 0, 0, 0, 0, 0, 0, 0, 0, 0, 0, 0, 0, 0,\n",
       "       0, 0, 0, 0, 0, 0, 0, 0, 0, 0, 0, 0, 0, 0, 0, 0, 0, 0, 0, 0, 0, 0,\n",
       "       0, 0, 0, 0, 0, 0, 0, 0, 0, 0, 0, 0, 0, 0, 0, 0, 0, 0, 0, 0, 0, 0,\n",
       "       0, 0, 0, 0, 0, 0, 0, 0, 0, 0, 0, 0, 0, 0, 0, 0, 0, 0, 0, 0, 0, 0,\n",
       "       0, 0, 0, 0, 0, 0, 0, 0, 0, 0, 0, 0, 0, 0, 0, 0, 0, 0, 0, 0, 0, 0,\n",
       "       0, 0, 0, 0, 0, 0, 0, 0, 0, 0, 0, 0, 0, 0, 0, 0, 0, 0, 0, 0, 0, 0,\n",
       "       0, 0, 0, 0, 0, 0, 0, 0, 0, 0, 0, 0, 0, 0, 0, 0, 0, 0, 0, 0, 0, 0,\n",
       "       0, 0, 0, 0, 0, 0, 0, 0, 0, 0, 0, 0, 0, 0, 0, 0, 0, 0, 0, 0, 0, 0,\n",
       "       0, 0, 0, 0, 0, 0, 0, 0, 0, 0, 0, 0, 0, 0, 0, 0, 0, 0, 0, 0, 0, 0,\n",
       "       0, 0, 0, 0, 0, 0, 0, 0, 0, 0, 0, 0, 0, 0, 0, 0, 0, 0, 0, 0, 0, 0,\n",
       "       0, 0, 0, 0, 0, 0, 0, 0, 0, 0, 0, 0, 0, 0, 0, 0, 0, 0, 0, 0, 0, 0,\n",
       "       0, 0, 0, 0, 0, 0, 0, 0, 0, 0, 0, 0, 0, 0, 0, 0, 0, 0, 0, 0, 0, 0,\n",
       "       0, 0, 0, 0, 0, 0, 0, 0, 0, 0, 0, 0, 0, 0, 0, 0, 0, 0, 0, 0, 0, 0,\n",
       "       0, 0, 0, 0, 0, 0, 0, 0, 0, 0, 0, 0, 0, 0, 0, 0, 0, 0, 0, 0, 0, 0,\n",
       "       0, 0, 0, 0, 0, 0, 0, 0, 0, 0, 0, 0, 0, 0, 0, 0, 0, 0, 0, 0, 0, 0,\n",
       "       0, 0, 0, 0, 0, 0, 0, 0, 0, 0, 0, 0, 0, 0, 0, 0, 0, 0, 0, 0, 0, 0,\n",
       "       0, 0, 0, 0, 0, 0, 0, 0, 0, 0, 0, 0, 0, 0, 0, 0, 0, 0, 0, 0, 0, 0,\n",
       "       0, 0, 0, 0, 0, 0, 0, 0, 0, 0, 0, 0, 0, 0, 0, 0, 0, 0, 0, 0, 0, 0,\n",
       "       0, 0, 0, 0, 0, 0, 0, 0, 0, 0, 0, 0, 0, 0, 0, 0, 0, 0, 0, 0, 0, 0,\n",
       "       0, 0, 0, 0, 0, 0, 0, 0, 0, 0, 0, 0, 0, 0, 0, 0, 0, 0, 0, 0, 0, 0,\n",
       "       0, 0, 0, 0, 0, 0, 0, 0, 0, 0, 0, 0, 0, 0, 0, 0, 0, 0, 0, 0, 0, 0,\n",
       "       0, 0, 0, 0, 0, 0, 0, 0, 0, 0, 0, 0, 0, 0, 0, 0, 0, 0, 0, 0, 0, 0,\n",
       "       0, 0, 0, 0, 0, 0, 0, 0], dtype=int64)"
      ]
     },
     "execution_count": 21,
     "metadata": {},
     "output_type": "execute_result"
    }
   ],
   "source": [
    "dum_preds"
   ]
  },
  {
   "cell_type": "markdown",
   "metadata": {},
   "source": [
    "## Model Evaluation"
   ]
  },
  {
   "cell_type": "markdown",
   "metadata": {},
   "source": [
    "Let's do some cross-validation to see how the model would do in generalizing to new data it's never seen."
   ]
  },
  {
   "cell_type": "code",
   "execution_count": 22,
   "metadata": {
    "ExecuteTime": {
     "end_time": "2022-12-19T16:43:16.015670Z",
     "start_time": "2022-12-19T16:43:16.010045Z"
    }
   },
   "outputs": [],
   "source": [
    "cv_results = cross_val_score(dummy_model, X_train, y_train, cv=5)"
   ]
  },
  {
   "cell_type": "code",
   "execution_count": 23,
   "metadata": {
    "ExecuteTime": {
     "end_time": "2022-12-19T16:43:21.444838Z",
     "start_time": "2022-12-19T16:43:21.441545Z"
    }
   },
   "outputs": [
    {
     "data": {
      "text/plain": [
       "array([0.61940299, 0.61940299, 0.61940299, 0.62406015, 0.62406015])"
      ]
     },
     "execution_count": 23,
     "metadata": {},
     "output_type": "execute_result"
    }
   ],
   "source": [
    "cv_results"
   ]
  },
  {
   "cell_type": "code",
   "execution_count": 24,
   "metadata": {
    "ExecuteTime": {
     "end_time": "2022-12-19T16:43:34.780648Z",
     "start_time": "2022-12-19T16:43:34.776798Z"
    }
   },
   "outputs": [
    {
     "data": {
      "text/plain": [
       "0.6212658511951521"
      ]
     },
     "execution_count": 24,
     "metadata": {},
     "output_type": "execute_result"
    }
   ],
   "source": [
    "np.mean(cv_results)"
   ]
  },
  {
   "cell_type": "code",
   "execution_count": 25,
   "metadata": {
    "ExecuteTime": {
     "end_time": "2022-12-19T16:44:10.179380Z",
     "start_time": "2022-12-19T16:44:10.176000Z"
    }
   },
   "outputs": [
    {
     "data": {
      "text/plain": [
       "0.6212574850299402"
      ]
     },
     "execution_count": 25,
     "metadata": {},
     "output_type": "execute_result"
    }
   ],
   "source": [
    "dummy_model.score(X_train, y_train)"
   ]
  },
  {
   "cell_type": "code",
   "execution_count": 26,
   "metadata": {
    "ExecuteTime": {
     "end_time": "2022-12-19T16:44:21.610984Z",
     "start_time": "2022-12-19T16:44:21.607778Z"
    }
   },
   "outputs": [
    {
     "data": {
      "text/plain": [
       "0.600896860986547"
      ]
     },
     "execution_count": 26,
     "metadata": {},
     "output_type": "execute_result"
    }
   ],
   "source": [
    "dummy_model.score(X_test, y_test)"
   ]
  },
  {
   "cell_type": "markdown",
   "metadata": {},
   "source": [
    "To show the spread, let's make a convenient class that can help us organize the model and the cross-validation:"
   ]
  },
  {
   "cell_type": "code",
   "execution_count": 27,
   "metadata": {
    "ExecuteTime": {
     "end_time": "2022-12-19T16:46:52.161710Z",
     "start_time": "2022-12-19T16:46:52.156231Z"
    },
    "code_folding": []
   },
   "outputs": [],
   "source": [
    "class ModelWithCV():\n",
    "    '''Structure to save the model and more easily see its crossvalidation'''\n",
    "    \n",
    "    def __init__(self, model, model_name, X, y, cv_now=True):\n",
    "        self.model = model\n",
    "        self.name = model_name\n",
    "        self.X = X\n",
    "        self.y = y\n",
    "        # For CV results\n",
    "        self.cv_results = None\n",
    "        self.cv_mean = None\n",
    "        self.cv_median = None\n",
    "        self.cv_std = None\n",
    "        #\n",
    "        if cv_now:\n",
    "            self.cross_validate()\n",
    "        \n",
    "    def cross_validate(self, X=None, y=None, kfolds=10):\n",
    "        '''\n",
    "        Perform cross-validation and return results.\n",
    "        \n",
    "        Args: \n",
    "          X:\n",
    "            Optional; Training data to perform CV on. Otherwise use X from object\n",
    "          y:\n",
    "            Optional; Training data to perform CV on. Otherwise use y from object\n",
    "          kfolds:\n",
    "            Optional; Number of folds for CV (default is 10)  \n",
    "        '''\n",
    "        \n",
    "        cv_X = X if X else self.X\n",
    "        cv_y = y if y else self.y\n",
    "\n",
    "        self.cv_results = cross_val_score(self.model, cv_X, cv_y, cv=kfolds)\n",
    "        self.cv_mean = np.mean(self.cv_results)\n",
    "        self.cv_median = np.median(self.cv_results)\n",
    "        self.cv_std = np.std(self.cv_results)\n",
    "\n",
    "        \n",
    "    def print_cv_summary(self):\n",
    "        cv_summary = (\n",
    "        f'''CV Results for `{self.name}` model:\n",
    "            {self.cv_mean:.5f} ± {self.cv_std:.5f} accuracy\n",
    "        ''')\n",
    "        print(cv_summary)\n",
    "\n",
    "        \n",
    "    def plot_cv(self, ax):\n",
    "        '''\n",
    "        Plot the cross-validation values using the array of results and given \n",
    "        Axis for plotting.\n",
    "        '''\n",
    "        ax.set_title(f'CV Results for `{self.name}` Model')\n",
    "        # Thinner violinplot with higher bw\n",
    "        sns.violinplot(y=self.cv_results, ax=ax, bw=.4)\n",
    "        sns.swarmplot(\n",
    "                y=self.cv_results,\n",
    "                color='orange',\n",
    "                size=10,\n",
    "                alpha= 0.8,\n",
    "                ax=ax\n",
    "        )\n",
    "\n",
    "        return ax"
   ]
  },
  {
   "cell_type": "markdown",
   "metadata": {},
   "source": [
    "Now do it for dummy!"
   ]
  },
  {
   "cell_type": "code",
   "execution_count": 28,
   "metadata": {
    "ExecuteTime": {
     "end_time": "2022-12-19T16:48:08.003615Z",
     "start_time": "2022-12-19T16:48:07.994579Z"
    }
   },
   "outputs": [],
   "source": [
    "dummy_model_results = ModelWithCV(\n",
    "    model=dummy_model,\n",
    "    model_name='Dummy',\n",
    "    X=X_train,\n",
    "    y=y_train\n",
    ")"
   ]
  },
  {
   "cell_type": "code",
   "execution_count": 29,
   "metadata": {
    "ExecuteTime": {
     "end_time": "2022-12-19T16:48:17.126376Z",
     "start_time": "2022-12-19T16:48:17.050035Z"
    }
   },
   "outputs": [
    {
     "name": "stdout",
     "output_type": "stream",
     "text": [
      "CV Results for `Dummy` model:\n",
      "            0.62126 ± 0.00646 accuracy\n",
      "        \n"
     ]
    },
    {
     "data": {
      "image/png": "[encoded data removed]",
      "text/plain": [
       "<Figure size 432x288 with 1 Axes>"
      ]
     },
     "metadata": {
      "needs_background": "light"
     },
     "output_type": "display_data"
    }
   ],
   "source": [
    "fig, ax = plt.subplots()\n",
    "\n",
    "ax = dummy_model_results.plot_cv(ax)\n",
    "plt.tight_layout();\n",
    "\n",
    "dummy_model_results.print_cv_summary()"
   ]
  },
  {
   "cell_type": "code",
   "execution_count": 30,
   "metadata": {
    "ExecuteTime": {
     "end_time": "2022-12-19T16:50:14.896392Z",
     "start_time": "2022-12-19T16:50:14.807341Z"
    }
   },
   "outputs": [
    {
     "data": {
      "image/png": "[encoded data removed]",
      "text/plain": [
       "<Figure size 432x288 with 2 Axes>"
      ]
     },
     "metadata": {
      "needs_background": "light"
     },
     "output_type": "display_data"
    }
   ],
   "source": [
    "fig, ax = plt.subplots()\n",
    "\n",
    "fig.suptitle(\"Dummy Model\")\n",
    "\n",
    "plot_confusion_matrix(dummy_model, X_train, y_train, ax=ax, cmap=\"plasma\");"
   ]
  },
  {
   "cell_type": "code",
   "execution_count": 31,
   "metadata": {
    "ExecuteTime": {
     "end_time": "2022-12-19T16:50:16.186648Z",
     "start_time": "2022-12-19T16:50:16.182617Z"
    }
   },
   "outputs": [
    {
     "data": {
      "text/plain": [
       "array([[415,   0],\n",
       "       [253,   0]], dtype=int64)"
      ]
     },
     "execution_count": 31,
     "metadata": {},
     "output_type": "execute_result"
    }
   ],
   "source": [
    "# just the numbers (this should work even with older scikit-learn)\n",
    "confusion_matrix(y_train, dummy_model.predict(X_train))"
   ]
  },
  {
   "cell_type": "markdown",
   "metadata": {},
   "source": [
    "A pretty lopsided confusion matrix!"
   ]
  },
  {
   "cell_type": "code",
   "execution_count": 32,
   "metadata": {
    "ExecuteTime": {
     "end_time": "2022-12-19T16:50:22.771828Z",
     "start_time": "2022-12-19T16:50:22.702452Z"
    },
    "scrolled": true
   },
   "outputs": [
    {
     "data": {
      "image/png": "[encoded data removed]",
      "text/plain": [
       "<Figure size 432x288 with 1 Axes>"
      ]
     },
     "metadata": {
      "needs_background": "light"
     },
     "output_type": "display_data"
    }
   ],
   "source": [
    "plot_roc_curve(dummy_model, X_train, y_train);"
   ]
  },
  {
   "cell_type": "markdown",
   "metadata": {},
   "source": [
    "# 2nd Model - Logistic Regression"
   ]
  },
  {
   "cell_type": "markdown",
   "metadata": {},
   "source": [
    "Let's use a logistic regression and compare its performance."
   ]
  },
  {
   "cell_type": "markdown",
   "metadata": {},
   "source": [
    "We're going to specifically avoid any regularization (the default) to see how the model does with little change. So we'll pass `'none'` to the `penalty` parameter to not use any regularization. "
   ]
  },
  {
   "cell_type": "code",
   "execution_count": 33,
   "metadata": {
    "ExecuteTime": {
     "end_time": "2022-12-19T16:51:30.751110Z",
     "start_time": "2022-12-19T16:51:30.749094Z"
    }
   },
   "outputs": [],
   "source": [
    "fsm_logreg = LogisticRegression(penalty='none', random_state=42)"
   ]
  },
  {
   "cell_type": "code",
   "execution_count": 34,
   "metadata": {
    "ExecuteTime": {
     "end_time": "2022-12-19T16:52:16.931846Z",
     "start_time": "2022-12-19T16:52:16.923268Z"
    }
   },
   "outputs": [
    {
     "data": {
      "text/plain": [
       "LogisticRegression(penalty='none', random_state=42)"
      ]
     },
     "execution_count": 34,
     "metadata": {},
     "output_type": "execute_result"
    }
   ],
   "source": [
    "fsm_logreg.fit(X_train, y_train)"
   ]
  },
  {
   "cell_type": "code",
   "execution_count": 35,
   "metadata": {
    "ExecuteTime": {
     "end_time": "2022-12-19T16:52:32.479868Z",
     "start_time": "2022-12-19T16:52:32.476482Z"
    }
   },
   "outputs": [],
   "source": [
    "fsm_pred = fsm_logreg.predict(X_train)"
   ]
  },
  {
   "cell_type": "code",
   "execution_count": 36,
   "metadata": {
    "ExecuteTime": {
     "end_time": "2022-12-19T16:52:41.742712Z",
     "start_time": "2022-12-19T16:52:41.739443Z"
    }
   },
   "outputs": [
    {
     "data": {
      "text/plain": [
       "array([0, 0, 0, 0, 1, 0, 0, 0, 1, 0, 0, 0, 0, 1, 0, 1, 0, 0, 0, 0, 0, 0,\n",
       "       0, 0, 0, 0, 0, 0, 0, 0, 0, 1, 0, 0, 1, 0, 0, 1, 1, 0, 0, 0, 0, 0,\n",
       "       0, 1, 0, 0, 0, 0], dtype=int64)"
      ]
     },
     "execution_count": 36,
     "metadata": {},
     "output_type": "execute_result"
    }
   ],
   "source": [
    "fsm_pred[:50]"
   ]
  },
  {
   "cell_type": "markdown",
   "metadata": {},
   "source": [
    "Mixture of 1s and 0s this time"
   ]
  },
  {
   "cell_type": "markdown",
   "metadata": {},
   "source": [
    "## Model Evaluation, Part 2"
   ]
  },
  {
   "cell_type": "markdown",
   "metadata": {},
   "source": [
    "ModelWithCV for simple"
   ]
  },
  {
   "cell_type": "code",
   "execution_count": 38,
   "metadata": {
    "ExecuteTime": {
     "end_time": "2022-12-19T16:53:17.797024Z",
     "start_time": "2022-12-19T16:53:17.746545Z"
    }
   },
   "outputs": [],
   "source": [
    "fsm_logreg_results = ModelWithCV(\n",
    "                        model=fsm_logreg,\n",
    "                        model_name='fsm_logreg',\n",
    "                        X=X_train, \n",
    "                        y=y_train\n",
    ")"
   ]
  },
  {
   "cell_type": "code",
   "execution_count": 39,
   "metadata": {
    "ExecuteTime": {
     "end_time": "2022-12-19T16:53:26.048645Z",
     "start_time": "2022-12-19T16:53:25.987018Z"
    }
   },
   "outputs": [
    {
     "name": "stdout",
     "output_type": "stream",
     "text": [
      "CV Results for `fsm_logreg` model:\n",
      "            0.67515 ± 0.03721 accuracy\n",
      "        \n"
     ]
    },
    {
     "data": {
      "image/png": "[encoded data removed]",
      "text/plain": [
       "<Figure size 432x288 with 1 Axes>"
      ]
     },
     "metadata": {
      "needs_background": "light"
     },
     "output_type": "display_data"
    }
   ],
   "source": [
    "# Saving variable for convenience\n",
    "model_results = fsm_logreg_results\n",
    "\n",
    "# Plot CV results\n",
    "fig, ax = plt.subplots()\n",
    "ax = model_results.plot_cv(ax)\n",
    "plt.tight_layout();\n",
    "# Print CV results\n",
    "model_results.print_cv_summary()"
   ]
  },
  {
   "cell_type": "markdown",
   "metadata": {},
   "source": [
    "So the mean accuracy is better when the model is actually taking in information from the features instead of always guessing the majority class."
   ]
  },
  {
   "cell_type": "code",
   "execution_count": 44,
   "metadata": {
    "ExecuteTime": {
     "end_time": "2022-12-19T16:56:22.753485Z",
     "start_time": "2022-12-19T16:56:22.670295Z"
    }
   },
   "outputs": [
    {
     "data": {
      "image/png": "[encoded data removed]",
      "text/plain": [
       "<Figure size 432x288 with 2 Axes>"
      ]
     },
     "metadata": {
      "needs_background": "light"
     },
     "output_type": "display_data"
    }
   ],
   "source": [
    "# CM\n",
    "\n",
    "fig, ax = plt.subplots()\n",
    "\n",
    "fig.suptitle('Logistic Regression with only Numeric Features')\n",
    "\n",
    "plot_confusion_matrix(fsm_logreg, X_train, y_train, ax=ax, cmap='plasma');"
   ]
  },
  {
   "cell_type": "code",
   "execution_count": 43,
   "metadata": {
    "ExecuteTime": {
     "end_time": "2022-12-19T16:55:35.364870Z",
     "start_time": "2022-12-19T16:55:35.294365Z"
    },
    "scrolled": true
   },
   "outputs": [
    {
     "data": {
      "image/png": "[encoded data removed]",
      "text/plain": [
       "<Figure size 432x288 with 1 Axes>"
      ]
     },
     "metadata": {
      "needs_background": "light"
     },
     "output_type": "display_data"
    }
   ],
   "source": [
    "# ROC\n",
    "\n",
    "plot_roc_curve(fsm_logreg, X_train, y_train);"
   ]
  },
  {
   "cell_type": "markdown",
   "metadata": {},
   "source": [
    "Interpretation?"
   ]
  },
  {
   "cell_type": "markdown",
   "metadata": {},
   "source": [
    "# Back to Data Preparation"
   ]
  },
  {
   "cell_type": "markdown",
   "metadata": {},
   "source": [
    "Maybe there is some useful information in the features we are not using yet.  Let's go wild and add all of them!\n",
    "\n",
    "> Note: you can and should add features incrementally in a \"real\" modeling context.  The engineering effort of encoding the variables can be non-trivial!  But here let's assume that it's not too much work to encode all of them.\n",
    "\n",
    "Start with a new train-test split that contains all of the features"
   ]
  },
  {
   "cell_type": "code",
   "execution_count": 45,
   "metadata": {
    "ExecuteTime": {
     "end_time": "2022-12-19T17:00:37.069875Z",
     "start_time": "2022-12-19T17:00:37.063211Z"
    }
   },
   "outputs": [
    {
     "data": {
      "text/html": [
       "<div>\n",
       "<style scoped>\n",
       "    .dataframe tbody tr th:only-of-type {\n",
       "        vertical-align: middle;\n",
       "    }\n",
       "\n",
       "    .dataframe tbody tr th {\n",
       "        vertical-align: top;\n",
       "    }\n",
       "\n",
       "    .dataframe thead th {\n",
       "        text-align: right;\n",
       "    }\n",
       "</style>\n",
       "<table border=\"1\" class=\"dataframe\">\n",
       "  <thead>\n",
       "    <tr style=\"text-align: right;\">\n",
       "      <th></th>\n",
       "      <th>Survived</th>\n",
       "      <th>Pclass</th>\n",
       "      <th>Name</th>\n",
       "      <th>Sex</th>\n",
       "      <th>Age</th>\n",
       "      <th>SibSp</th>\n",
       "      <th>Parch</th>\n",
       "      <th>Ticket</th>\n",
       "      <th>Fare</th>\n",
       "      <th>Cabin</th>\n",
       "      <th>Embarked</th>\n",
       "    </tr>\n",
       "  </thead>\n",
       "  <tbody>\n",
       "    <tr>\n",
       "      <th>0</th>\n",
       "      <td>0</td>\n",
       "      <td>3</td>\n",
       "      <td>Braund, Mr. Owen Harris</td>\n",
       "      <td>male</td>\n",
       "      <td>22.0</td>\n",
       "      <td>1</td>\n",
       "      <td>0</td>\n",
       "      <td>A/5 21171</td>\n",
       "      <td>7.2500</td>\n",
       "      <td>NaN</td>\n",
       "      <td>S</td>\n",
       "    </tr>\n",
       "    <tr>\n",
       "      <th>1</th>\n",
       "      <td>1</td>\n",
       "      <td>1</td>\n",
       "      <td>Cumings, Mrs. John Bradley (Florence Briggs Th...</td>\n",
       "      <td>female</td>\n",
       "      <td>38.0</td>\n",
       "      <td>1</td>\n",
       "      <td>0</td>\n",
       "      <td>PC 17599</td>\n",
       "      <td>71.2833</td>\n",
       "      <td>C85</td>\n",
       "      <td>C</td>\n",
       "    </tr>\n",
       "    <tr>\n",
       "      <th>2</th>\n",
       "      <td>1</td>\n",
       "      <td>3</td>\n",
       "      <td>Heikkinen, Miss. Laina</td>\n",
       "      <td>female</td>\n",
       "      <td>26.0</td>\n",
       "      <td>0</td>\n",
       "      <td>0</td>\n",
       "      <td>STON/O2. 3101282</td>\n",
       "      <td>7.9250</td>\n",
       "      <td>NaN</td>\n",
       "      <td>S</td>\n",
       "    </tr>\n",
       "    <tr>\n",
       "      <th>3</th>\n",
       "      <td>1</td>\n",
       "      <td>1</td>\n",
       "      <td>Futrelle, Mrs. Jacques Heath (Lily May Peel)</td>\n",
       "      <td>female</td>\n",
       "      <td>35.0</td>\n",
       "      <td>1</td>\n",
       "      <td>0</td>\n",
       "      <td>113803</td>\n",
       "      <td>53.1000</td>\n",
       "      <td>C123</td>\n",
       "      <td>S</td>\n",
       "    </tr>\n",
       "    <tr>\n",
       "      <th>4</th>\n",
       "      <td>0</td>\n",
       "      <td>3</td>\n",
       "      <td>Allen, Mr. William Henry</td>\n",
       "      <td>male</td>\n",
       "      <td>35.0</td>\n",
       "      <td>0</td>\n",
       "      <td>0</td>\n",
       "      <td>373450</td>\n",
       "      <td>8.0500</td>\n",
       "      <td>NaN</td>\n",
       "      <td>S</td>\n",
       "    </tr>\n",
       "  </tbody>\n",
       "</table>\n",
       "</div>"
      ],
      "text/plain": [
       "   Survived  Pclass                                               Name  \\\n",
       "0         0       3                            Braund, Mr. Owen Harris   \n",
       "1         1       1  Cumings, Mrs. John Bradley (Florence Briggs Th...   \n",
       "2         1       3                             Heikkinen, Miss. Laina   \n",
       "3         1       1       Futrelle, Mrs. Jacques Heath (Lily May Peel)   \n",
       "4         0       3                           Allen, Mr. William Henry   \n",
       "\n",
       "      Sex   Age  SibSp  Parch            Ticket     Fare Cabin Embarked  \n",
       "0    male  22.0      1      0         A/5 21171   7.2500   NaN        S  \n",
       "1  female  38.0      1      0          PC 17599  71.2833   C85        C  \n",
       "2  female  26.0      0      0  STON/O2. 3101282   7.9250   NaN        S  \n",
       "3  female  35.0      1      0            113803  53.1000  C123        S  \n",
       "4    male  35.0      0      0            373450   8.0500   NaN        S  "
      ]
     },
     "execution_count": 45,
     "metadata": {},
     "output_type": "execute_result"
    }
   ],
   "source": [
    "df.head()"
   ]
  },
  {
   "cell_type": "code",
   "execution_count": 85,
   "metadata": {
    "ExecuteTime": {
     "end_time": "2022-12-19T17:13:19.608569Z",
     "start_time": "2022-12-19T17:13:19.604109Z"
    }
   },
   "outputs": [],
   "source": [
    "# TTS\n",
    "X = df.drop('Survived', axis=1)\n",
    "y = df.Survived\n",
    "\n",
    "X_train, X_test, y_train, y_test = train_test_split(X, y, random_state=42)"
   ]
  },
  {
   "cell_type": "markdown",
   "metadata": {},
   "source": [
    "## Handling Missing Values"
   ]
  },
  {
   "cell_type": "markdown",
   "metadata": {},
   "source": [
    "Let's be extra cautious and make a separate column to indicate whether there originally was a missing value.\n",
    "\n",
    "In our training data there are only missing values for a couple of the columns, but we can't be sure about where the test set will be missing data.\n",
    "\n",
    "The [`MissingIndicator`](https://scikit-learn.org/stable/modules/generated/sklearn.impute.MissingIndicator.html) from `sklearn` will mark the missing values in an input array."
   ]
  },
  {
   "cell_type": "code",
   "execution_count": 86,
   "metadata": {
    "ExecuteTime": {
     "end_time": "2022-12-19T17:13:20.120010Z",
     "start_time": "2022-12-19T17:13:20.115605Z"
    }
   },
   "outputs": [
    {
     "data": {
      "text/plain": [
       "array([3, 8, 9], dtype=int64)"
      ]
     },
     "execution_count": 86,
     "metadata": {},
     "output_type": "execute_result"
    }
   ],
   "source": [
    "indicator_demo = MissingIndicator()\n",
    "\n",
    "indicator_demo.fit(X_train)\n",
    "\n",
    "indicator_demo.features_"
   ]
  },
  {
   "cell_type": "code",
   "execution_count": 87,
   "metadata": {
    "ExecuteTime": {
     "end_time": "2022-12-19T17:13:20.263204Z",
     "start_time": "2022-12-19T17:13:20.259182Z"
    }
   },
   "outputs": [
    {
     "data": {
      "text/plain": [
       "array([[ True, False, False],\n",
       "       [False,  True, False],\n",
       "       [False,  True, False],\n",
       "       [False,  True, False],\n",
       "       [False, False, False]])"
      ]
     },
     "execution_count": 87,
     "metadata": {},
     "output_type": "execute_result"
    }
   ],
   "source": [
    "indicator_demo.transform(X_train)[:5, :]"
   ]
  },
  {
   "cell_type": "code",
   "execution_count": 88,
   "metadata": {
    "ExecuteTime": {
     "end_time": "2022-12-19T17:13:20.424419Z",
     "start_time": "2022-12-19T17:13:20.419243Z"
    }
   },
   "outputs": [
    {
     "data": {
      "text/html": [
       "<div>\n",
       "<style scoped>\n",
       "    .dataframe tbody tr th:only-of-type {\n",
       "        vertical-align: middle;\n",
       "    }\n",
       "\n",
       "    .dataframe tbody tr th {\n",
       "        vertical-align: top;\n",
       "    }\n",
       "\n",
       "    .dataframe thead th {\n",
       "        text-align: right;\n",
       "    }\n",
       "</style>\n",
       "<table border=\"1\" class=\"dataframe\">\n",
       "  <thead>\n",
       "    <tr style=\"text-align: right;\">\n",
       "      <th></th>\n",
       "      <th>Age</th>\n",
       "      <th>Cabin</th>\n",
       "      <th>Embarked</th>\n",
       "    </tr>\n",
       "  </thead>\n",
       "  <tbody>\n",
       "    <tr>\n",
       "      <th>298</th>\n",
       "      <td>NaN</td>\n",
       "      <td>C106</td>\n",
       "      <td>S</td>\n",
       "    </tr>\n",
       "    <tr>\n",
       "      <th>884</th>\n",
       "      <td>25.00</td>\n",
       "      <td>NaN</td>\n",
       "      <td>S</td>\n",
       "    </tr>\n",
       "    <tr>\n",
       "      <th>247</th>\n",
       "      <td>24.00</td>\n",
       "      <td>NaN</td>\n",
       "      <td>S</td>\n",
       "    </tr>\n",
       "    <tr>\n",
       "      <th>478</th>\n",
       "      <td>22.00</td>\n",
       "      <td>NaN</td>\n",
       "      <td>S</td>\n",
       "    </tr>\n",
       "    <tr>\n",
       "      <th>305</th>\n",
       "      <td>0.92</td>\n",
       "      <td>C22 C26</td>\n",
       "      <td>S</td>\n",
       "    </tr>\n",
       "  </tbody>\n",
       "</table>\n",
       "</div>"
      ],
      "text/plain": [
       "       Age    Cabin Embarked\n",
       "298    NaN     C106        S\n",
       "884  25.00      NaN        S\n",
       "247  24.00      NaN        S\n",
       "478  22.00      NaN        S\n",
       "305   0.92  C22 C26        S"
      ]
     },
     "execution_count": 88,
     "metadata": {},
     "output_type": "execute_result"
    }
   ],
   "source": [
    "X_train.iloc[:5, [3, 8, 9]]"
   ]
  },
  {
   "cell_type": "code",
   "execution_count": 89,
   "metadata": {
    "ExecuteTime": {
     "end_time": "2022-12-19T17:13:20.582333Z",
     "start_time": "2022-12-19T17:13:20.579307Z"
    }
   },
   "outputs": [
    {
     "data": {
      "text/plain": [
       "MissingIndicator(features='all')"
      ]
     },
     "execution_count": 89,
     "metadata": {},
     "output_type": "execute_result"
    }
   ],
   "source": [
    "indicator = MissingIndicator(features=\"all\")\n",
    "indicator.fit(X_train)"
   ]
  },
  {
   "cell_type": "code",
   "execution_count": 90,
   "metadata": {
    "ExecuteTime": {
     "end_time": "2022-12-19T17:13:20.741754Z",
     "start_time": "2022-12-19T17:13:20.739748Z"
    }
   },
   "outputs": [],
   "source": [
    "def add_missing_indicator_columns(X, indicator):\n",
    "    \"\"\"\n",
    "    Helper function for transforming features\n",
    "    \n",
    "    For every feature in X, create another feature indicating whether that feature\n",
    "    is missing. (This doubles the number of columns in X.)\n",
    "    \"\"\"\n",
    "    \n",
    "    # create a 2D array of True and False values indicating whether a given feature\n",
    "    # is missing for that row\n",
    "    missing_array_bool = indicator.transform(X)\n",
    "    \n",
    "    # transform into 1 and 0 for modeling\n",
    "    missing_array_int = missing_array_bool.astype(int)\n",
    "    \n",
    "    # helpful for readability but not needed for modeling\n",
    "    missing_column_names = [col + \"_missing\" for col in X.columns]\n",
    "    \n",
    "    # convert to df so it we can concat with X\n",
    "    missing_df = pd.DataFrame(missing_array_int, columns=missing_column_names, index=X.index)\n",
    "    \n",
    "    return pd.concat([X, missing_df], axis=1)"
   ]
  },
  {
   "cell_type": "markdown",
   "metadata": {},
   "source": [
    "Indicator for Training"
   ]
  },
  {
   "cell_type": "code",
   "execution_count": 91,
   "metadata": {
    "ExecuteTime": {
     "end_time": "2022-12-19T17:13:21.095044Z",
     "start_time": "2022-12-19T17:13:21.092016Z"
    }
   },
   "outputs": [],
   "source": [
    "X_train = add_missing_indicator_columns(X=X_train, indicator=indicator)"
   ]
  },
  {
   "cell_type": "code",
   "execution_count": 92,
   "metadata": {
    "ExecuteTime": {
     "end_time": "2022-12-19T17:13:21.403290Z",
     "start_time": "2022-12-19T17:13:21.395293Z"
    }
   },
   "outputs": [
    {
     "data": {
      "text/html": [
       "<div>\n",
       "<style scoped>\n",
       "    .dataframe tbody tr th:only-of-type {\n",
       "        vertical-align: middle;\n",
       "    }\n",
       "\n",
       "    .dataframe tbody tr th {\n",
       "        vertical-align: top;\n",
       "    }\n",
       "\n",
       "    .dataframe thead th {\n",
       "        text-align: right;\n",
       "    }\n",
       "</style>\n",
       "<table border=\"1\" class=\"dataframe\">\n",
       "  <thead>\n",
       "    <tr style=\"text-align: right;\">\n",
       "      <th></th>\n",
       "      <th>Pclass</th>\n",
       "      <th>Name</th>\n",
       "      <th>Sex</th>\n",
       "      <th>Age</th>\n",
       "      <th>SibSp</th>\n",
       "      <th>Parch</th>\n",
       "      <th>Ticket</th>\n",
       "      <th>Fare</th>\n",
       "      <th>Cabin</th>\n",
       "      <th>Embarked</th>\n",
       "      <th>Pclass_missing</th>\n",
       "      <th>Name_missing</th>\n",
       "      <th>Sex_missing</th>\n",
       "      <th>Age_missing</th>\n",
       "      <th>SibSp_missing</th>\n",
       "      <th>Parch_missing</th>\n",
       "      <th>Ticket_missing</th>\n",
       "      <th>Fare_missing</th>\n",
       "      <th>Cabin_missing</th>\n",
       "      <th>Embarked_missing</th>\n",
       "    </tr>\n",
       "  </thead>\n",
       "  <tbody>\n",
       "    <tr>\n",
       "      <th>298</th>\n",
       "      <td>1</td>\n",
       "      <td>Saalfeld, Mr. Adolphe</td>\n",
       "      <td>male</td>\n",
       "      <td>NaN</td>\n",
       "      <td>0</td>\n",
       "      <td>0</td>\n",
       "      <td>19988</td>\n",
       "      <td>30.5000</td>\n",
       "      <td>C106</td>\n",
       "      <td>S</td>\n",
       "      <td>0</td>\n",
       "      <td>0</td>\n",
       "      <td>0</td>\n",
       "      <td>1</td>\n",
       "      <td>0</td>\n",
       "      <td>0</td>\n",
       "      <td>0</td>\n",
       "      <td>0</td>\n",
       "      <td>0</td>\n",
       "      <td>0</td>\n",
       "    </tr>\n",
       "    <tr>\n",
       "      <th>884</th>\n",
       "      <td>3</td>\n",
       "      <td>Sutehall, Mr. Henry Jr</td>\n",
       "      <td>male</td>\n",
       "      <td>25.00</td>\n",
       "      <td>0</td>\n",
       "      <td>0</td>\n",
       "      <td>SOTON/OQ 392076</td>\n",
       "      <td>7.0500</td>\n",
       "      <td>NaN</td>\n",
       "      <td>S</td>\n",
       "      <td>0</td>\n",
       "      <td>0</td>\n",
       "      <td>0</td>\n",
       "      <td>0</td>\n",
       "      <td>0</td>\n",
       "      <td>0</td>\n",
       "      <td>0</td>\n",
       "      <td>0</td>\n",
       "      <td>1</td>\n",
       "      <td>0</td>\n",
       "    </tr>\n",
       "    <tr>\n",
       "      <th>247</th>\n",
       "      <td>2</td>\n",
       "      <td>Hamalainen, Mrs. William (Anna)</td>\n",
       "      <td>female</td>\n",
       "      <td>24.00</td>\n",
       "      <td>0</td>\n",
       "      <td>2</td>\n",
       "      <td>250649</td>\n",
       "      <td>14.5000</td>\n",
       "      <td>NaN</td>\n",
       "      <td>S</td>\n",
       "      <td>0</td>\n",
       "      <td>0</td>\n",
       "      <td>0</td>\n",
       "      <td>0</td>\n",
       "      <td>0</td>\n",
       "      <td>0</td>\n",
       "      <td>0</td>\n",
       "      <td>0</td>\n",
       "      <td>1</td>\n",
       "      <td>0</td>\n",
       "    </tr>\n",
       "    <tr>\n",
       "      <th>478</th>\n",
       "      <td>3</td>\n",
       "      <td>Karlsson, Mr. Nils August</td>\n",
       "      <td>male</td>\n",
       "      <td>22.00</td>\n",
       "      <td>0</td>\n",
       "      <td>0</td>\n",
       "      <td>350060</td>\n",
       "      <td>7.5208</td>\n",
       "      <td>NaN</td>\n",
       "      <td>S</td>\n",
       "      <td>0</td>\n",
       "      <td>0</td>\n",
       "      <td>0</td>\n",
       "      <td>0</td>\n",
       "      <td>0</td>\n",
       "      <td>0</td>\n",
       "      <td>0</td>\n",
       "      <td>0</td>\n",
       "      <td>1</td>\n",
       "      <td>0</td>\n",
       "    </tr>\n",
       "    <tr>\n",
       "      <th>305</th>\n",
       "      <td>1</td>\n",
       "      <td>Allison, Master. Hudson Trevor</td>\n",
       "      <td>male</td>\n",
       "      <td>0.92</td>\n",
       "      <td>1</td>\n",
       "      <td>2</td>\n",
       "      <td>113781</td>\n",
       "      <td>151.5500</td>\n",
       "      <td>C22 C26</td>\n",
       "      <td>S</td>\n",
       "      <td>0</td>\n",
       "      <td>0</td>\n",
       "      <td>0</td>\n",
       "      <td>0</td>\n",
       "      <td>0</td>\n",
       "      <td>0</td>\n",
       "      <td>0</td>\n",
       "      <td>0</td>\n",
       "      <td>0</td>\n",
       "      <td>0</td>\n",
       "    </tr>\n",
       "  </tbody>\n",
       "</table>\n",
       "</div>"
      ],
      "text/plain": [
       "     Pclass                             Name     Sex    Age  SibSp  Parch  \\\n",
       "298       1            Saalfeld, Mr. Adolphe    male    NaN      0      0   \n",
       "884       3           Sutehall, Mr. Henry Jr    male  25.00      0      0   \n",
       "247       2  Hamalainen, Mrs. William (Anna)  female  24.00      0      2   \n",
       "478       3        Karlsson, Mr. Nils August    male  22.00      0      0   \n",
       "305       1   Allison, Master. Hudson Trevor    male   0.92      1      2   \n",
       "\n",
       "              Ticket      Fare    Cabin Embarked  Pclass_missing  \\\n",
       "298            19988   30.5000     C106        S               0   \n",
       "884  SOTON/OQ 392076    7.0500      NaN        S               0   \n",
       "247           250649   14.5000      NaN        S               0   \n",
       "478           350060    7.5208      NaN        S               0   \n",
       "305           113781  151.5500  C22 C26        S               0   \n",
       "\n",
       "     Name_missing  Sex_missing  Age_missing  SibSp_missing  Parch_missing  \\\n",
       "298             0            0            1              0              0   \n",
       "884             0            0            0              0              0   \n",
       "247             0            0            0              0              0   \n",
       "478             0            0            0              0              0   \n",
       "305             0            0            0              0              0   \n",
       "\n",
       "     Ticket_missing  Fare_missing  Cabin_missing  Embarked_missing  \n",
       "298               0             0              0                 0  \n",
       "884               0             0              1                 0  \n",
       "247               0             0              1                 0  \n",
       "478               0             0              1                 0  \n",
       "305               0             0              0                 0  "
      ]
     },
     "execution_count": 92,
     "metadata": {},
     "output_type": "execute_result"
    }
   ],
   "source": [
    "X_train.head()"
   ]
  },
  {
   "cell_type": "markdown",
   "metadata": {},
   "source": [
    "Now that we've specified which values were originally missing, let's fill in those missing values.  This takes two separate imputers because we want to use the mean for numeric data and the majority class for categorical data.\n",
    "\n",
    "The `SimpleImputer` class fills in the mean value by default, so we'll have to override that for the categorical columns."
   ]
  },
  {
   "cell_type": "code",
   "execution_count": 93,
   "metadata": {
    "ExecuteTime": {
     "end_time": "2022-12-19T17:13:21.838698Z",
     "start_time": "2022-12-19T17:13:21.835225Z"
    }
   },
   "outputs": [],
   "source": [
    "numeric_feature_names = [\"Age\", \"SibSp\", \"Parch\", \"Fare\"]\n",
    "categorical_feature_names = [\"Pclass\", \"Name\", \"Sex\", \"Ticket\", \"Cabin\", \"Embarked\"]\n",
    "\n",
    "# creating two new data frames\n",
    "X_train_numeric = X_train[numeric_feature_names]\n",
    "X_train_categorical = X_train[categorical_feature_names]"
   ]
  },
  {
   "cell_type": "markdown",
   "metadata": {},
   "source": [
    "We'll build a function here to minimize our work of imputation:"
   ]
  },
  {
   "cell_type": "code",
   "execution_count": 94,
   "metadata": {
    "ExecuteTime": {
     "end_time": "2022-12-19T17:13:22.269346Z",
     "start_time": "2022-12-19T17:13:22.267273Z"
    }
   },
   "outputs": [],
   "source": [
    "def impute_missing_values(X, imputer):\n",
    "    \"\"\"\n",
    "    Given a DataFrame and an imputer, use the imputer to fill in all\n",
    "    missing values in the DataFrame\n",
    "    \"\"\"\n",
    "    imputed_array = imputer.transform(X)\n",
    "    imputed_df = pd.DataFrame(imputed_array, columns=X.columns, index=X.index)\n",
    "    return imputed_df"
   ]
  },
  {
   "cell_type": "markdown",
   "metadata": {},
   "source": [
    "Double-check to make sure that all of the missing values are gone:"
   ]
  },
  {
   "cell_type": "code",
   "execution_count": 95,
   "metadata": {
    "ExecuteTime": {
     "end_time": "2022-12-19T17:13:22.678759Z",
     "start_time": "2022-12-19T17:13:22.675273Z"
    }
   },
   "outputs": [],
   "source": [
    "# Numerics!\n",
    "numeric_imputer = SimpleImputer().fit(X_train_numeric)"
   ]
  },
  {
   "cell_type": "code",
   "execution_count": 96,
   "metadata": {
    "ExecuteTime": {
     "end_time": "2022-12-19T17:13:22.904576Z",
     "start_time": "2022-12-19T17:13:22.899712Z"
    }
   },
   "outputs": [],
   "source": [
    "# Categoricals!\n",
    "categorical_imputer = SimpleImputer(strategy='most_frequent').fit(X_train_categorical)"
   ]
  },
  {
   "cell_type": "code",
   "execution_count": 97,
   "metadata": {
    "ExecuteTime": {
     "end_time": "2022-12-19T17:13:23.134868Z",
     "start_time": "2022-12-19T17:13:23.131404Z"
    }
   },
   "outputs": [],
   "source": [
    "X_train_numeric = impute_missing_values(X_train_numeric, numeric_imputer)"
   ]
  },
  {
   "cell_type": "code",
   "execution_count": 98,
   "metadata": {
    "ExecuteTime": {
     "end_time": "2022-12-19T17:13:23.423268Z",
     "start_time": "2022-12-19T17:13:23.420258Z"
    }
   },
   "outputs": [],
   "source": [
    "X_train_categorical = impute_missing_values(X_train_categorical, categorical_imputer)"
   ]
  },
  {
   "cell_type": "code",
   "execution_count": 99,
   "metadata": {
    "ExecuteTime": {
     "end_time": "2022-12-19T17:13:23.591069Z",
     "start_time": "2022-12-19T17:13:23.588055Z"
    }
   },
   "outputs": [
    {
     "data": {
      "text/plain": [
       "Age      0\n",
       "SibSp    0\n",
       "Parch    0\n",
       "Fare     0\n",
       "dtype: int64"
      ]
     },
     "execution_count": 99,
     "metadata": {},
     "output_type": "execute_result"
    }
   ],
   "source": [
    "# Double Check\n",
    "X_train_numeric.isna().sum()"
   ]
  },
  {
   "cell_type": "code",
   "execution_count": 100,
   "metadata": {
    "ExecuteTime": {
     "end_time": "2022-12-19T17:13:23.822811Z",
     "start_time": "2022-12-19T17:13:23.819291Z"
    }
   },
   "outputs": [
    {
     "data": {
      "text/plain": [
       "Pclass      0\n",
       "Name        0\n",
       "Sex         0\n",
       "Ticket      0\n",
       "Cabin       0\n",
       "Embarked    0\n",
       "dtype: int64"
      ]
     },
     "execution_count": 100,
     "metadata": {},
     "output_type": "execute_result"
    }
   ],
   "source": [
    "X_train_categorical.isna().sum()"
   ]
  },
  {
   "cell_type": "markdown",
   "metadata": {},
   "source": [
    "Drop all of the old columns from X_train, then concat the new imputed ones:"
   ]
  },
  {
   "cell_type": "code",
   "execution_count": 101,
   "metadata": {
    "ExecuteTime": {
     "end_time": "2022-12-19T17:13:24.734402Z",
     "start_time": "2022-12-19T17:13:24.731888Z"
    }
   },
   "outputs": [],
   "source": [
    "X_train = X_train.drop(numeric_feature_names + categorical_feature_names, axis=1)"
   ]
  },
  {
   "cell_type": "code",
   "execution_count": 102,
   "metadata": {
    "ExecuteTime": {
     "end_time": "2022-12-19T17:13:24.917879Z",
     "start_time": "2022-12-19T17:13:24.915404Z"
    }
   },
   "outputs": [],
   "source": [
    "X_train = pd.concat([X_train_numeric, X_train_categorical, X_train], axis=1)"
   ]
  },
  {
   "cell_type": "code",
   "execution_count": 103,
   "metadata": {
    "ExecuteTime": {
     "end_time": "2022-12-19T17:13:25.131261Z",
     "start_time": "2022-12-19T17:13:25.123850Z"
    }
   },
   "outputs": [
    {
     "data": {
      "text/html": [
       "<div>\n",
       "<style scoped>\n",
       "    .dataframe tbody tr th:only-of-type {\n",
       "        vertical-align: middle;\n",
       "    }\n",
       "\n",
       "    .dataframe tbody tr th {\n",
       "        vertical-align: top;\n",
       "    }\n",
       "\n",
       "    .dataframe thead th {\n",
       "        text-align: right;\n",
       "    }\n",
       "</style>\n",
       "<table border=\"1\" class=\"dataframe\">\n",
       "  <thead>\n",
       "    <tr style=\"text-align: right;\">\n",
       "      <th></th>\n",
       "      <th>Age</th>\n",
       "      <th>SibSp</th>\n",
       "      <th>Parch</th>\n",
       "      <th>Fare</th>\n",
       "      <th>Pclass</th>\n",
       "      <th>Name</th>\n",
       "      <th>Sex</th>\n",
       "      <th>Ticket</th>\n",
       "      <th>Cabin</th>\n",
       "      <th>Embarked</th>\n",
       "      <th>Pclass_missing</th>\n",
       "      <th>Name_missing</th>\n",
       "      <th>Sex_missing</th>\n",
       "      <th>Age_missing</th>\n",
       "      <th>SibSp_missing</th>\n",
       "      <th>Parch_missing</th>\n",
       "      <th>Ticket_missing</th>\n",
       "      <th>Fare_missing</th>\n",
       "      <th>Cabin_missing</th>\n",
       "      <th>Embarked_missing</th>\n",
       "    </tr>\n",
       "  </thead>\n",
       "  <tbody>\n",
       "    <tr>\n",
       "      <th>298</th>\n",
       "      <td>29.421343</td>\n",
       "      <td>0.0</td>\n",
       "      <td>0.0</td>\n",
       "      <td>30.5000</td>\n",
       "      <td>1</td>\n",
       "      <td>Saalfeld, Mr. Adolphe</td>\n",
       "      <td>male</td>\n",
       "      <td>19988</td>\n",
       "      <td>C106</td>\n",
       "      <td>S</td>\n",
       "      <td>0</td>\n",
       "      <td>0</td>\n",
       "      <td>0</td>\n",
       "      <td>1</td>\n",
       "      <td>0</td>\n",
       "      <td>0</td>\n",
       "      <td>0</td>\n",
       "      <td>0</td>\n",
       "      <td>0</td>\n",
       "      <td>0</td>\n",
       "    </tr>\n",
       "    <tr>\n",
       "      <th>884</th>\n",
       "      <td>25.000000</td>\n",
       "      <td>0.0</td>\n",
       "      <td>0.0</td>\n",
       "      <td>7.0500</td>\n",
       "      <td>3</td>\n",
       "      <td>Sutehall, Mr. Henry Jr</td>\n",
       "      <td>male</td>\n",
       "      <td>SOTON/OQ 392076</td>\n",
       "      <td>C23 C25 C27</td>\n",
       "      <td>S</td>\n",
       "      <td>0</td>\n",
       "      <td>0</td>\n",
       "      <td>0</td>\n",
       "      <td>0</td>\n",
       "      <td>0</td>\n",
       "      <td>0</td>\n",
       "      <td>0</td>\n",
       "      <td>0</td>\n",
       "      <td>1</td>\n",
       "      <td>0</td>\n",
       "    </tr>\n",
       "    <tr>\n",
       "      <th>247</th>\n",
       "      <td>24.000000</td>\n",
       "      <td>0.0</td>\n",
       "      <td>2.0</td>\n",
       "      <td>14.5000</td>\n",
       "      <td>2</td>\n",
       "      <td>Hamalainen, Mrs. William (Anna)</td>\n",
       "      <td>female</td>\n",
       "      <td>250649</td>\n",
       "      <td>C23 C25 C27</td>\n",
       "      <td>S</td>\n",
       "      <td>0</td>\n",
       "      <td>0</td>\n",
       "      <td>0</td>\n",
       "      <td>0</td>\n",
       "      <td>0</td>\n",
       "      <td>0</td>\n",
       "      <td>0</td>\n",
       "      <td>0</td>\n",
       "      <td>1</td>\n",
       "      <td>0</td>\n",
       "    </tr>\n",
       "    <tr>\n",
       "      <th>478</th>\n",
       "      <td>22.000000</td>\n",
       "      <td>0.0</td>\n",
       "      <td>0.0</td>\n",
       "      <td>7.5208</td>\n",
       "      <td>3</td>\n",
       "      <td>Karlsson, Mr. Nils August</td>\n",
       "      <td>male</td>\n",
       "      <td>350060</td>\n",
       "      <td>C23 C25 C27</td>\n",
       "      <td>S</td>\n",
       "      <td>0</td>\n",
       "      <td>0</td>\n",
       "      <td>0</td>\n",
       "      <td>0</td>\n",
       "      <td>0</td>\n",
       "      <td>0</td>\n",
       "      <td>0</td>\n",
       "      <td>0</td>\n",
       "      <td>1</td>\n",
       "      <td>0</td>\n",
       "    </tr>\n",
       "    <tr>\n",
       "      <th>305</th>\n",
       "      <td>0.920000</td>\n",
       "      <td>1.0</td>\n",
       "      <td>2.0</td>\n",
       "      <td>151.5500</td>\n",
       "      <td>1</td>\n",
       "      <td>Allison, Master. Hudson Trevor</td>\n",
       "      <td>male</td>\n",
       "      <td>113781</td>\n",
       "      <td>C22 C26</td>\n",
       "      <td>S</td>\n",
       "      <td>0</td>\n",
       "      <td>0</td>\n",
       "      <td>0</td>\n",
       "      <td>0</td>\n",
       "      <td>0</td>\n",
       "      <td>0</td>\n",
       "      <td>0</td>\n",
       "      <td>0</td>\n",
       "      <td>0</td>\n",
       "      <td>0</td>\n",
       "    </tr>\n",
       "  </tbody>\n",
       "</table>\n",
       "</div>"
      ],
      "text/plain": [
       "           Age  SibSp  Parch      Fare Pclass  \\\n",
       "298  29.421343    0.0    0.0   30.5000      1   \n",
       "884  25.000000    0.0    0.0    7.0500      3   \n",
       "247  24.000000    0.0    2.0   14.5000      2   \n",
       "478  22.000000    0.0    0.0    7.5208      3   \n",
       "305   0.920000    1.0    2.0  151.5500      1   \n",
       "\n",
       "                                Name     Sex           Ticket        Cabin  \\\n",
       "298            Saalfeld, Mr. Adolphe    male            19988         C106   \n",
       "884           Sutehall, Mr. Henry Jr    male  SOTON/OQ 392076  C23 C25 C27   \n",
       "247  Hamalainen, Mrs. William (Anna)  female           250649  C23 C25 C27   \n",
       "478        Karlsson, Mr. Nils August    male           350060  C23 C25 C27   \n",
       "305   Allison, Master. Hudson Trevor    male           113781      C22 C26   \n",
       "\n",
       "    Embarked  Pclass_missing  Name_missing  Sex_missing  Age_missing  \\\n",
       "298        S               0             0            0            1   \n",
       "884        S               0             0            0            0   \n",
       "247        S               0             0            0            0   \n",
       "478        S               0             0            0            0   \n",
       "305        S               0             0            0            0   \n",
       "\n",
       "     SibSp_missing  Parch_missing  Ticket_missing  Fare_missing  \\\n",
       "298              0              0               0             0   \n",
       "884              0              0               0             0   \n",
       "247              0              0               0             0   \n",
       "478              0              0               0             0   \n",
       "305              0              0               0             0   \n",
       "\n",
       "     Cabin_missing  Embarked_missing  \n",
       "298              0                 0  \n",
       "884              1                 0  \n",
       "247              1                 0  \n",
       "478              1                 0  \n",
       "305              0                 0  "
      ]
     },
     "execution_count": 103,
     "metadata": {},
     "output_type": "execute_result"
    }
   ],
   "source": [
    "X_train.head()"
   ]
  },
  {
   "cell_type": "code",
   "execution_count": 104,
   "metadata": {
    "ExecuteTime": {
     "end_time": "2022-12-19T17:13:47.655542Z",
     "start_time": "2022-12-19T17:13:47.651343Z"
    }
   },
   "outputs": [
    {
     "data": {
      "text/plain": [
       "Age                 0\n",
       "SibSp               0\n",
       "Parch               0\n",
       "Fare                0\n",
       "Pclass              0\n",
       "Name                0\n",
       "Sex                 0\n",
       "Ticket              0\n",
       "Cabin               0\n",
       "Embarked            0\n",
       "Pclass_missing      0\n",
       "Name_missing        0\n",
       "Sex_missing         0\n",
       "Age_missing         0\n",
       "SibSp_missing       0\n",
       "Parch_missing       0\n",
       "Ticket_missing      0\n",
       "Fare_missing        0\n",
       "Cabin_missing       0\n",
       "Embarked_missing    0\n",
       "dtype: int64"
      ]
     },
     "execution_count": 104,
     "metadata": {},
     "output_type": "execute_result"
    }
   ],
   "source": [
    "X_train.isna().sum()"
   ]
  },
  {
   "cell_type": "markdown",
   "metadata": {},
   "source": [
    "## One-Hot Encoding"
   ]
  },
  {
   "cell_type": "markdown",
   "metadata": {},
   "source": [
    "Now that there are no missing values, convert all of the categorical features into numbers."
   ]
  },
  {
   "cell_type": "code",
   "execution_count": 105,
   "metadata": {
    "ExecuteTime": {
     "end_time": "2022-12-19T17:13:52.645861Z",
     "start_time": "2022-12-19T17:13:52.643847Z"
    }
   },
   "outputs": [],
   "source": [
    "def encode_and_concat_feature_train(X_train, feature_name):\n",
    "    \"\"\"\n",
    "    Helper function for transforming training data.  It takes in the full X dataframe and\n",
    "    feature name, makes a one-hot encoder, and returns the encoder as well as the dataframe\n",
    "    with that feature transformed into multiple columns of 1s and 0s\n",
    "    \"\"\"\n",
    "    # make a one-hot encoder and fit it to the training data\n",
    "    ohe = OneHotEncoder(categories=\"auto\", handle_unknown=\"ignore\")\n",
    "    single_feature_df = X_train[[feature_name]]\n",
    "    ohe.fit(single_feature_df)\n",
    "    \n",
    "    # call helper function that actually encodes the feature and concats it\n",
    "    X_train = encode_and_concat_feature(X_train, feature_name, ohe)\n",
    "    \n",
    "    return ohe, X_train"
   ]
  },
  {
   "cell_type": "code",
   "execution_count": 106,
   "metadata": {
    "ExecuteTime": {
     "end_time": "2022-12-19T17:13:56.127897Z",
     "start_time": "2022-12-19T17:13:56.124868Z"
    }
   },
   "outputs": [],
   "source": [
    "def encode_and_concat_feature(X, feature_name, ohe):\n",
    "    \"\"\"\n",
    "    Helper function for transforming a feature into multiple columns of 1s and 0s. Used\n",
    "    in both training and testing steps.  Takes in the full X dataframe, feature name, \n",
    "    and encoder, and returns the dataframe with that feature transformed into multiple\n",
    "    columns of 1s and 0s\n",
    "    \"\"\"\n",
    "    # create new one-hot encoded df based on the feature\n",
    "    single_feature_df = X[[feature_name]]\n",
    "    feature_array = ohe.transform(single_feature_df).toarray()\n",
    "    ohe_df = pd.DataFrame(feature_array, columns=ohe.categories_[0], index=X.index)\n",
    "    \n",
    "    # drop the old feature from X and concat the new one-hot encoded df\n",
    "    X = X.drop(feature_name, axis=1)\n",
    "    X = pd.concat([X, ohe_df], axis=1)\n",
    "    \n",
    "    return X"
   ]
  },
  {
   "cell_type": "code",
   "execution_count": 107,
   "metadata": {
    "ExecuteTime": {
     "end_time": "2022-12-19T17:15:01.335429Z",
     "start_time": "2022-12-19T17:15:01.305850Z"
    }
   },
   "outputs": [],
   "source": [
    "encoders = {}\n",
    "\n",
    "for categorical_feature in categorical_feature_names:\n",
    "    ohe, X_train = encode_and_concat_feature_train(X_train, categorical_feature)\n",
    "    encoders[categorical_feature] = ohe"
   ]
  },
  {
   "cell_type": "code",
   "execution_count": 109,
   "metadata": {
    "ExecuteTime": {
     "end_time": "2022-12-19T17:16:12.670282Z",
     "start_time": "2022-12-19T17:16:12.663523Z"
    }
   },
   "outputs": [
    {
     "data": {
      "text/html": [
       "<div>\n",
       "<style scoped>\n",
       "    .dataframe tbody tr th:only-of-type {\n",
       "        vertical-align: middle;\n",
       "    }\n",
       "\n",
       "    .dataframe tbody tr th {\n",
       "        vertical-align: top;\n",
       "    }\n",
       "\n",
       "    .dataframe thead th {\n",
       "        text-align: right;\n",
       "    }\n",
       "</style>\n",
       "<table border=\"1\" class=\"dataframe\">\n",
       "  <thead>\n",
       "    <tr style=\"text-align: right;\">\n",
       "      <th></th>\n",
       "      <th>Pclass</th>\n",
       "      <th>Name</th>\n",
       "      <th>Sex</th>\n",
       "      <th>Age</th>\n",
       "      <th>SibSp</th>\n",
       "      <th>Parch</th>\n",
       "      <th>Ticket</th>\n",
       "      <th>Fare</th>\n",
       "      <th>Cabin</th>\n",
       "      <th>Embarked</th>\n",
       "    </tr>\n",
       "  </thead>\n",
       "  <tbody>\n",
       "    <tr>\n",
       "      <th>0</th>\n",
       "      <td>3</td>\n",
       "      <td>Braund, Mr. Owen Harris</td>\n",
       "      <td>male</td>\n",
       "      <td>22.0</td>\n",
       "      <td>1</td>\n",
       "      <td>0</td>\n",
       "      <td>A/5 21171</td>\n",
       "      <td>7.2500</td>\n",
       "      <td>NaN</td>\n",
       "      <td>S</td>\n",
       "    </tr>\n",
       "    <tr>\n",
       "      <th>1</th>\n",
       "      <td>1</td>\n",
       "      <td>Cumings, Mrs. John Bradley (Florence Briggs Th...</td>\n",
       "      <td>female</td>\n",
       "      <td>38.0</td>\n",
       "      <td>1</td>\n",
       "      <td>0</td>\n",
       "      <td>PC 17599</td>\n",
       "      <td>71.2833</td>\n",
       "      <td>C85</td>\n",
       "      <td>C</td>\n",
       "    </tr>\n",
       "    <tr>\n",
       "      <th>2</th>\n",
       "      <td>3</td>\n",
       "      <td>Heikkinen, Miss. Laina</td>\n",
       "      <td>female</td>\n",
       "      <td>26.0</td>\n",
       "      <td>0</td>\n",
       "      <td>0</td>\n",
       "      <td>STON/O2. 3101282</td>\n",
       "      <td>7.9250</td>\n",
       "      <td>NaN</td>\n",
       "      <td>S</td>\n",
       "    </tr>\n",
       "    <tr>\n",
       "      <th>3</th>\n",
       "      <td>1</td>\n",
       "      <td>Futrelle, Mrs. Jacques Heath (Lily May Peel)</td>\n",
       "      <td>female</td>\n",
       "      <td>35.0</td>\n",
       "      <td>1</td>\n",
       "      <td>0</td>\n",
       "      <td>113803</td>\n",
       "      <td>53.1000</td>\n",
       "      <td>C123</td>\n",
       "      <td>S</td>\n",
       "    </tr>\n",
       "    <tr>\n",
       "      <th>4</th>\n",
       "      <td>3</td>\n",
       "      <td>Allen, Mr. William Henry</td>\n",
       "      <td>male</td>\n",
       "      <td>35.0</td>\n",
       "      <td>0</td>\n",
       "      <td>0</td>\n",
       "      <td>373450</td>\n",
       "      <td>8.0500</td>\n",
       "      <td>NaN</td>\n",
       "      <td>S</td>\n",
       "    </tr>\n",
       "  </tbody>\n",
       "</table>\n",
       "</div>"
      ],
      "text/plain": [
       "   Pclass                                               Name     Sex   Age  \\\n",
       "0       3                            Braund, Mr. Owen Harris    male  22.0   \n",
       "1       1  Cumings, Mrs. John Bradley (Florence Briggs Th...  female  38.0   \n",
       "2       3                             Heikkinen, Miss. Laina  female  26.0   \n",
       "3       1       Futrelle, Mrs. Jacques Heath (Lily May Peel)  female  35.0   \n",
       "4       3                           Allen, Mr. William Henry    male  35.0   \n",
       "\n",
       "   SibSp  Parch            Ticket     Fare Cabin Embarked  \n",
       "0      1      0         A/5 21171   7.2500   NaN        S  \n",
       "1      1      0          PC 17599  71.2833   C85        C  \n",
       "2      0      0  STON/O2. 3101282   7.9250   NaN        S  \n",
       "3      1      0            113803  53.1000  C123        S  \n",
       "4      0      0            373450   8.0500   NaN        S  "
      ]
     },
     "execution_count": 109,
     "metadata": {},
     "output_type": "execute_result"
    }
   ],
   "source": [
    "X.head()"
   ]
  },
  {
   "cell_type": "code",
   "execution_count": 108,
   "metadata": {
    "ExecuteTime": {
     "end_time": "2022-12-19T17:15:20.826868Z",
     "start_time": "2022-12-19T17:15:20.816983Z"
    }
   },
   "outputs": [
    {
     "data": {
      "text/html": [
       "<div>\n",
       "<style scoped>\n",
       "    .dataframe tbody tr th:only-of-type {\n",
       "        vertical-align: middle;\n",
       "    }\n",
       "\n",
       "    .dataframe tbody tr th {\n",
       "        vertical-align: top;\n",
       "    }\n",
       "\n",
       "    .dataframe thead th {\n",
       "        text-align: right;\n",
       "    }\n",
       "</style>\n",
       "<table border=\"1\" class=\"dataframe\">\n",
       "  <thead>\n",
       "    <tr style=\"text-align: right;\">\n",
       "      <th></th>\n",
       "      <th>Age</th>\n",
       "      <th>SibSp</th>\n",
       "      <th>Parch</th>\n",
       "      <th>Fare</th>\n",
       "      <th>Pclass_missing</th>\n",
       "      <th>Name_missing</th>\n",
       "      <th>Sex_missing</th>\n",
       "      <th>Age_missing</th>\n",
       "      <th>SibSp_missing</th>\n",
       "      <th>Parch_missing</th>\n",
       "      <th>...</th>\n",
       "      <th>F G73</th>\n",
       "      <th>F2</th>\n",
       "      <th>F33</th>\n",
       "      <th>F38</th>\n",
       "      <th>F4</th>\n",
       "      <th>G6</th>\n",
       "      <th>T</th>\n",
       "      <th>C</th>\n",
       "      <th>Q</th>\n",
       "      <th>S</th>\n",
       "    </tr>\n",
       "  </thead>\n",
       "  <tbody>\n",
       "    <tr>\n",
       "      <th>298</th>\n",
       "      <td>29.421343</td>\n",
       "      <td>0.0</td>\n",
       "      <td>0.0</td>\n",
       "      <td>30.5000</td>\n",
       "      <td>0</td>\n",
       "      <td>0</td>\n",
       "      <td>0</td>\n",
       "      <td>1</td>\n",
       "      <td>0</td>\n",
       "      <td>0</td>\n",
       "      <td>...</td>\n",
       "      <td>0.0</td>\n",
       "      <td>0.0</td>\n",
       "      <td>0.0</td>\n",
       "      <td>0.0</td>\n",
       "      <td>0.0</td>\n",
       "      <td>0.0</td>\n",
       "      <td>0.0</td>\n",
       "      <td>0.0</td>\n",
       "      <td>0.0</td>\n",
       "      <td>1.0</td>\n",
       "    </tr>\n",
       "    <tr>\n",
       "      <th>884</th>\n",
       "      <td>25.000000</td>\n",
       "      <td>0.0</td>\n",
       "      <td>0.0</td>\n",
       "      <td>7.0500</td>\n",
       "      <td>0</td>\n",
       "      <td>0</td>\n",
       "      <td>0</td>\n",
       "      <td>0</td>\n",
       "      <td>0</td>\n",
       "      <td>0</td>\n",
       "      <td>...</td>\n",
       "      <td>0.0</td>\n",
       "      <td>0.0</td>\n",
       "      <td>0.0</td>\n",
       "      <td>0.0</td>\n",
       "      <td>0.0</td>\n",
       "      <td>0.0</td>\n",
       "      <td>0.0</td>\n",
       "      <td>0.0</td>\n",
       "      <td>0.0</td>\n",
       "      <td>1.0</td>\n",
       "    </tr>\n",
       "    <tr>\n",
       "      <th>247</th>\n",
       "      <td>24.000000</td>\n",
       "      <td>0.0</td>\n",
       "      <td>2.0</td>\n",
       "      <td>14.5000</td>\n",
       "      <td>0</td>\n",
       "      <td>0</td>\n",
       "      <td>0</td>\n",
       "      <td>0</td>\n",
       "      <td>0</td>\n",
       "      <td>0</td>\n",
       "      <td>...</td>\n",
       "      <td>0.0</td>\n",
       "      <td>0.0</td>\n",
       "      <td>0.0</td>\n",
       "      <td>0.0</td>\n",
       "      <td>0.0</td>\n",
       "      <td>0.0</td>\n",
       "      <td>0.0</td>\n",
       "      <td>0.0</td>\n",
       "      <td>0.0</td>\n",
       "      <td>1.0</td>\n",
       "    </tr>\n",
       "    <tr>\n",
       "      <th>478</th>\n",
       "      <td>22.000000</td>\n",
       "      <td>0.0</td>\n",
       "      <td>0.0</td>\n",
       "      <td>7.5208</td>\n",
       "      <td>0</td>\n",
       "      <td>0</td>\n",
       "      <td>0</td>\n",
       "      <td>0</td>\n",
       "      <td>0</td>\n",
       "      <td>0</td>\n",
       "      <td>...</td>\n",
       "      <td>0.0</td>\n",
       "      <td>0.0</td>\n",
       "      <td>0.0</td>\n",
       "      <td>0.0</td>\n",
       "      <td>0.0</td>\n",
       "      <td>0.0</td>\n",
       "      <td>0.0</td>\n",
       "      <td>0.0</td>\n",
       "      <td>0.0</td>\n",
       "      <td>1.0</td>\n",
       "    </tr>\n",
       "    <tr>\n",
       "      <th>305</th>\n",
       "      <td>0.920000</td>\n",
       "      <td>1.0</td>\n",
       "      <td>2.0</td>\n",
       "      <td>151.5500</td>\n",
       "      <td>0</td>\n",
       "      <td>0</td>\n",
       "      <td>0</td>\n",
       "      <td>0</td>\n",
       "      <td>0</td>\n",
       "      <td>0</td>\n",
       "      <td>...</td>\n",
       "      <td>0.0</td>\n",
       "      <td>0.0</td>\n",
       "      <td>0.0</td>\n",
       "      <td>0.0</td>\n",
       "      <td>0.0</td>\n",
       "      <td>0.0</td>\n",
       "      <td>0.0</td>\n",
       "      <td>0.0</td>\n",
       "      <td>0.0</td>\n",
       "      <td>1.0</td>\n",
       "    </tr>\n",
       "  </tbody>\n",
       "</table>\n",
       "<p>5 rows × 1332 columns</p>\n",
       "</div>"
      ],
      "text/plain": [
       "           Age  SibSp  Parch      Fare  Pclass_missing  Name_missing  \\\n",
       "298  29.421343    0.0    0.0   30.5000               0             0   \n",
       "884  25.000000    0.0    0.0    7.0500               0             0   \n",
       "247  24.000000    0.0    2.0   14.5000               0             0   \n",
       "478  22.000000    0.0    0.0    7.5208               0             0   \n",
       "305   0.920000    1.0    2.0  151.5500               0             0   \n",
       "\n",
       "     Sex_missing  Age_missing  SibSp_missing  Parch_missing  ...  F G73   F2  \\\n",
       "298            0            1              0              0  ...    0.0  0.0   \n",
       "884            0            0              0              0  ...    0.0  0.0   \n",
       "247            0            0              0              0  ...    0.0  0.0   \n",
       "478            0            0              0              0  ...    0.0  0.0   \n",
       "305            0            0              0              0  ...    0.0  0.0   \n",
       "\n",
       "     F33  F38   F4   G6    T    C    Q    S  \n",
       "298  0.0  0.0  0.0  0.0  0.0  0.0  0.0  1.0  \n",
       "884  0.0  0.0  0.0  0.0  0.0  0.0  0.0  1.0  \n",
       "247  0.0  0.0  0.0  0.0  0.0  0.0  0.0  1.0  \n",
       "478  0.0  0.0  0.0  0.0  0.0  0.0  0.0  1.0  \n",
       "305  0.0  0.0  0.0  0.0  0.0  0.0  0.0  1.0  \n",
       "\n",
       "[5 rows x 1332 columns]"
      ]
     },
     "execution_count": 108,
     "metadata": {},
     "output_type": "execute_result"
    }
   ],
   "source": [
    "X_train.head()"
   ]
  },
  {
   "cell_type": "markdown",
   "metadata": {},
   "source": [
    "This is...a ridiculous number of columns.  How did we end up with more columns than rows?\n",
    "\n"
   ]
  },
  {
   "cell_type": "markdown",
   "metadata": {},
   "source": [
    "# 3rd Model - After More Data Preparation"
   ]
  },
  {
   "cell_type": "markdown",
   "metadata": {},
   "source": [
    "Let's run a logistic regression on our ridiculous number of columns:"
   ]
  },
  {
   "cell_type": "code",
   "execution_count": 113,
   "metadata": {
    "ExecuteTime": {
     "end_time": "2022-12-19T17:18:54.006035Z",
     "start_time": "2022-12-19T17:18:54.002944Z"
    },
    "scrolled": true
   },
   "outputs": [],
   "source": [
    "# logreg\n",
    "logreg_model = LogisticRegression(random_state=42, penalty='none') # max_iter=100"
   ]
  },
  {
   "cell_type": "code",
   "execution_count": 114,
   "metadata": {
    "ExecuteTime": {
     "end_time": "2022-12-19T17:18:55.197906Z",
     "start_time": "2022-12-19T17:18:55.147821Z"
    }
   },
   "outputs": [
    {
     "name": "stderr",
     "output_type": "stream",
     "text": [
      "C:\\Users\\nacnu\\anaconda3\\envs\\learn-env\\lib\\site-packages\\sklearn\\linear_model\\_logistic.py:762: ConvergenceWarning: lbfgs failed to converge (status=1):\n",
      "STOP: TOTAL NO. of ITERATIONS REACHED LIMIT.\n",
      "\n",
      "Increase the number of iterations (max_iter) or scale the data as shown in:\n",
      "    https://scikit-learn.org/stable/modules/preprocessing.html\n",
      "Please also refer to the documentation for alternative solver options:\n",
      "    https://scikit-learn.org/stable/modules/linear_model.html#logistic-regression\n",
      "  n_iter_i = _check_optimize_result(\n"
     ]
    },
    {
     "data": {
      "text/plain": [
       "LogisticRegression(penalty='none', random_state=42)"
      ]
     },
     "execution_count": 114,
     "metadata": {},
     "output_type": "execute_result"
    }
   ],
   "source": [
    "logreg_model.fit(X_train, y_train)"
   ]
  },
  {
   "cell_type": "markdown",
   "metadata": {},
   "source": [
    "What happened there?  This solver had no problem before."
   ]
  },
  {
   "cell_type": "markdown",
   "metadata": {},
   "source": [
    "## Hyperparameter Adjustments to the Model"
   ]
  },
  {
   "cell_type": "markdown",
   "metadata": {},
   "source": [
    "Let's try a couple of stopgap measures to get the model to run."
   ]
  },
  {
   "cell_type": "markdown",
   "metadata": {},
   "source": [
    "### More Iterations"
   ]
  },
  {
   "cell_type": "markdown",
   "metadata": {},
   "source": [
    "Allows for more iterations to find a solution"
   ]
  },
  {
   "cell_type": "code",
   "execution_count": 116,
   "metadata": {
    "ExecuteTime": {
     "end_time": "2022-12-19T17:21:21.851190Z",
     "start_time": "2022-12-19T17:21:21.752215Z"
    }
   },
   "outputs": [
    {
     "data": {
      "text/plain": [
       "LogisticRegression(max_iter=1000, penalty='none', random_state=42)"
      ]
     },
     "execution_count": 116,
     "metadata": {},
     "output_type": "execute_result"
    }
   ],
   "source": [
    "logreg_model_more_iterations = LogisticRegression(\n",
    "                                        random_state=42,\n",
    "                                        penalty='none',\n",
    "                                        max_iter=1000)\n",
    "logreg_model_more_iterations.fit(X_train, y_train)"
   ]
  },
  {
   "cell_type": "markdown",
   "metadata": {},
   "source": [
    "### More Regularization"
   ]
  },
  {
   "cell_type": "markdown",
   "metadata": {},
   "source": [
    "Remember that the `C` parameter is the inverse of the regularization strength."
   ]
  },
  {
   "cell_type": "markdown",
   "metadata": {},
   "source": [
    "> Note: We could do regularization but we should first scale our features. We're actually going to skip this hyperparameter until we scale our data "
   ]
  },
  {
   "cell_type": "markdown",
   "metadata": {},
   "source": [
    "### Higher Tolerance"
   ]
  },
  {
   "cell_type": "markdown",
   "metadata": {},
   "source": [
    "A [higher tolerance](https://medium.com/analytics-vidhya/a-complete-understanding-of-how-the-logistic-regression-can-perform-classification-a8e951d31c76) means that the model will stop training earlier (when predictions and true values aren't as close as they could be)."
   ]
  },
  {
   "cell_type": "code",
   "execution_count": 117,
   "metadata": {
    "ExecuteTime": {
     "end_time": "2022-12-19T17:23:02.092540Z",
     "start_time": "2022-12-19T17:23:02.069904Z"
    },
    "scrolled": true
   },
   "outputs": [
    {
     "data": {
      "text/plain": [
       "LogisticRegression(penalty='none', random_state=42, tol=25)"
      ]
     },
     "execution_count": 117,
     "metadata": {},
     "output_type": "execute_result"
    }
   ],
   "source": [
    "logreg_model_higher_tolerance = LogisticRegression(\n",
    "                                        random_state=42,\n",
    "                                        penalty='none',\n",
    "                                        tol=25)\n",
    "\n",
    "logreg_model_higher_tolerance.fit(X_train, y_train)"
   ]
  },
  {
   "cell_type": "code",
   "execution_count": 118,
   "metadata": {
    "ExecuteTime": {
     "end_time": "2022-12-19T17:23:13.399974Z",
     "start_time": "2022-12-19T17:23:13.397046Z"
    }
   },
   "outputs": [
    {
     "data": {
      "text/plain": [
       "array([20])"
      ]
     },
     "execution_count": 118,
     "metadata": {},
     "output_type": "execute_result"
    }
   ],
   "source": [
    "logreg_model_higher_tolerance.n_iter_"
   ]
  },
  {
   "cell_type": "markdown",
   "metadata": {},
   "source": [
    "## Model Evaluation, Part 3"
   ]
  },
  {
   "cell_type": "code",
   "execution_count": 119,
   "metadata": {
    "ExecuteTime": {
     "end_time": "2022-12-19T17:23:18.401133Z",
     "start_time": "2022-12-19T17:23:18.236866Z"
    }
   },
   "outputs": [
    {
     "data": {
      "image/png": "[encoded data removed]",
      "text/plain": [
       "<Figure size 1080x432 with 4 Axes>"
      ]
     },
     "metadata": {
      "needs_background": "light"
     },
     "output_type": "display_data"
    }
   ],
   "source": [
    "fix, axes = plt.subplots(nrows=1, ncols=2, figsize=(15, 6))\n",
    "\n",
    "axes[0].set_title(\"More Iterations\")\n",
    "axes[1].set_title(\"Higher Tolerance\")\n",
    "\n",
    "plot_confusion_matrix(logreg_model_more_iterations, X_train, y_train,\n",
    "                      ax=axes[0], cmap=\"plasma\")\n",
    "plot_confusion_matrix(logreg_model_higher_tolerance, X_train, y_train,\n",
    "                      ax=axes[1], cmap=\"plasma\");"
   ]
  },
  {
   "cell_type": "code",
   "execution_count": 120,
   "metadata": {
    "ExecuteTime": {
     "end_time": "2022-12-19T17:23:21.443255Z",
     "start_time": "2022-12-19T17:23:20.372561Z"
    }
   },
   "outputs": [],
   "source": [
    "logreg_model_more_iterations_results = ModelWithCV(\n",
    "                                        logreg_model_more_iterations,\n",
    "                                        'more_iterations',\n",
    "                                        X_train,\n",
    "                                        y_train\n",
    ")\n",
    "    \n",
    "logreg_model_higher_tolerance_results = ModelWithCV(\n",
    "                                        logreg_model_higher_tolerance,\n",
    "                                        'higher_tolerance',\n",
    "                                        X_train,\n",
    "                                        y_train\n",
    ")\n",
    "\n",
    "model_results = [\n",
    "    logreg_model_more_iterations_results,\n",
    "    logreg_model_higher_tolerance_results\n",
    "]"
   ]
  },
  {
   "cell_type": "code",
   "execution_count": 121,
   "metadata": {
    "ExecuteTime": {
     "end_time": "2022-12-19T17:23:22.450124Z",
     "start_time": "2022-12-19T17:23:22.348097Z"
    }
   },
   "outputs": [
    {
     "name": "stdout",
     "output_type": "stream",
     "text": [
      "CV Results for `more_iterations` model:\n",
      "            0.77402 ± 0.04823 accuracy\n",
      "        \n",
      "CV Results for `higher_tolerance` model:\n",
      "            0.78304 ± 0.05965 accuracy\n",
      "        \n"
     ]
    },
    {
     "data": {
      "image/png": "[encoded data removed]",
      "text/plain": [
       "<Figure size 864x432 with 2 Axes>"
      ]
     },
     "metadata": {
      "needs_background": "light"
     },
     "output_type": "display_data"
    }
   ],
   "source": [
    "f,axes = plt.subplots(ncols=2, sharey=True, figsize=(12, 6))\n",
    "\n",
    "for ax, result in zip(axes, model_results):\n",
    "    ax = result.plot_cv(ax)\n",
    "    result.print_cv_summary()\n",
    "plt.tight_layout();"
   ]
  },
  {
   "cell_type": "code",
   "execution_count": 122,
   "metadata": {
    "ExecuteTime": {
     "end_time": "2022-12-19T17:23:23.241698Z",
     "start_time": "2022-12-19T17:23:23.148738Z"
    }
   },
   "outputs": [
    {
     "data": {
      "image/png": "[encoded data removed]",
      "text/plain": [
       "<Figure size 432x288 with 1 Axes>"
      ]
     },
     "metadata": {
      "needs_background": "light"
     },
     "output_type": "display_data"
    }
   ],
   "source": [
    "fig, ax = plt.subplots()\n",
    "\n",
    "plot_roc_curve(logreg_model_more_iterations, X_train, y_train, \n",
    "               name='logreg_model_more_iterations', ax=ax)\n",
    "plot_roc_curve(logreg_model_higher_tolerance, X_train, y_train, \n",
    "               name='logreg_model_higher_tolerance', ax=ax);"
   ]
  },
  {
   "cell_type": "markdown",
   "metadata": {},
   "source": [
    "> What can we observe from these two adjustments to our model with more features?"
   ]
  },
  {
   "cell_type": "markdown",
   "metadata": {},
   "source": [
    "# Even More Data Preparation - Scaling"
   ]
  },
  {
   "cell_type": "markdown",
   "metadata": {},
   "source": [
    "We saw that our last model is overfitting on so many features. A good strategy is to do regularization."
   ]
  },
  {
   "cell_type": "markdown",
   "metadata": {},
   "source": [
    "However, recall we should scale all of the features, so the model isn't overly penalizing age and fare."
   ]
  },
  {
   "cell_type": "code",
   "execution_count": 123,
   "metadata": {
    "ExecuteTime": {
     "end_time": "2022-12-19T17:25:16.448266Z",
     "start_time": "2022-12-19T17:25:16.433531Z"
    }
   },
   "outputs": [
    {
     "data": {
      "text/plain": [
       "StandardScaler()"
      ]
     },
     "execution_count": 123,
     "metadata": {},
     "output_type": "execute_result"
    }
   ],
   "source": [
    "scaler = StandardScaler()\n",
    "\n",
    "scaler.fit(X_train)"
   ]
  },
  {
   "cell_type": "code",
   "execution_count": 124,
   "metadata": {
    "ExecuteTime": {
     "end_time": "2022-12-19T17:25:21.451727Z",
     "start_time": "2022-12-19T17:25:21.449694Z"
    }
   },
   "outputs": [],
   "source": [
    "def scale_values(X, scaler):\n",
    "    \"\"\"\n",
    "    Given a DataFrame and a fitted scaler, use the scaler to scale all of the features\n",
    "    \"\"\"\n",
    "    scaled_array = scaler.transform(X)\n",
    "    scaled_df = pd.DataFrame(scaled_array, columns=X.columns, index=X.index)\n",
    "    return scaled_df"
   ]
  },
  {
   "cell_type": "code",
   "execution_count": 125,
   "metadata": {
    "ExecuteTime": {
     "end_time": "2022-12-19T17:25:45.643248Z",
     "start_time": "2022-12-19T17:25:45.632428Z"
    }
   },
   "outputs": [],
   "source": [
    "X_train = scale_values(X_train, scaler)"
   ]
  },
  {
   "cell_type": "code",
   "execution_count": 126,
   "metadata": {
    "ExecuteTime": {
     "end_time": "2022-12-19T17:25:51.873814Z",
     "start_time": "2022-12-19T17:25:51.865291Z"
    }
   },
   "outputs": [
    {
     "data": {
      "text/html": [
       "<div>\n",
       "<style scoped>\n",
       "    .dataframe tbody tr th:only-of-type {\n",
       "        vertical-align: middle;\n",
       "    }\n",
       "\n",
       "    .dataframe tbody tr th {\n",
       "        vertical-align: top;\n",
       "    }\n",
       "\n",
       "    .dataframe thead th {\n",
       "        text-align: right;\n",
       "    }\n",
       "</style>\n",
       "<table border=\"1\" class=\"dataframe\">\n",
       "  <thead>\n",
       "    <tr style=\"text-align: right;\">\n",
       "      <th></th>\n",
       "      <th>Age</th>\n",
       "      <th>SibSp</th>\n",
       "      <th>Parch</th>\n",
       "      <th>Fare</th>\n",
       "      <th>Pclass_missing</th>\n",
       "      <th>Name_missing</th>\n",
       "      <th>Sex_missing</th>\n",
       "      <th>Age_missing</th>\n",
       "      <th>SibSp_missing</th>\n",
       "      <th>Parch_missing</th>\n",
       "      <th>...</th>\n",
       "      <th>F G73</th>\n",
       "      <th>F2</th>\n",
       "      <th>F33</th>\n",
       "      <th>F38</th>\n",
       "      <th>F4</th>\n",
       "      <th>G6</th>\n",
       "      <th>T</th>\n",
       "      <th>C</th>\n",
       "      <th>Q</th>\n",
       "      <th>S</th>\n",
       "    </tr>\n",
       "  </thead>\n",
       "  <tbody>\n",
       "    <tr>\n",
       "      <th>298</th>\n",
       "      <td>0.000000</td>\n",
       "      <td>-0.467660</td>\n",
       "      <td>-0.468878</td>\n",
       "      <td>-0.032568</td>\n",
       "      <td>0.0</td>\n",
       "      <td>0.0</td>\n",
       "      <td>0.0</td>\n",
       "      <td>2.015095</td>\n",
       "      <td>0.0</td>\n",
       "      <td>0.0</td>\n",
       "      <td>...</td>\n",
       "      <td>-0.0548</td>\n",
       "      <td>-0.067166</td>\n",
       "      <td>-0.0548</td>\n",
       "      <td>-0.03872</td>\n",
       "      <td>-0.0548</td>\n",
       "      <td>-0.067166</td>\n",
       "      <td>-0.03872</td>\n",
       "      <td>-0.460805</td>\n",
       "      <td>-0.308354</td>\n",
       "      <td>0.595793</td>\n",
       "    </tr>\n",
       "    <tr>\n",
       "      <th>884</th>\n",
       "      <td>-0.340110</td>\n",
       "      <td>-0.467660</td>\n",
       "      <td>-0.468878</td>\n",
       "      <td>-0.487331</td>\n",
       "      <td>0.0</td>\n",
       "      <td>0.0</td>\n",
       "      <td>0.0</td>\n",
       "      <td>-0.496255</td>\n",
       "      <td>0.0</td>\n",
       "      <td>0.0</td>\n",
       "      <td>...</td>\n",
       "      <td>-0.0548</td>\n",
       "      <td>-0.067166</td>\n",
       "      <td>-0.0548</td>\n",
       "      <td>-0.03872</td>\n",
       "      <td>-0.0548</td>\n",
       "      <td>-0.067166</td>\n",
       "      <td>-0.03872</td>\n",
       "      <td>-0.460805</td>\n",
       "      <td>-0.308354</td>\n",
       "      <td>0.595793</td>\n",
       "    </tr>\n",
       "    <tr>\n",
       "      <th>247</th>\n",
       "      <td>-0.417034</td>\n",
       "      <td>-0.467660</td>\n",
       "      <td>2.046870</td>\n",
       "      <td>-0.342854</td>\n",
       "      <td>0.0</td>\n",
       "      <td>0.0</td>\n",
       "      <td>0.0</td>\n",
       "      <td>-0.496255</td>\n",
       "      <td>0.0</td>\n",
       "      <td>0.0</td>\n",
       "      <td>...</td>\n",
       "      <td>-0.0548</td>\n",
       "      <td>-0.067166</td>\n",
       "      <td>-0.0548</td>\n",
       "      <td>-0.03872</td>\n",
       "      <td>-0.0548</td>\n",
       "      <td>-0.067166</td>\n",
       "      <td>-0.03872</td>\n",
       "      <td>-0.460805</td>\n",
       "      <td>-0.308354</td>\n",
       "      <td>0.595793</td>\n",
       "    </tr>\n",
       "    <tr>\n",
       "      <th>478</th>\n",
       "      <td>-0.570884</td>\n",
       "      <td>-0.467660</td>\n",
       "      <td>-0.468878</td>\n",
       "      <td>-0.478201</td>\n",
       "      <td>0.0</td>\n",
       "      <td>0.0</td>\n",
       "      <td>0.0</td>\n",
       "      <td>-0.496255</td>\n",
       "      <td>0.0</td>\n",
       "      <td>0.0</td>\n",
       "      <td>...</td>\n",
       "      <td>-0.0548</td>\n",
       "      <td>-0.067166</td>\n",
       "      <td>-0.0548</td>\n",
       "      <td>-0.03872</td>\n",
       "      <td>-0.0548</td>\n",
       "      <td>-0.067166</td>\n",
       "      <td>-0.03872</td>\n",
       "      <td>-0.460805</td>\n",
       "      <td>-0.308354</td>\n",
       "      <td>0.595793</td>\n",
       "    </tr>\n",
       "    <tr>\n",
       "      <th>305</th>\n",
       "      <td>-2.192453</td>\n",
       "      <td>0.376656</td>\n",
       "      <td>2.046870</td>\n",
       "      <td>2.314937</td>\n",
       "      <td>0.0</td>\n",
       "      <td>0.0</td>\n",
       "      <td>0.0</td>\n",
       "      <td>-0.496255</td>\n",
       "      <td>0.0</td>\n",
       "      <td>0.0</td>\n",
       "      <td>...</td>\n",
       "      <td>-0.0548</td>\n",
       "      <td>-0.067166</td>\n",
       "      <td>-0.0548</td>\n",
       "      <td>-0.03872</td>\n",
       "      <td>-0.0548</td>\n",
       "      <td>-0.067166</td>\n",
       "      <td>-0.03872</td>\n",
       "      <td>-0.460805</td>\n",
       "      <td>-0.308354</td>\n",
       "      <td>0.595793</td>\n",
       "    </tr>\n",
       "  </tbody>\n",
       "</table>\n",
       "<p>5 rows × 1332 columns</p>\n",
       "</div>"
      ],
      "text/plain": [
       "          Age     SibSp     Parch      Fare  Pclass_missing  Name_missing  \\\n",
       "298  0.000000 -0.467660 -0.468878 -0.032568             0.0           0.0   \n",
       "884 -0.340110 -0.467660 -0.468878 -0.487331             0.0           0.0   \n",
       "247 -0.417034 -0.467660  2.046870 -0.342854             0.0           0.0   \n",
       "478 -0.570884 -0.467660 -0.468878 -0.478201             0.0           0.0   \n",
       "305 -2.192453  0.376656  2.046870  2.314937             0.0           0.0   \n",
       "\n",
       "     Sex_missing  Age_missing  SibSp_missing  Parch_missing  ...   F G73  \\\n",
       "298          0.0     2.015095            0.0            0.0  ... -0.0548   \n",
       "884          0.0    -0.496255            0.0            0.0  ... -0.0548   \n",
       "247          0.0    -0.496255            0.0            0.0  ... -0.0548   \n",
       "478          0.0    -0.496255            0.0            0.0  ... -0.0548   \n",
       "305          0.0    -0.496255            0.0            0.0  ... -0.0548   \n",
       "\n",
       "           F2     F33      F38      F4        G6        T         C         Q  \\\n",
       "298 -0.067166 -0.0548 -0.03872 -0.0548 -0.067166 -0.03872 -0.460805 -0.308354   \n",
       "884 -0.067166 -0.0548 -0.03872 -0.0548 -0.067166 -0.03872 -0.460805 -0.308354   \n",
       "247 -0.067166 -0.0548 -0.03872 -0.0548 -0.067166 -0.03872 -0.460805 -0.308354   \n",
       "478 -0.067166 -0.0548 -0.03872 -0.0548 -0.067166 -0.03872 -0.460805 -0.308354   \n",
       "305 -0.067166 -0.0548 -0.03872 -0.0548 -0.067166 -0.03872 -0.460805 -0.308354   \n",
       "\n",
       "            S  \n",
       "298  0.595793  \n",
       "884  0.595793  \n",
       "247  0.595793  \n",
       "478  0.595793  \n",
       "305  0.595793  \n",
       "\n",
       "[5 rows x 1332 columns]"
      ]
     },
     "execution_count": 126,
     "metadata": {},
     "output_type": "execute_result"
    }
   ],
   "source": [
    "X_train.head()"
   ]
  },
  {
   "cell_type": "markdown",
   "metadata": {},
   "source": [
    "# 4th Model - After Scaling"
   ]
  },
  {
   "cell_type": "markdown",
   "metadata": {},
   "source": [
    "Now that the data is scaled, let's see if we can fit the model without tweaking any hyperparameters."
   ]
  },
  {
   "cell_type": "code",
   "execution_count": 127,
   "metadata": {
    "ExecuteTime": {
     "end_time": "2022-12-19T17:26:21.578441Z",
     "start_time": "2022-12-19T17:26:21.560617Z"
    }
   },
   "outputs": [],
   "source": [
    "logreg_model = LogisticRegression(random_state=42).fit(X_train, y_train)"
   ]
  },
  {
   "cell_type": "markdown",
   "metadata": {},
   "source": [
    "## Model Evaluation, Part 4"
   ]
  },
  {
   "cell_type": "markdown",
   "metadata": {},
   "source": [
    "Now that we are able to run a logistic regression with default hyperparameters, let's see how that performs."
   ]
  },
  {
   "cell_type": "code",
   "execution_count": 128,
   "metadata": {
    "ExecuteTime": {
     "end_time": "2022-12-19T17:26:28.972096Z",
     "start_time": "2022-12-19T17:26:28.880435Z"
    }
   },
   "outputs": [
    {
     "data": {
      "image/png": "[encoded data removed]",
      "text/plain": [
       "<Figure size 432x288 with 2 Axes>"
      ]
     },
     "metadata": {
      "needs_background": "light"
     },
     "output_type": "display_data"
    }
   ],
   "source": [
    "fig, ax = plt.subplots()\n",
    "\n",
    "fig.suptitle(\"Logistic Regression with All Features, Scaled\")\n",
    "\n",
    "plot_confusion_matrix(logreg_model, X_train, y_train, ax=ax, cmap=\"plasma\");"
   ]
  },
  {
   "cell_type": "code",
   "execution_count": 129,
   "metadata": {
    "ExecuteTime": {
     "end_time": "2022-12-19T17:26:31.019440Z",
     "start_time": "2022-12-19T17:26:30.800032Z"
    }
   },
   "outputs": [],
   "source": [
    "all_features_results = ModelWithCV(\n",
    "                            logreg_model,\n",
    "                            'all_features',\n",
    "                            X_train,\n",
    "                            y_train\n",
    ")"
   ]
  },
  {
   "cell_type": "code",
   "execution_count": 130,
   "metadata": {
    "ExecuteTime": {
     "end_time": "2022-12-19T17:26:31.700040Z",
     "start_time": "2022-12-19T17:26:31.647208Z"
    }
   },
   "outputs": [
    {
     "name": "stdout",
     "output_type": "stream",
     "text": [
      "CV Results for `all_features` model:\n",
      "            0.79202 ± 0.05095 accuracy\n",
      "        \n"
     ]
    },
    {
     "data": {
      "image/png": "[encoded data removed]",
      "text/plain": [
       "<Figure size 432x288 with 1 Axes>"
      ]
     },
     "metadata": {
      "needs_background": "light"
     },
     "output_type": "display_data"
    }
   ],
   "source": [
    "# Saving variable for convenience\n",
    "model_results = all_features_results\n",
    "\n",
    "# Plot CV results\n",
    "fig, ax = plt.subplots()\n",
    "ax = model_results.plot_cv(ax)\n",
    "plt.tight_layout();\n",
    "# Print CV results\n",
    "model_results.print_cv_summary()"
   ]
  },
  {
   "cell_type": "code",
   "execution_count": 131,
   "metadata": {
    "ExecuteTime": {
     "end_time": "2022-12-19T17:26:34.914253Z",
     "start_time": "2022-12-19T17:26:34.840008Z"
    }
   },
   "outputs": [
    {
     "data": {
      "text/plain": [
       "<sklearn.metrics._plot.roc_curve.RocCurveDisplay at 0x1646c2372b0>"
      ]
     },
     "execution_count": 131,
     "metadata": {},
     "output_type": "execute_result"
    },
    {
     "data": {
      "image/png": "[encoded data removed]",
      "text/plain": [
       "<Figure size 432x288 with 1 Axes>"
      ]
     },
     "metadata": {
      "needs_background": "light"
     },
     "output_type": "display_data"
    }
   ],
   "source": [
    "plot_roc_curve(logreg_model, X_train, y_train)"
   ]
  },
  {
   "cell_type": "markdown",
   "metadata": {},
   "source": [
    "Perfect on the training data, high 70% range on the test data ... this might be overfitting."
   ]
  },
  {
   "cell_type": "code",
   "execution_count": 132,
   "metadata": {
    "ExecuteTime": {
     "end_time": "2022-12-19T17:26:45.300772Z",
     "start_time": "2022-12-19T17:26:45.294892Z"
    },
    "scrolled": true
   },
   "outputs": [
    {
     "data": {
      "text/plain": [
       "[('female', 0.7749266889532636),\n",
       " ('male', -0.7749266889532636),\n",
       " (3, -0.3352007295666369),\n",
       " ('Tornquist, Mr. William Henry', 0.30362168612342577),\n",
       " ('C23 C25 C27', -0.25934895912278405),\n",
       " ('Allison, Master. Hudson Trevor', 0.2585454231604086),\n",
       " ('Cabin_missing', -0.25379718581710015),\n",
       " ('Dean, Master. Bertram Vere', 0.24619540893656797),\n",
       " ('1601', 0.24491807180207967),\n",
       " ('Albimona, Mr. Nassef Cassem', 0.24403381942527475),\n",
       " ('Asplund, Master. Edvin Rojj Felix', 0.23964443431011803),\n",
       " ('Age', -0.23526512902611282),\n",
       " ('Lam, Mr. Ali', 0.2345955581143087),\n",
       " ('C.A. 37671', 0.23227584251665148),\n",
       " ('Fare', 0.2303450653500687),\n",
       " ('Davies, Master. John Morgan Jr', 0.22831610494710855),\n",
       " ('Allison, Miss. Helen Loraine', -0.2273080062301963),\n",
       " ('Chip, Mr. Chang', 0.2240090182605611),\n",
       " ('Bing, Mr. Lee', 0.2240090182605598),\n",
       " ('347742', 0.22396676867820217),\n",
       " ('29106', 0.22235787155809672),\n",
       " ('Lang, Mr. Fang', 0.2204375834020377),\n",
       " ('Allison, Mrs. Hudson J C (Bessie Waldo Daniels)', -0.21363402519707994),\n",
       " (1, 0.21234733477437112),\n",
       " ('Mallet, Master. Andre', 0.20697694771161998),\n",
       " ('Navratil, Mr. Michel (\"Louis M Hoffman\")', -0.20487069340760491),\n",
       " ('367226', 0.20353451667330957),\n",
       " ('McCoy, Mr. Bernard', 0.19306182674104566),\n",
       " ('Johnson, Master. Harold Theodor', 0.19224917458003532),\n",
       " (2, 0.18944328728083318),\n",
       " ('Thorneycroft, Mrs. Percival (Florence Kate White)', 0.18441926845098933),\n",
       " ('Backstrom, Mrs. Karl Alfred (Maria Mathilda Gustafsson)',\n",
       "  0.18351815756645126),\n",
       " ('Abbott, Mrs. Stanton (Rosa Hunt)', 0.1814114871119619),\n",
       " ('Nakid, Mr. Sahid', 0.17909276691416207),\n",
       " ('Goldsmith, Mrs. Frank John (Emily Alice Brown)', 0.17761176897946795),\n",
       " ('2653', 0.17730404884382783),\n",
       " ('Moss, Mr. Albert Johan', 0.17715856415993347),\n",
       " ('312991', 0.17715856415993347),\n",
       " ('Johannesen-Bratthammer, Mr. Bernt', 0.1771323064017607),\n",
       " ('65306', 0.1771323064017607),\n",
       " ('O\\'Brien, Mrs. Thomas (Johanna \"Hannah\" Godfrey)', 0.17604225563653655),\n",
       " ('Hakkarainen, Mrs. Pekka Pietari (Elin Matilda Dolck)', 0.17562484883080662),\n",
       " ('2908', 0.1753499742451047),\n",
       " ('Sundman, Mr. Johan Julian', 0.17534961352519404),\n",
       " ('STON/O 2. 3101269', 0.17534961352519404),\n",
       " ('Beane, Mr. Edward', 0.1746608070371285),\n",
       " ('PC 17611', 0.17430468317434816),\n",
       " ('Niskanen, Mr. Juha', 0.1737758130049745),\n",
       " ('STON/O 2. 3101289', 0.1737758130049745),\n",
       " ('349909', -0.17351747136212908)]"
      ]
     },
     "execution_count": 132,
     "metadata": {},
     "output_type": "execute_result"
    }
   ],
   "source": [
    "sorted(list(zip(X_train.columns, logreg_model.coef_[0])),\n",
    "       key=lambda x: abs(x[1]), reverse=True)[:50]"
   ]
  },
  {
   "cell_type": "markdown",
   "metadata": {},
   "source": [
    "## Hyperparameter Adjustment"
   ]
  },
  {
   "cell_type": "markdown",
   "metadata": {},
   "source": [
    "### Different Regularization Strengths"
   ]
  },
  {
   "cell_type": "markdown",
   "metadata": {},
   "source": [
    "Let's try out some different regularization penalties to see if we can improve the test data score a bit."
   ]
  },
  {
   "cell_type": "code",
   "execution_count": 133,
   "metadata": {
    "ExecuteTime": {
     "end_time": "2022-12-19T17:27:42.225012Z",
     "start_time": "2022-12-19T17:27:42.222401Z"
    }
   },
   "outputs": [
    {
     "name": "stdout",
     "output_type": "stream",
     "text": [
      "CV Results for `all_features` model:\n",
      "            0.79202 ± 0.05095 accuracy\n",
      "        \n"
     ]
    }
   ],
   "source": [
    "all_features_results.print_cv_summary()"
   ]
  },
  {
   "cell_type": "code",
   "execution_count": 134,
   "metadata": {
    "ExecuteTime": {
     "end_time": "2022-12-19T17:27:59.545701Z",
     "start_time": "2022-12-19T17:27:58.748898Z"
    }
   },
   "outputs": [
    {
     "name": "stdout",
     "output_type": "stream",
     "text": [
      "CV Results for `all_features_c1.000000e-04` model:\n",
      "            0.62126 ± 0.00646 accuracy\n",
      "        \n",
      "CV Results for `all_features_c1.000000e-03` model:\n",
      "            0.69919 ± 0.03228 accuracy\n",
      "        \n",
      "CV Results for `all_features_c1.000000e-02` model:\n",
      "            0.75902 ± 0.04129 accuracy\n",
      "        \n",
      "CV Results for `all_features_c1.000000e-01` model:\n",
      "            0.78749 ± 0.04758 accuracy\n",
      "        \n"
     ]
    }
   ],
   "source": [
    "model_results = [all_features_results]\n",
    "C_values = [0.0001, 0.001, 0.01, 0.1]\n",
    "\n",
    "for c in C_values:\n",
    "    logreg_model = LogisticRegression(random_state=2021, C=c)\n",
    "    logreg_model.fit(X_train, y_train)\n",
    "    # Save Results\n",
    "    new_model_results = ModelWithCV(\n",
    "                            logreg_model,\n",
    "                            f'all_features_c{c:e}',\n",
    "                            X_train,\n",
    "                            y_train\n",
    "    )\n",
    "    model_results.append(new_model_results)\n",
    "    new_model_results.print_cv_summary()"
   ]
  },
  {
   "cell_type": "code",
   "execution_count": 135,
   "metadata": {
    "ExecuteTime": {
     "end_time": "2022-12-19T17:28:09.167249Z",
     "start_time": "2022-12-19T17:28:08.892735Z"
    },
    "scrolled": false
   },
   "outputs": [
    {
     "data": {
      "image/png": "[encoded data removed]",
      "text/plain": [
       "<Figure size 1296x864 with 6 Axes>"
      ]
     },
     "metadata": {
      "needs_background": "light"
     },
     "output_type": "display_data"
    }
   ],
   "source": [
    "f,axes = plt.subplots(ncols=3, nrows=2, sharey='all', figsize=(18, 12))\n",
    "\n",
    "for ax,result in zip(axes.ravel(),model_results):\n",
    "    ax = result.plot_cv(ax)\n",
    "\n",
    "plt.tight_layout();"
   ]
  },
  {
   "cell_type": "markdown",
   "metadata": {},
   "source": [
    "It looks like the default C value is pretty optimal for this solver."
   ]
  },
  {
   "cell_type": "markdown",
   "metadata": {},
   "source": [
    "### Different Solvers"
   ]
  },
  {
   "cell_type": "code",
   "execution_count": 136,
   "metadata": {
    "ExecuteTime": {
     "end_time": "2022-12-19T17:28:39.294531Z",
     "start_time": "2022-12-19T17:28:39.292489Z"
    }
   },
   "outputs": [],
   "source": [
    "model_results = [all_features_results]\n",
    "all_features_cross_val_score = all_features_results.cv_results"
   ]
  },
  {
   "cell_type": "markdown",
   "metadata": {},
   "source": [
    "Let's try also some other solvers:"
   ]
  },
  {
   "cell_type": "code",
   "execution_count": 137,
   "metadata": {
    "ExecuteTime": {
     "end_time": "2022-12-19T17:29:05.449056Z",
     "start_time": "2022-12-19T17:29:05.404378Z"
    }
   },
   "outputs": [
    {
     "data": {
      "text/plain": [
       "LogisticRegression(random_state=2021, solver='liblinear')"
      ]
     },
     "execution_count": 137,
     "metadata": {},
     "output_type": "execute_result"
    }
   ],
   "source": [
    "# liblinear\n",
    "logreg_model = LogisticRegression(random_state=2021, solver=\"liblinear\")\n",
    "logreg_model.fit(X_train, y_train)"
   ]
  },
  {
   "cell_type": "code",
   "execution_count": 138,
   "metadata": {
    "ExecuteTime": {
     "end_time": "2022-12-19T17:29:09.213290Z",
     "start_time": "2022-12-19T17:29:08.684114Z"
    }
   },
   "outputs": [
    {
     "data": {
      "image/png": "[encoded data removed]",
      "text/plain": [
       "<Figure size 864x432 with 2 Axes>"
      ]
     },
     "metadata": {
      "needs_background": "light"
     },
     "output_type": "display_data"
    }
   ],
   "source": [
    "# Save for later comparison\n",
    "model_results.append(\n",
    "    ModelWithCV(\n",
    "        logreg_model, \n",
    "        'solver:liblinear',\n",
    "        X_train,\n",
    "        y_train\n",
    "    )\n",
    ")\n",
    "\n",
    "# Plot both all_features vs new model\n",
    "f,axes = plt.subplots(ncols=2, sharey='all', figsize=(12, 6))\n",
    "\n",
    "model_results[0].plot_cv(ax=axes[0])\n",
    "model_results[-1].plot_cv(ax=axes[1])\n",
    "\n",
    "plt.tight_layout();"
   ]
  },
  {
   "cell_type": "code",
   "execution_count": 139,
   "metadata": {
    "ExecuteTime": {
     "end_time": "2022-12-19T17:29:17.815208Z",
     "start_time": "2022-12-19T17:29:17.811714Z"
    }
   },
   "outputs": [
    {
     "name": "stdout",
     "output_type": "stream",
     "text": [
      "Old: [0.73134328 0.74626866 0.80597015 0.7761194  0.85074627 0.80597015\n",
      " 0.82089552 0.73134328 0.75757576 0.89393939]\n",
      "New: [0.79104478 0.67164179 0.7761194  0.76119403 0.8358209  0.73134328\n",
      " 0.68656716 0.80597015 0.66666667 0.83333333]\n"
     ]
    }
   ],
   "source": [
    "print(\"Old:\", all_features_cross_val_score)\n",
    "print(\"New:\", model_results[-1].cv_results)"
   ]
  },
  {
   "cell_type": "markdown",
   "metadata": {},
   "source": [
    "A little lower, but no major difference in the scores.  Let's try adding some more regularization:"
   ]
  },
  {
   "cell_type": "code",
   "execution_count": 140,
   "metadata": {
    "ExecuteTime": {
     "end_time": "2022-12-19T17:29:54.632571Z",
     "start_time": "2022-12-19T17:29:54.602419Z"
    }
   },
   "outputs": [
    {
     "data": {
      "text/plain": [
       "LogisticRegression(C=0.01, random_state=2021, solver='liblinear')"
      ]
     },
     "execution_count": 140,
     "metadata": {},
     "output_type": "execute_result"
    }
   ],
   "source": [
    "# now with added regularization!\n",
    "logreg_model = LogisticRegression(random_state=2021, solver=\"liblinear\", C=0.01)\n",
    "logreg_model.fit(X_train, y_train)"
   ]
  },
  {
   "cell_type": "code",
   "execution_count": 141,
   "metadata": {
    "ExecuteTime": {
     "end_time": "2022-12-19T17:29:57.414846Z",
     "start_time": "2022-12-19T17:29:57.010943Z"
    }
   },
   "outputs": [
    {
     "data": {
      "image/png": "[encoded data removed]",
      "text/plain": [
       "<Figure size 864x432 with 2 Axes>"
      ]
     },
     "metadata": {
      "needs_background": "light"
     },
     "output_type": "display_data"
    }
   ],
   "source": [
    "# Save for later comparison\n",
    "model_results.append(\n",
    "    ModelWithCV(\n",
    "        logreg_model, \n",
    "        'solver:liblinear_C:0.01',\n",
    "        X_train,\n",
    "        y_train\n",
    "    )\n",
    ")\n",
    "\n",
    "# Plot both all_features vs new model\n",
    "f,axes = plt.subplots(ncols=2, sharey='all', figsize=(12, 6))\n",
    "\n",
    "model_results[0].plot_cv(ax=axes[0])\n",
    "model_results[-1].plot_cv(ax=axes[1])\n",
    "\n",
    "plt.tight_layout();"
   ]
  },
  {
   "cell_type": "code",
   "execution_count": 142,
   "metadata": {
    "ExecuteTime": {
     "end_time": "2022-12-19T17:30:07.237317Z",
     "start_time": "2022-12-19T17:30:07.233823Z"
    }
   },
   "outputs": [
    {
     "name": "stdout",
     "output_type": "stream",
     "text": [
      "Old: [0.73134328 0.74626866 0.80597015 0.7761194  0.85074627 0.80597015\n",
      " 0.82089552 0.73134328 0.75757576 0.89393939]\n",
      "New: [0.80597015 0.73134328 0.7761194  0.8358209  0.8358209  0.71641791\n",
      " 0.65671642 0.82089552 0.66666667 0.86363636]\n"
     ]
    }
   ],
   "source": [
    "print(\"Old:\", all_features_cross_val_score)\n",
    "print(\"New:\", model_results[-1].cv_results)"
   ]
  },
  {
   "cell_type": "markdown",
   "metadata": {},
   "source": [
    "Getting better.  Try a different type of penalty:"
   ]
  },
  {
   "cell_type": "code",
   "execution_count": 143,
   "metadata": {
    "ExecuteTime": {
     "end_time": "2022-12-19T17:30:43.420027Z",
     "start_time": "2022-12-19T17:30:43.377531Z"
    }
   },
   "outputs": [
    {
     "data": {
      "text/plain": [
       "LogisticRegression(penalty='l1', random_state=2021, solver='liblinear')"
      ]
     },
     "execution_count": 143,
     "metadata": {},
     "output_type": "execute_result"
    }
   ],
   "source": [
    "# That wasn't a penalty!\n",
    "logreg_model = LogisticRegression(random_state=2021, solver=\"liblinear\", penalty='l1')\n",
    "logreg_model.fit(X_train, y_train)"
   ]
  },
  {
   "cell_type": "code",
   "execution_count": 144,
   "metadata": {
    "ExecuteTime": {
     "end_time": "2022-12-19T17:30:44.728648Z",
     "start_time": "2022-12-19T17:30:44.242068Z"
    }
   },
   "outputs": [
    {
     "data": {
      "image/png": "[encoded data removed]",
      "text/plain": [
       "<Figure size 864x432 with 2 Axes>"
      ]
     },
     "metadata": {
      "needs_background": "light"
     },
     "output_type": "display_data"
    }
   ],
   "source": [
    "# Save for later comparison\n",
    "model_results.append(\n",
    "    ModelWithCV(\n",
    "        logreg_model, \n",
    "        'solver:liblinear_penalty:l1',\n",
    "        X_train,\n",
    "        y_train\n",
    "    )\n",
    ")\n",
    "\n",
    "# Plot both all_features vs new model\n",
    "f,axes = plt.subplots(ncols=2, sharey='all', figsize=(12, 6))\n",
    "\n",
    "model_results[0].plot_cv(ax=axes[0])\n",
    "model_results[-1].plot_cv(ax=axes[1])\n",
    "\n",
    "plt.tight_layout();"
   ]
  },
  {
   "cell_type": "code",
   "execution_count": 146,
   "metadata": {
    "ExecuteTime": {
     "end_time": "2022-12-19T17:31:14.763877Z",
     "start_time": "2022-12-19T17:31:14.761002Z"
    }
   },
   "outputs": [
    {
     "name": "stdout",
     "output_type": "stream",
     "text": [
      "Old: 0.7920171867933062\n",
      "New: 0.7934871099050204\n"
     ]
    }
   ],
   "source": [
    "print(\"Old:\", np.mean(all_features_cross_val_score))\n",
    "print(\"New:\", np.mean(model_results[-1].cv_results))"
   ]
  },
  {
   "cell_type": "markdown",
   "metadata": {},
   "source": [
    "Slightly better average here.  Try adding some more regularization with L1 penalty:"
   ]
  },
  {
   "cell_type": "code",
   "execution_count": 147,
   "metadata": {
    "ExecuteTime": {
     "end_time": "2022-12-19T17:31:52.249879Z",
     "start_time": "2022-12-19T17:31:52.223320Z"
    }
   },
   "outputs": [
    {
     "data": {
      "text/plain": [
       "LogisticRegression(C=0.01, penalty='l1', random_state=2021, solver='liblinear')"
      ]
     },
     "execution_count": 147,
     "metadata": {},
     "output_type": "execute_result"
    }
   ],
   "source": [
    "# Regular penalty?\n",
    "logreg_model = LogisticRegression(random_state=2021, solver=\"liblinear\", penalty=\"l1\", C=0.01)\n",
    "logreg_model.fit(X_train, y_train)"
   ]
  },
  {
   "cell_type": "code",
   "execution_count": 148,
   "metadata": {
    "ExecuteTime": {
     "end_time": "2022-12-19T17:31:53.524841Z",
     "start_time": "2022-12-19T17:31:53.183331Z"
    }
   },
   "outputs": [
    {
     "data": {
      "image/png": "[encoded data removed]",
      "text/plain": [
       "<Figure size 864x432 with 2 Axes>"
      ]
     },
     "metadata": {
      "needs_background": "light"
     },
     "output_type": "display_data"
    }
   ],
   "source": [
    "# Save for later comparison\n",
    "model_results.append(\n",
    "    ModelWithCV(\n",
    "        logreg_model, \n",
    "        'solver:liblinear_penalty:l1_C:0.01',\n",
    "        X_train,\n",
    "        y_train\n",
    "    )\n",
    ")\n",
    "\n",
    "# Plot both all_features vs new model\n",
    "f,axes = plt.subplots(ncols=2, sharey='all', figsize=(12, 6))\n",
    "\n",
    "model_results[0].plot_cv(ax=axes[0])\n",
    "model_results[-1].plot_cv(ax=axes[1])\n",
    "\n",
    "plt.tight_layout();"
   ]
  },
  {
   "cell_type": "code",
   "execution_count": 149,
   "metadata": {
    "ExecuteTime": {
     "end_time": "2022-12-19T17:32:00.922676Z",
     "start_time": "2022-12-19T17:32:00.919209Z"
    }
   },
   "outputs": [
    {
     "name": "stdout",
     "output_type": "stream",
     "text": [
      "Old: [0.73134328 0.74626866 0.80597015 0.7761194  0.85074627 0.80597015\n",
      " 0.82089552 0.73134328 0.75757576 0.89393939]\n",
      "New: [0.85074627 0.65671642 0.8358209  0.88059701 0.79104478 0.68656716\n",
      " 0.73134328 0.80597015 0.75757576 0.87878788]\n"
     ]
    }
   ],
   "source": [
    "print(\"Old:\", all_features_cross_val_score)\n",
    "print(\"New:\", model_results[-1].cv_results)"
   ]
  },
  {
   "cell_type": "markdown",
   "metadata": {},
   "source": [
    "Still, the default regularization strength seems pretty good.  Double-check the confusion matrix:"
   ]
  },
  {
   "cell_type": "code",
   "execution_count": 150,
   "metadata": {
    "ExecuteTime": {
     "end_time": "2022-12-19T17:32:01.862095Z",
     "start_time": "2022-12-19T17:32:01.736191Z"
    }
   },
   "outputs": [
    {
     "data": {
      "image/png": "[encoded data removed]",
      "text/plain": [
       "<Figure size 432x288 with 2 Axes>"
      ]
     },
     "metadata": {
      "needs_background": "light"
     },
     "output_type": "display_data"
    }
   ],
   "source": [
    "logreg_model = LogisticRegression(random_state=2021, solver=\"liblinear\", penalty=\"l1\")\n",
    "logreg_model.fit(X_train, y_train)\n",
    "\n",
    "fig, ax = plt.subplots()\n",
    "\n",
    "fig.suptitle(\"Logistic Regression with All Features (Scaled, Hyperparameters Tuned)\")\n",
    "\n",
    "plot_confusion_matrix(logreg_model, X_train, y_train, ax=ax, cmap=\"plasma\");"
   ]
  },
  {
   "cell_type": "markdown",
   "metadata": {},
   "source": [
    "## `SelectFromModel`"
   ]
  },
  {
   "cell_type": "markdown",
   "metadata": {},
   "source": [
    "The last model is probably overfitting. We might try thinning out the number of features by eliminating the ones with small modeling coefficients using [`SelectFromModel`](https://scikit-learn.org/stable/modules/generated/sklearn.feature_selection.SelectFromModel.html)"
   ]
  },
  {
   "cell_type": "code",
   "execution_count": 151,
   "metadata": {
    "ExecuteTime": {
     "end_time": "2022-12-19T17:33:40.231794Z",
     "start_time": "2022-12-19T17:33:40.189368Z"
    }
   },
   "outputs": [],
   "source": [
    "# Instantiate and fit\n",
    "selector = SelectFromModel(logreg_model).fit(X_train, y_train)"
   ]
  },
  {
   "cell_type": "markdown",
   "metadata": {},
   "source": [
    "We're using the default threshold here:"
   ]
  },
  {
   "cell_type": "code",
   "execution_count": 152,
   "metadata": {
    "ExecuteTime": {
     "end_time": "2022-12-19T17:33:47.831215Z",
     "start_time": "2022-12-19T17:33:47.827777Z"
    }
   },
   "outputs": [
    {
     "data": {
      "text/plain": [
       "1e-05"
      ]
     },
     "execution_count": 152,
     "metadata": {},
     "output_type": "execute_result"
    }
   ],
   "source": [
    "selector.threshold_"
   ]
  },
  {
   "cell_type": "markdown",
   "metadata": {},
   "source": [
    "Let's get a sense of which features will be eliminated:"
   ]
  },
  {
   "cell_type": "code",
   "execution_count": 153,
   "metadata": {
    "ExecuteTime": {
     "end_time": "2022-12-19T17:33:54.615803Z",
     "start_time": "2022-12-19T17:33:54.612345Z"
    }
   },
   "outputs": [],
   "source": [
    "def select_important_features(X, selector):\n",
    "    \"\"\"\n",
    "    Given a DataFrame and a selector, use the selector to choose\n",
    "    the most important columns\n",
    "    \"\"\"\n",
    "    imps = dict(zip(X.columns, selector.get_support()))\n",
    "    selected_array = selector.transform(X)\n",
    "    selected_df = pd.DataFrame(selected_array,\n",
    "                               columns=[col for col in X.columns if imps[col]],\n",
    "                               index=X.index)\n",
    "    return selected_df"
   ]
  },
  {
   "cell_type": "code",
   "execution_count": 154,
   "metadata": {
    "ExecuteTime": {
     "end_time": "2022-12-19T17:34:31.254917Z",
     "start_time": "2022-12-19T17:34:31.252903Z"
    }
   },
   "outputs": [],
   "source": [
    "# Do it to Train\n",
    "coefs = selector.estimator_.coef_"
   ]
  },
  {
   "cell_type": "code",
   "execution_count": 156,
   "metadata": {
    "ExecuteTime": {
     "end_time": "2022-12-19T17:34:42.629391Z",
     "start_time": "2022-12-19T17:34:42.627371Z"
    }
   },
   "outputs": [
    {
     "data": {
      "text/plain": [
       "(1, 1332)"
      ]
     },
     "execution_count": 156,
     "metadata": {},
     "output_type": "execute_result"
    }
   ],
   "source": [
    "coefs.shape"
   ]
  },
  {
   "cell_type": "code",
   "execution_count": 158,
   "metadata": {
    "ExecuteTime": {
     "end_time": "2022-12-19T17:35:29.453701Z",
     "start_time": "2022-12-19T17:35:29.450681Z"
    }
   },
   "outputs": [
    {
     "data": {
      "text/plain": [
       "(156,)"
      ]
     },
     "execution_count": 158,
     "metadata": {},
     "output_type": "execute_result"
    }
   ],
   "source": [
    "coefs[ coefs > selector.threshold_].shape"
   ]
  },
  {
   "cell_type": "code",
   "execution_count": 159,
   "metadata": {
    "ExecuteTime": {
     "end_time": "2022-12-19T17:35:46.173051Z",
     "start_time": "2022-12-19T17:35:46.169989Z"
    }
   },
   "outputs": [
    {
     "data": {
      "text/plain": [
       "array([ True, False, False, ...,  True, False,  True])"
      ]
     },
     "execution_count": 159,
     "metadata": {},
     "output_type": "execute_result"
    }
   ],
   "source": [
    "selector.get_support()"
   ]
  },
  {
   "cell_type": "code",
   "execution_count": 160,
   "metadata": {
    "ExecuteTime": {
     "end_time": "2022-12-19T17:36:02.470822Z",
     "start_time": "2022-12-19T17:36:02.457071Z"
    }
   },
   "outputs": [
    {
     "data": {
      "text/plain": [
       "{'Age': True,\n",
       " 'SibSp': False,\n",
       " 'Parch': False,\n",
       " 'Fare': True,\n",
       " 'Pclass_missing': False,\n",
       " 'Name_missing': False,\n",
       " 'Sex_missing': False,\n",
       " 'Age_missing': False,\n",
       " 'SibSp_missing': False,\n",
       " 'Parch_missing': False,\n",
       " 'Ticket_missing': False,\n",
       " 'Fare_missing': False,\n",
       " 'Cabin_missing': False,\n",
       " 'Embarked_missing': False,\n",
       " 1: False,\n",
       " 2: False,\n",
       " 3: True,\n",
       " 'Abbott, Mr. Rossmore Edward': False,\n",
       " 'Abbott, Mrs. Stanton (Rosa Hunt)': False,\n",
       " 'Abelson, Mr. Samuel': False,\n",
       " 'Abelson, Mrs. Samuel (Hannah Wizosky)': False,\n",
       " 'Adams, Mr. John': False,\n",
       " 'Ahlin, Mrs. Johan (Johanna Persdotter Larsson)': True,\n",
       " 'Aks, Mrs. Sam (Leah Rosen)': False,\n",
       " 'Albimona, Mr. Nassef Cassem': True,\n",
       " 'Alexander, Mr. William': False,\n",
       " 'Ali, Mr. William': False,\n",
       " 'Allen, Miss. Elisabeth Walton': False,\n",
       " 'Allen, Mr. William Henry': False,\n",
       " 'Allison, Master. Hudson Trevor': True,\n",
       " 'Allison, Miss. Helen Loraine': True,\n",
       " 'Allison, Mrs. Hudson J C (Bessie Waldo Daniels)': True,\n",
       " 'Allum, Mr. Owen George': False,\n",
       " 'Anderson, Mr. Harry': True,\n",
       " 'Andersson, Master. Sigvard Harald Elias': False,\n",
       " 'Andersson, Miss. Ellis Anna Maria': True,\n",
       " 'Andersson, Miss. Erna Alexandra': False,\n",
       " 'Andersson, Mr. Anders Johan': False,\n",
       " 'Andersson, Mr. August Edvard (\"Wennerstrom\")': True,\n",
       " 'Andersson, Mrs. Anders Johan (Alfrida Konstantia Brogren)': True,\n",
       " 'Andreasson, Mr. Paul Edvin': False,\n",
       " 'Andrew, Mr. Edgardo Samuel': False,\n",
       " 'Andrews, Mr. Thomas Jr': False,\n",
       " 'Appleton, Mrs. Edward Dale (Charlotte Lamson)': False,\n",
       " 'Arnold-Franchi, Mr. Josef': False,\n",
       " 'Asplund, Master. Clarence Gustaf Hugo': False,\n",
       " 'Asplund, Master. Edvin Rojj Felix': True,\n",
       " 'Asplund, Miss. Lillian Gertrud': False,\n",
       " 'Astor, Mrs. John Jacob (Madeleine Talmadge Force)': False,\n",
       " 'Attalah, Miss. Malake': True,\n",
       " 'Aubart, Mme. Leontine Pauline': False,\n",
       " 'Ayoub, Miss. Banoura': False,\n",
       " 'Backstrom, Mr. Karl Alfred': False,\n",
       " 'Backstrom, Mrs. Karl Alfred (Maria Mathilda Gustafsson)': False,\n",
       " 'Baclini, Miss. Eugenie': False,\n",
       " 'Baclini, Miss. Helene Barbara': False,\n",
       " 'Baclini, Mrs. Solomon (Latifa Qurban)': False,\n",
       " 'Badt, Mr. Mohamed': False,\n",
       " 'Bailey, Mr. Percy Andrew': False,\n",
       " 'Balkic, Mr. Cerin': False,\n",
       " 'Banfield, Mr. Frederick James': False,\n",
       " 'Barbara, Miss. Saiide': True,\n",
       " 'Barkworth, Mr. Algernon Henry Wilson': True,\n",
       " 'Barton, Mr. David John': False,\n",
       " 'Bateman, Rev. Robert James': False,\n",
       " 'Beane, Mr. Edward': True,\n",
       " 'Beane, Mrs. Edward (Ethel Clarke)': False,\n",
       " 'Beavan, Mr. William Thomas': False,\n",
       " 'Becker, Master. Richard F': True,\n",
       " 'Becker, Miss. Marion Louise': False,\n",
       " 'Beckwith, Mr. Richard Leonard': True,\n",
       " 'Beckwith, Mrs. Richard Leonard (Sallie Monypeny)': False,\n",
       " 'Beesley, Mr. Lawrence': True,\n",
       " 'Bengtsson, Mr. John Viktor': False,\n",
       " 'Berglund, Mr. Karl Ivar Sven': False,\n",
       " 'Betros, Mr. Tannous': False,\n",
       " 'Bidois, Miss. Rosalie': False,\n",
       " 'Bing, Mr. Lee': True,\n",
       " 'Bishop, Mr. Dickinson H': True,\n",
       " 'Bissette, Miss. Amelia': False,\n",
       " 'Bjornstrom-Steffansson, Mr. Mauritz Hakan': True,\n",
       " 'Blackwell, Mr. Stephen Weart': False,\n",
       " 'Bonnell, Miss. Elizabeth': False,\n",
       " 'Bostandyeff, Mr. Guentcho': False,\n",
       " 'Boulos, Mr. Hanna': False,\n",
       " 'Boulos, Mrs. Joseph (Sultana)': True,\n",
       " 'Bourke, Miss. Mary': True,\n",
       " 'Bourke, Mr. John': False,\n",
       " 'Bowen, Mr. David John \"Dai\"': False,\n",
       " 'Bowerman, Miss. Elsie Edith': False,\n",
       " 'Bracken, Mr. James H': False,\n",
       " 'Braund, Mr. Owen Harris': False,\n",
       " 'Brewe, Dr. Arthur Jackson': False,\n",
       " 'Brocklebank, Mr. William Alfred': False,\n",
       " 'Brown, Miss. Amelia \"Mildred\"': False,\n",
       " 'Brown, Mr. Thomas William Solomon': False,\n",
       " 'Brown, Mrs. James Joseph (Margaret Tobin)': False,\n",
       " 'Bryhl, Mr. Kurt Arnold Gottfrid': False,\n",
       " 'Burke, Mr. Jeremiah': False,\n",
       " 'Burns, Miss. Elizabeth Margaret': False,\n",
       " 'Buss, Miss. Kate': False,\n",
       " 'Butler, Mr. Reginald Fenton': False,\n",
       " 'Byles, Rev. Thomas Roussel Davids': False,\n",
       " 'Cacic, Mr. Luka': False,\n",
       " 'Cairns, Mr. Alexander': False,\n",
       " 'Calderhead, Mr. Edward Pennington': False,\n",
       " 'Calic, Mr. Jovo': False,\n",
       " 'Calic, Mr. Petar': False,\n",
       " 'Campbell, Mr. William': False,\n",
       " 'Canavan, Miss. Mary': True,\n",
       " 'Cann, Mr. Ernest Charles': False,\n",
       " 'Carbines, Mr. William': False,\n",
       " 'Cardeza, Mr. Thomas Drake Martinez': False,\n",
       " 'Carlsson, Mr. August Sigfrid': False,\n",
       " 'Carlsson, Mr. Frans Olof': False,\n",
       " 'Carrau, Mr. Francisco M': False,\n",
       " 'Carter, Miss. Lucile Polk': False,\n",
       " 'Carter, Mrs. William Ernest (Lucile Polk)': False,\n",
       " 'Carter, Rev. Ernest Courtenay': False,\n",
       " 'Cavendish, Mr. Tyrell William': False,\n",
       " 'Celotti, Mr. Francesco': False,\n",
       " 'Chaffee, Mr. Herbert Fuller': False,\n",
       " 'Chambers, Mr. Norman Campbell': True,\n",
       " 'Chambers, Mrs. Norman Campbell (Bertha Griggs)': False,\n",
       " 'Chapman, Mr. Charles Henry': False,\n",
       " 'Charters, Mr. David': False,\n",
       " 'Cherry, Miss. Gladys': False,\n",
       " 'Chibnall, Mrs. (Edith Martha Bowerman)': False,\n",
       " 'Chip, Mr. Chang': True,\n",
       " 'Christmann, Mr. Emil': False,\n",
       " 'Chronopoulos, Mr. Apostolos': False,\n",
       " 'Cleaver, Miss. Alice': False,\n",
       " 'Clifford, Mr. George Quincy': False,\n",
       " 'Coelho, Mr. Domingos Fernandeo': False,\n",
       " 'Coleff, Mr. Peju': False,\n",
       " 'Coleridge, Mr. Reginald Charles': False,\n",
       " 'Colley, Mr. Edward Pomeroy': False,\n",
       " 'Collyer, Miss. Marjorie \"Lottie\"': False,\n",
       " 'Collyer, Mr. Harvey': False,\n",
       " 'Collyer, Mrs. Harvey (Charlotte Annie Tate)': False,\n",
       " 'Connaghton, Mr. Michael': False,\n",
       " 'Connolly, Miss. Kate': False,\n",
       " 'Connors, Mr. Patrick': False,\n",
       " 'Cor, Mr. Liudevit': False,\n",
       " 'Corn, Mr. Harry': False,\n",
       " 'Coutts, Master. Eden Leslie \"Neville\"': False,\n",
       " 'Coutts, Master. William Loch \"William\"': False,\n",
       " 'Coxon, Mr. Daniel': False,\n",
       " 'Cribb, Mr. John Hatfield': False,\n",
       " 'Crosby, Capt. Edward Gifford': False,\n",
       " 'Crosby, Miss. Harriet R': False,\n",
       " 'Culumovic, Mr. Jeso': False,\n",
       " 'Cumings, Mrs. John Bradley (Florence Briggs Thayer)': False,\n",
       " 'Cunningham, Mr. Alfred Fleming': False,\n",
       " 'Dahlberg, Miss. Gerda Ulrika': True,\n",
       " 'Dakic, Mr. Branko': False,\n",
       " 'Daly, Mr. Eugene Patrick': True,\n",
       " 'Daly, Mr. Peter Denis ': True,\n",
       " 'Danbom, Mr. Ernst Gilbert': False,\n",
       " 'Danbom, Mrs. Ernst Gilbert (Anna Sigrid Maria Brogren)': True,\n",
       " 'Daniel, Mr. Robert Williams': True,\n",
       " 'Dantcheff, Mr. Ristiu': False,\n",
       " 'Davidson, Mr. Thornton': False,\n",
       " 'Davies, Master. John Morgan Jr': True,\n",
       " 'Davies, Mr. Alfred J': False,\n",
       " 'Davies, Mr. Charles Henry': False,\n",
       " 'Davis, Miss. Mary': False,\n",
       " 'Davison, Mrs. Thomas Henry (Mary E Finck)': False,\n",
       " 'Dean, Master. Bertram Vere': True,\n",
       " 'Dean, Mr. Bertram Frank': False,\n",
       " 'Denkoff, Mr. Mitto': False,\n",
       " 'Dennis, Mr. Samuel': False,\n",
       " 'Dick, Mr. Albert Adrian': True,\n",
       " 'Dimic, Mr. Jovan': False,\n",
       " 'Dodge, Master. Washington': True,\n",
       " 'Doharr, Mr. Tannous': False,\n",
       " 'Doling, Miss. Elsie': False,\n",
       " 'Doling, Mrs. John T (Ada Julia Bone)': False,\n",
       " 'Dooley, Mr. Patrick': False,\n",
       " 'Dorking, Mr. Edward Arthur': True,\n",
       " 'Douglas, Mr. Walter Donald': False,\n",
       " 'Dowdell, Miss. Elizabeth': False,\n",
       " 'Downton, Mr. William James': False,\n",
       " 'Drazenoic, Mr. Jozef': False,\n",
       " 'Duff Gordon, Lady. (Lucille Christiana Sutherland) (\"Mrs Morgan\")': False,\n",
       " 'Duran y More, Miss. Asuncion': False,\n",
       " 'Edvardsson, Mr. Gustaf Hjalmar': False,\n",
       " 'Eitemiller, Mr. George Floyd': False,\n",
       " 'Eklund, Mr. Hans Linus': False,\n",
       " 'Ekstrom, Mr. Johan': False,\n",
       " 'Elias, Mr. Tannous': False,\n",
       " 'Elsbury, Mr. William James': False,\n",
       " 'Emir, Mr. Farred Chehab': False,\n",
       " 'Eustis, Miss. Elizabeth Mussey': False,\n",
       " 'Fahlstrom, Mr. Arne Jonas': False,\n",
       " 'Farrell, Mr. James': False,\n",
       " 'Faunthorpe, Mrs. Lizzie (Elizabeth Anne Wilkinson)': False,\n",
       " 'Flynn, Mr. James': False,\n",
       " 'Flynn, Mr. John': False,\n",
       " 'Ford, Miss. Doolina Margaret \"Daisy\"': False,\n",
       " 'Ford, Miss. Robina Maggie \"Ruby\"': False,\n",
       " 'Foreman, Mr. Benjamin Laventall': False,\n",
       " 'Fortune, Miss. Alice Elizabeth': False,\n",
       " 'Fortune, Miss. Mabel Helen': False,\n",
       " 'Fortune, Mr. Charles Alexander': False,\n",
       " 'Fortune, Mr. Mark': False,\n",
       " 'Frauenthal, Dr. Henry William': True,\n",
       " 'Frauenthal, Mrs. Henry William (Clara Heinsheimer)': False,\n",
       " 'Frolicher-Stehli, Mr. Maxmillian': True,\n",
       " 'Fry, Mr. Richard': False,\n",
       " 'Futrelle, Mrs. Jacques Heath (Lily May Peel)': False,\n",
       " 'Fynney, Mr. Joseph J': False,\n",
       " 'Gale, Mr. Shadrach': False,\n",
       " 'Gallagher, Mr. Martin': False,\n",
       " 'Garfirth, Mr. John': False,\n",
       " 'Garside, Miss. Ethel': False,\n",
       " 'Gaskell, Mr. Alfred': False,\n",
       " 'Gavey, Mr. Lawrence': False,\n",
       " 'Gheorgheff, Mr. Stanio': False,\n",
       " 'Giles, Mr. Frederick Edward': False,\n",
       " 'Gilinski, Mr. Eliezer': False,\n",
       " 'Gill, Mr. John William': False,\n",
       " 'Gillespie, Mr. William Henry': False,\n",
       " 'Gilnagh, Miss. Katherine \"Katie\"': False,\n",
       " 'Glynn, Miss. Mary Agatha': False,\n",
       " 'Goldenberg, Mr. Samuel L': True,\n",
       " 'Goldsmith, Mr. Frank John': False,\n",
       " 'Goldsmith, Mrs. Frank John (Emily Alice Brown)': False,\n",
       " 'Goodwin, Master. Harold Victor': False,\n",
       " 'Goodwin, Master. Sidney Leonard': False,\n",
       " 'Goodwin, Master. William Frederick': False,\n",
       " 'Goodwin, Miss. Lillian Amy': True,\n",
       " 'Goodwin, Mr. Charles Edward': False,\n",
       " 'Goodwin, Mrs. Frederick (Augusta Tyler)': True,\n",
       " 'Graham, Miss. Margaret Edith': False,\n",
       " 'Graham, Mr. George Edward': False,\n",
       " 'Graham, Mrs. William Thompson (Edith Junkins)': False,\n",
       " 'Green, Mr. George Henry': False,\n",
       " 'Greenberg, Mr. Samuel': False,\n",
       " 'Gronnestad, Mr. Daniel Danielsen': False,\n",
       " 'Guggenheim, Mr. Benjamin': False,\n",
       " 'Gustafsson, Mr. Anders Vilhelm': False,\n",
       " 'Gustafsson, Mr. Johan Birger': False,\n",
       " 'Gustafsson, Mr. Karl Gideon': False,\n",
       " 'Haas, Miss. Aloisia': True,\n",
       " 'Hagland, Mr. Ingvald Olai Olsen': False,\n",
       " 'Hagland, Mr. Konrad Mathias Reiersen': False,\n",
       " 'Hakkarainen, Mr. Pekka Pietari': False,\n",
       " 'Hakkarainen, Mrs. Pekka Pietari (Elin Matilda Dolck)': False,\n",
       " 'Hale, Mr. Reginald': False,\n",
       " 'Hamalainen, Master. Viljo': True,\n",
       " 'Hamalainen, Mrs. William (Anna)': False,\n",
       " 'Hampe, Mr. Leon': False,\n",
       " 'Hansen, Mr. Claus Peter': False,\n",
       " 'Hansen, Mr. Henry Damsgaard': False,\n",
       " 'Harder, Mr. George Achilles': True,\n",
       " 'Harper, Mr. Henry Sleeper': False,\n",
       " 'Harper, Mrs. Henry Sleeper (Myna Haxtun)': False,\n",
       " 'Harper, Rev. John': False,\n",
       " 'Harrington, Mr. Charles H': False,\n",
       " 'Harris, Mr. George': True,\n",
       " 'Harris, Mr. Henry Birkhardt': False,\n",
       " 'Harris, Mr. Walter': False,\n",
       " 'Harris, Mrs. Henry Birkhardt (Irene Wallach)': False,\n",
       " 'Harrison, Mr. William': False,\n",
       " 'Hart, Mr. Benjamin': False,\n",
       " 'Hart, Mr. Henry': False,\n",
       " 'Hart, Mrs. Benjamin (Esther Ada Bloomfield)': False,\n",
       " 'Hassab, Mr. Hammad': False,\n",
       " 'Hassan, Mr. Houssein G N': False,\n",
       " 'Hawksford, Mr. Walter James': True,\n",
       " 'Hays, Miss. Margaret Bechstein': False,\n",
       " 'Healy, Miss. Hanora \"Nora\"': False,\n",
       " 'Hedman, Mr. Oskar Arvid': True,\n",
       " 'Hegarty, Miss. Hanora \"Nora\"': True,\n",
       " 'Heikkinen, Miss. Laina': False,\n",
       " 'Heininen, Miss. Wendla Maria': True,\n",
       " 'Hendekovic, Mr. Ignjac': False,\n",
       " 'Henry, Miss. Delia': True,\n",
       " 'Herman, Miss. Alice': False,\n",
       " 'Herman, Mrs. Samuel (Jane Laver)': False,\n",
       " 'Hewlett, Mrs. (Mary D Kingcome) ': False,\n",
       " 'Hickman, Mr. Leonard Mark': False,\n",
       " 'Hickman, Mr. Lewis': False,\n",
       " 'Hippach, Miss. Jean Gertrude': False,\n",
       " 'Hippach, Mrs. Louis Albert (Ida Sophia Fischer)': False,\n",
       " 'Hirvonen, Miss. Hildur E': False,\n",
       " 'Hocking, Mrs. Elizabeth (Eliza Needs)': False,\n",
       " 'Hodges, Mr. Henry Price': False,\n",
       " 'Hogeboom, Mrs. John C (Anna Andrews)': False,\n",
       " 'Hold, Mr. Stephen': False,\n",
       " 'Holm, Mr. John Fredrik Alexander': False,\n",
       " 'Holverson, Mr. Alexander Oskar': False,\n",
       " 'Holverson, Mrs. Alexander Oskar (Mary Aline Towner)': False,\n",
       " 'Honkanen, Miss. Eliina': False,\n",
       " 'Horgan, Mr. John': False,\n",
       " 'Hosono, Mr. Masabumi': True,\n",
       " 'Hoyt, Mr. Frederick Maxfield': True,\n",
       " 'Humblen, Mr. Adolf Mathias Nicolai Olsen': False,\n",
       " 'Ibrahim Shawah, Mr. Yousseff': False,\n",
       " 'Icard, Miss. Amelie': False,\n",
       " 'Ilmakangas, Miss. Pieta Sofia': True,\n",
       " 'Isham, Miss. Ann Elizabeth': True,\n",
       " 'Ivanoff, Mr. Kanio': False,\n",
       " 'Jacobsohn, Mr. Sidney Samuel': False,\n",
       " 'Jacobsohn, Mrs. Sidney Samuel (Amy Frances Christy)': False,\n",
       " 'Jalsevac, Mr. Ivan': True,\n",
       " 'Jansson, Mr. Carl Olof': True,\n",
       " 'Jarvis, Mr. John Denzil': False,\n",
       " 'Jensen, Mr. Hans Peder': False,\n",
       " 'Jensen, Mr. Niels Peder': False,\n",
       " 'Jermyn, Miss. Annie': False,\n",
       " 'Jerwan, Mrs. Amin S (Marie Marthe Thuillard)': False,\n",
       " 'Johannesen-Bratthammer, Mr. Bernt': True,\n",
       " 'Johanson, Mr. Jakob Alfred': False,\n",
       " 'Johansson, Mr. Erik': False,\n",
       " 'Johansson, Mr. Gustaf Joel': False,\n",
       " 'Johansson, Mr. Karl Johan': False,\n",
       " 'Johnson, Master. Harold Theodor': True,\n",
       " 'Johnson, Miss. Eleanor Ileen': False,\n",
       " 'Johnson, Mr. Alfred': False,\n",
       " 'Johnson, Mr. Malkolm Joackim': False,\n",
       " 'Johnson, Mr. William Cahoone Jr': False,\n",
       " 'Johnson, Mrs. Oscar W (Elisabeth Vilhelmina Berg)': False,\n",
       " 'Johnston, Miss. Catherine Helen \"Carrie\"': True,\n",
       " 'Johnston, Mr. Andrew G': False,\n",
       " 'Jonkoff, Mr. Lalio': False,\n",
       " 'Jonsson, Mr. Carl': True,\n",
       " 'Jussila, Miss. Katriina': True,\n",
       " 'Jussila, Miss. Mari Aina': True,\n",
       " 'Jussila, Mr. Eiriik': True,\n",
       " 'Kantor, Mr. Sinai': False,\n",
       " 'Kantor, Mrs. Sinai (Miriam Sternin)': False,\n",
       " 'Karaic, Mr. Milan': False,\n",
       " 'Karlsson, Mr. Nils August': False,\n",
       " 'Karun, Miss. Manca': False,\n",
       " 'Kassem, Mr. Fared': False,\n",
       " 'Keane, Miss. Nora A': False,\n",
       " 'Keefe, Mr. Arthur': False,\n",
       " 'Kelly, Miss. Mary': False,\n",
       " 'Kelly, Mrs. Florence \"Fannie\"': False,\n",
       " 'Kent, Mr. Edward Austin': False,\n",
       " 'Kiernan, Mr. Philip': False,\n",
       " 'Kink, Mr. Vincenz': False,\n",
       " 'Kink-Heilmann, Miss. Luise Gretchen': False,\n",
       " 'Kirkland, Rev. Charles Leonard': False,\n",
       " 'Klaber, Mr. Herman': False,\n",
       " 'Klasen, Mr. Klas Albin': False,\n",
       " 'Knight, Mr. Robert J': False,\n",
       " 'Kraeff, Mr. Theodor': False,\n",
       " 'Lahoud, Mr. Sarkis': False,\n",
       " 'Laitinen, Miss. Kristina Sofia': True,\n",
       " 'Laleff, Mr. Kristo': False,\n",
       " 'Lam, Mr. Ali': True,\n",
       " 'Lam, Mr. Len': False,\n",
       " 'Landergren, Miss. Aurora Adelia': False,\n",
       " 'Lang, Mr. Fang': True,\n",
       " 'Laroche, Miss. Simonne Marie Anne Andree': False,\n",
       " 'Laroche, Mr. Joseph Philippe Lemercier': False,\n",
       " 'Laroche, Mrs. Joseph (Juliette Marie Louise Lafargue)': False,\n",
       " 'LeRoy, Miss. Bertha': False,\n",
       " 'Leeni, Mr. Fahim (\"Philip Zenni\")': True,\n",
       " 'Lefebre, Master. Henry Forbes': False,\n",
       " 'Lefebre, Miss. Mathilde': True,\n",
       " 'Lehmann, Miss. Bertha': False,\n",
       " 'Leinonen, Mr. Antti Gustaf': False,\n",
       " 'Leitch, Miss. Jessie Wills': False,\n",
       " 'Lemberopolous, Mr. Peter L': False,\n",
       " 'Lemore, Mrs. (Amelia Milley)': False,\n",
       " 'Lennon, Mr. Denis': False,\n",
       " 'Leonard, Mr. Lionel': False,\n",
       " 'Lester, Mr. James': False,\n",
       " 'Lesurer, Mr. Gustave J': False,\n",
       " 'Lewy, Mr. Ervin G': False,\n",
       " 'Leyson, Mr. Robert William Norman': False,\n",
       " 'Lievens, Mr. Rene Aime': False,\n",
       " 'Lindahl, Miss. Agda Thorilda Viktoria': True,\n",
       " 'Lindblom, Miss. Augusta Charlotta': True,\n",
       " 'Lindqvist, Mr. Eino William': True,\n",
       " 'Ling, Mr. Lee': False,\n",
       " 'Lobb, Mr. William Arthur': False,\n",
       " 'Lobb, Mrs. William Arthur (Cordelia K Stanlick)': True,\n",
       " 'Long, Mr. Milton Clyde': False,\n",
       " 'Longley, Miss. Gretchen Fiske': False,\n",
       " 'Louch, Mrs. Charles Alexander (Alice Adelaide Slow)': False,\n",
       " 'Lulic, Mr. Nikola': True,\n",
       " 'Lundahl, Mr. Johan Svensson': False,\n",
       " 'Lurette, Miss. Elise': False,\n",
       " 'Madill, Miss. Georgette Alexandra': False,\n",
       " 'Madsen, Mr. Fridtjof Arne': True,\n",
       " 'Maenpaa, Mr. Matti Alexanteri': False,\n",
       " 'Maioni, Miss. Roberta': False,\n",
       " 'Maisner, Mr. Simon': False,\n",
       " 'Mallet, Master. Andre': True,\n",
       " 'Mallet, Mr. Albert': False,\n",
       " 'Mamee, Mr. Hanna': True,\n",
       " 'Mannion, Miss. Margareth': False,\n",
       " 'Marechal, Mr. Pierre': True,\n",
       " 'Markoff, Mr. Marin': False,\n",
       " 'Markun, Mr. Johann': False,\n",
       " 'Marvin, Mr. Daniel Warner': False,\n",
       " 'Masselmani, Mrs. Fatima': False,\n",
       " 'Matthews, Mr. William John': False,\n",
       " 'Mayne, Mlle. Berthe Antonine (\"Mrs de Villiers\")': False,\n",
       " 'McCarthy, Mr. Timothy J': False,\n",
       " 'McCormack, Mr. Thomas Joseph': True,\n",
       " 'McCoy, Miss. Agnes': False,\n",
       " 'McCoy, Mr. Bernard': True,\n",
       " 'McEvoy, Mr. Michael': False,\n",
       " 'McGovern, Miss. Mary': False,\n",
       " 'McGowan, Miss. Anna \"Annie\"': False,\n",
       " 'McKane, Mr. Peter David': False,\n",
       " 'McMahon, Mr. Martin': False,\n",
       " 'McNamee, Mr. Neal': False,\n",
       " 'Meanwell, Miss. (Marion Ogden)': True,\n",
       " 'Meek, Mrs. Thomas (Annie Louise Rowley)': True,\n",
       " 'Mellinger, Mrs. (Elizabeth Anne Maidment)': False,\n",
       " 'Mellors, Mr. William John': True,\n",
       " 'Meo, Mr. Alfonzo': False,\n",
       " 'Meyer, Mr. Edgar Joseph': False,\n",
       " 'Millet, Mr. Francis Davis': False,\n",
       " 'Milling, Mr. Jacob Christian': False,\n",
       " 'Minahan, Dr. William Edward': False,\n",
       " 'Mionoff, Mr. Stoytcho': False,\n",
       " 'Mitchell, Mr. Henry Michael': False,\n",
       " 'Mitkoff, Mr. Mito': False,\n",
       " 'Moen, Mr. Sigurd Hansen': False,\n",
       " 'Molson, Mr. Harry Markland': False,\n",
       " 'Moor, Master. Meier': True,\n",
       " 'Moor, Mrs. (Beila)': False,\n",
       " 'Moore, Mr. Leonard Charles': False,\n",
       " 'Moran, Mr. Daniel J': False,\n",
       " 'Moraweck, Dr. Ernest': False,\n",
       " 'Morley, Mr. Henry Samuel (\"Mr Henry Marshall\")': False,\n",
       " 'Morley, Mr. William': False,\n",
       " 'Morrow, Mr. Thomas Rowan': False,\n",
       " 'Moss, Mr. Albert Johan': True,\n",
       " 'Moussa, Mrs. (Mantoura Boulos)': False,\n",
       " 'Mudd, Mr. Thomas Charles': False,\n",
       " 'Mullens, Miss. Katherine \"Katie\"': False,\n",
       " 'Murdlin, Mr. Joseph': False,\n",
       " 'Murphy, Miss. Katherine \"Kate\"': False,\n",
       " 'Murphy, Miss. Margaret Jane': False,\n",
       " 'Myhrman, Mr. Pehr Fabian Oliver Malkolm': False,\n",
       " 'Naidenoff, Mr. Penko': False,\n",
       " 'Najib, Miss. Adele Kiamie \"Jane\"': False,\n",
       " 'Nakid, Miss. Maria (\"Mary\")': False,\n",
       " 'Nakid, Mr. Sahid': True,\n",
       " 'Nasser, Mr. Nicholas': False,\n",
       " 'Nasser, Mrs. Nicholas (Adele Achem)': False,\n",
       " 'Natsch, Mr. Charles H': False,\n",
       " 'Navratil, Master. Edmond Roger': True,\n",
       " 'Navratil, Master. Michel M': True,\n",
       " 'Navratil, Mr. Michel (\"Louis M Hoffman\")': False,\n",
       " 'Nenkoff, Mr. Christo': False,\n",
       " 'Newell, Miss. Marjorie': False,\n",
       " 'Nicholls, Mr. Joseph Charles': False,\n",
       " 'Nicola-Yarred, Master. Elias': True,\n",
       " 'Nilsson, Miss. Helmina Josefina': False,\n",
       " 'Nirva, Mr. Iisakki Antino Aijo': False,\n",
       " 'Niskanen, Mr. Juha': True,\n",
       " 'Norman, Mr. Robert Douglas': False,\n",
       " 'Nosworthy, Mr. Richard Cater': False,\n",
       " 'Novel, Mr. Mansouer': False,\n",
       " \"O'Brien, Mr. Thomas\": False,\n",
       " \"O'Brien, Mr. Timothy\": False,\n",
       " 'O\\'Brien, Mrs. Thomas (Johanna \"Hannah\" Godfrey)': False,\n",
       " \"O'Connell, Mr. Patrick D\": False,\n",
       " \"O'Connor, Mr. Maurice\": False,\n",
       " \"O'Driscoll, Miss. Bridget\": False,\n",
       " 'O\\'Dwyer, Miss. Ellen \"Nellie\"': False,\n",
       " \"O'Sullivan, Miss. Bridget Mary\": True,\n",
       " 'Ohman, Miss. Velin': False,\n",
       " 'Olsen, Mr. Henry Margido': False,\n",
       " 'Olsen, Mr. Karl Siegwart Andreas': False,\n",
       " 'Olsen, Mr. Ole Martin': False,\n",
       " 'Oreskovic, Miss. Marija': True,\n",
       " 'Oreskovic, Mr. Luka': False,\n",
       " 'Osen, Mr. Olaf Elon': False,\n",
       " 'Osman, Mrs. Mara': False,\n",
       " 'Otter, Mr. Richard': False,\n",
       " 'Padro y Manent, Mr. Julian': True,\n",
       " 'Palsson, Miss. Stina Viola': False,\n",
       " 'Palsson, Miss. Torborg Danira': False,\n",
       " 'Palsson, Mrs. Nils (Alma Cornelia Berglund)': False,\n",
       " 'Panula, Master. Eino Viljami': False,\n",
       " 'Panula, Master. Juha Niilo': False,\n",
       " 'Panula, Master. Urho Abraham': False,\n",
       " 'Panula, Mr. Jaako Arnold': False,\n",
       " 'Panula, Mrs. Juha (Maria Emilia Ojala)': True,\n",
       " 'Parkes, Mr. Francis \"Frank\"': False,\n",
       " 'Parr, Mr. William Henry Marsh': False,\n",
       " 'Pasic, Mr. Jakob': False,\n",
       " 'Patchett, Mr. George': False,\n",
       " 'Pavlovic, Mr. Stefo': False,\n",
       " 'Pears, Mr. Thomas Clinton': False,\n",
       " 'Pears, Mrs. Thomas (Edith Wearne)': False,\n",
       " 'Peduzzi, Mr. Joseph': False,\n",
       " 'Pekoniemi, Mr. Edvard': False,\n",
       " 'Penasco y Castellana, Mr. Victor de Satode': True,\n",
       " 'Penasco y Castellana, Mrs. Victor de Satode (Maria Josefa Perez de Soto y Vallejo)': False,\n",
       " 'Pengelly, Mr. Frederick William': False,\n",
       " 'Perkin, Mr. John Henry': False,\n",
       " 'Pernot, Mr. Rene': False,\n",
       " 'Perreault, Miss. Anne': False,\n",
       " 'Persson, Mr. Ernst Ulrik': True,\n",
       " 'Peter, Miss. Anna': False,\n",
       " 'Peters, Miss. Katie': True,\n",
       " 'Petranec, Miss. Matilda': True,\n",
       " 'Pettersson, Miss. Ellen Natalia': True,\n",
       " 'Peuchen, Major. Arthur Godfrey': True,\n",
       " 'Phillips, Miss. Kate Florence (\"Mrs Kate Louise Phillips Marshall\")': False,\n",
       " 'Pickard, Mr. Berk (Berk Trembisky)': True,\n",
       " 'Pinsky, Mrs. (Rosa)': False,\n",
       " 'Plotcharsky, Mr. Vasil': False,\n",
       " 'Potter, Mrs. Thomas Jr (Lily Alexenia Wilson)': False,\n",
       " 'Quick, Miss. Phyllis May': False,\n",
       " 'Quick, Mrs. Frederick Charles (Jane Richards)': False,\n",
       " 'Radeff, Mr. Alexander': False,\n",
       " 'Razi, Mr. Raihed': False,\n",
       " 'Reeves, Mr. David': False,\n",
       " 'Rekic, Mr. Tido': False,\n",
       " 'Renouf, Mr. Peter Henry': False,\n",
       " 'Renouf, Mrs. Peter Henry (Lillian Jefferys)': False,\n",
       " 'Reynaldo, Ms. Encarnacion': False,\n",
       " 'Rice, Master. Arthur': False,\n",
       " 'Rice, Master. Eric': False,\n",
       " 'Rice, Master. Eugene': False,\n",
       " 'Rice, Master. George Hugh': False,\n",
       " 'Richard, Mr. Emile': False,\n",
       " 'Richards, Master. George Sibley': False,\n",
       " 'Richards, Master. William Rowe': False,\n",
       " 'Richards, Mrs. Sidney (Emily Hocking)': False,\n",
       " 'Ridsdale, Miss. Lucy': False,\n",
       " 'Ringhini, Mr. Sante': False,\n",
       " 'Robbins, Mr. Victor': False,\n",
       " 'Robert, Mrs. Edward Scott (Elisabeth Walton McMillan)': False,\n",
       " 'Robins, Mrs. Alexander A (Grace Charity Laury)': True,\n",
       " 'Roebling, Mr. Washington Augustus II': False,\n",
       " 'Rogers, Mr. William John': False,\n",
       " 'Romaine, Mr. Charles Hallace (\"Mr C Rolmane\")': True,\n",
       " 'Rommetvedt, Mr. Knud Paust': False,\n",
       " 'Rood, Mr. Hugh Roscoe': False,\n",
       " 'Ross, Mr. John Hugo': False,\n",
       " 'Rothes, the Countess. of (Lucy Noel Martha Dyer-Edwards)': False,\n",
       " 'Rothschild, Mrs. Martin (Elizabeth L. Barrett)': False,\n",
       " 'Rugg, Miss. Emily': False,\n",
       " 'Rush, Mr. Alfred George John': False,\n",
       " 'Ryan, Mr. Patrick': False,\n",
       " 'Ryerson, Miss. Susan Parker \"Suzette\"': False,\n",
       " 'Saad, Mr. Amin': False,\n",
       " 'Saad, Mr. Khalil': False,\n",
       " 'Saalfeld, Mr. Adolphe': True,\n",
       " 'Sage, Master. Thomas Henry': False,\n",
       " 'Sage, Miss. Constance Gladys': True,\n",
       " 'Sage, Miss. Dorothy Edith \"Dolly\"': True,\n",
       " 'Sage, Miss. Stella Anna': True,\n",
       " 'Sage, Mr. Douglas Bullen': False,\n",
       " 'Sage, Mr. Frederick': False,\n",
       " 'Sage, Mr. George John Jr': False,\n",
       " 'Sagesser, Mlle. Emma': False,\n",
       " 'Salkjelsvik, Miss. Anna Kristine': False,\n",
       " 'Salonen, Mr. Johan Werner': False,\n",
       " 'Samaan, Mr. Youssef': False,\n",
       " 'Sandstrom, Mrs. Hjalmar (Agnes Charlotta Bengtsson)': False,\n",
       " 'Saundercock, Mr. William Henry': False,\n",
       " 'Sawyer, Mr. Frederick Charles': False,\n",
       " 'Sdycoff, Mr. Todor': False,\n",
       " 'Sedgwick, Mr. Charles Frederick Waddington': False,\n",
       " 'Sharp, Mr. Percival James R': False,\n",
       " 'Shellard, Mr. Frederick William': False,\n",
       " 'Shorney, Mr. Charles Joseph': False,\n",
       " 'Shutes, Miss. Elizabeth W': False,\n",
       " 'Silverthorne, Mr. Spencer Victor': False,\n",
       " 'Silvey, Mr. William Baird': False,\n",
       " 'Silvey, Mrs. William Baird (Alice Munger)': False,\n",
       " 'Simmons, Mr. John': False,\n",
       " 'Simonius-Blumer, Col. Oberst Alfons': True,\n",
       " 'Sinkkonen, Miss. Anna': False,\n",
       " 'Sirayanian, Mr. Orsen': False,\n",
       " 'Sivic, Mr. Husein': False,\n",
       " 'Sivola, Mr. Antti Wilhelm': False,\n",
       " 'Sjoblom, Miss. Anna Sofia': False,\n",
       " 'Sjostedt, Mr. Ernst Adolf': False,\n",
       " 'Skoog, Miss. Mabel': False,\n",
       " 'Skoog, Miss. Margit Elizabeth': False,\n",
       " 'Skoog, Mrs. William (Anna Bernhardina Karlsson)': False,\n",
       " 'Slabenoff, Mr. Petco': False,\n",
       " 'Slayter, Miss. Hilda Mary': False,\n",
       " 'Slemen, Mr. Richard James': False,\n",
       " 'Slocovski, Mr. Selman Francis': False,\n",
       " 'Smart, Mr. John Montgomery': False,\n",
       " 'Smiljanic, Mr. Mile': False,\n",
       " 'Smith, Miss. Marion Elsie': False,\n",
       " 'Smith, Mr. Richard William': False,\n",
       " 'Smith, Mr. Thomas': False,\n",
       " 'Sobey, Mr. Samuel James Hayden': False,\n",
       " 'Soholt, Mr. Peter Andreas Lauritz Andersen': False,\n",
       " 'Somerton, Mr. Francis William': False,\n",
       " 'Stahelin-Maeglin, Dr. Max': True,\n",
       " 'Stankovic, Mr. Ivan': False,\n",
       " 'Stanley, Miss. Amy Zillah Elsie': False,\n",
       " 'Stead, Mr. William Thomas': False,\n",
       " 'Stewart, Mr. Albert A': False,\n",
       " 'Stone, Mrs. George Nelson (Martha Evelyn)': False,\n",
       " 'Stoytcheff, Mr. Ilia': False,\n",
       " 'Strandberg, Miss. Ida Sofia': True,\n",
       " 'Stranden, Mr. Juho': True,\n",
       " 'Strom, Miss. Telma Matilda': False,\n",
       " 'Strom, Mrs. Wilhelm (Elna Matilda Persson)': False,\n",
       " 'Sunderland, Mr. Victor Francis': True,\n",
       " 'Sundman, Mr. Johan Julian': True,\n",
       " 'Sutehall, Mr. Henry Jr': False,\n",
       " 'Svensson, Mr. Johan': False,\n",
       " 'Svensson, Mr. Olof': False,\n",
       " 'Swift, Mrs. Frederick Joel (Margaret Welles Barron)': False,\n",
       " 'Taussig, Mr. Emil': False,\n",
       " 'Taussig, Mrs. Emil (Tillie Mandelbaum)': False,\n",
       " 'Thayer, Mr. John Borland': False,\n",
       " 'Thayer, Mr. John Borland Jr': True,\n",
       " 'Thayer, Mrs. John Borland (Marian Longstreth Morris)': False,\n",
       " 'Theobald, Mr. Thomas Leonard': False,\n",
       " 'Thomas, Master. Assad Alexander': True,\n",
       " 'Thorne, Mrs. Gertrude Maybelle': False,\n",
       " 'Thorneycroft, Mr. Percival': False,\n",
       " 'Thorneycroft, Mrs. Percival (Florence Kate White)': False,\n",
       " 'Tobin, Mr. Roger': False,\n",
       " 'Toomey, Miss. Ellen': False,\n",
       " 'Torber, Mr. Ernst William': False,\n",
       " 'Tornquist, Mr. William Henry': True,\n",
       " 'Toufik, Mr. Nakli': False,\n",
       " 'Touma, Mrs. Darwis (Hanne Youssef Razi)': False,\n",
       " 'Troupiansky, Mr. Moses Aaron': False,\n",
       " 'Trout, Mrs. William H (Jessie L)': False,\n",
       " 'Troutt, Miss. Edwina Celia \"Winnie\"': False,\n",
       " 'Turcin, Mr. Stjepan': False,\n",
       " 'Turja, Miss. Anna Sofia': False,\n",
       " 'Turpin, Mr. William John Robert': False,\n",
       " 'Turpin, Mrs. William John Robert (Dorothy Ann Wonnacott)': True,\n",
       " 'Van Impe, Miss. Catharina': False,\n",
       " 'Van Impe, Mrs. Jean Baptiste (Rosalie Paula Govaert)': False,\n",
       " 'Van der hoef, Mr. Wyckoff': False,\n",
       " 'Vande Velde, Mr. Johannes Joseph': False,\n",
       " 'Vande Walle, Mr. Nestor Cyriel': False,\n",
       " 'Vanden Steen, Mr. Leo Peter': False,\n",
       " 'Vander Cruyssen, Mr. Victor': False,\n",
       " 'Vander Planke, Miss. Augusta Maria': True,\n",
       " 'Vander Planke, Mrs. Julius (Emelia Maria Vandemoortele)': True,\n",
       " 'Vestrom, Miss. Hulda Amanda Adolfina': True,\n",
       " 'Waelens, Mr. Achille': False,\n",
       " 'Walker, Mr. William Anderson': False,\n",
       " 'Ward, Miss. Anna': False,\n",
       " 'Warren, Mrs. Frank Manley (Anna Sophia Atkinson)': False,\n",
       " 'Watson, Mr. Ennis Hastings': False,\n",
       " 'Watt, Mrs. James (Elizabeth \"Bessie\" Inglis Milne)': False,\n",
       " 'Webber, Miss. Susan': False,\n",
       " 'Webber, Mr. James': False,\n",
       " 'Weir, Col. John': False,\n",
       " 'Weisz, Mrs. Leopold (Mathilde Francoise Pede)': False,\n",
       " 'Wells, Miss. Joan': False,\n",
       " 'West, Miss. Constance Mirium': False,\n",
       " 'West, Mr. Edwy Arthur': False,\n",
       " 'West, Mrs. Edwy Arthur (Ada Mary Worth)': False,\n",
       " 'White, Mr. Percival Wayland': False,\n",
       " 'White, Mr. Richard Frasar': False,\n",
       " 'Wick, Miss. Mary Natalie': False,\n",
       " 'Wick, Mrs. George Dennick (Mary Hitchcock)': False,\n",
       " 'Widegren, Mr. Carl/Charles Peter': False,\n",
       " 'Wiklund, Mr. Jakob Alfred': False,\n",
       " 'Willey, Mr. Edward': False,\n",
       " 'Williams, Mr. Charles Eugene': True,\n",
       " 'Williams, Mr. Howard Hugh \"Harry\"': False,\n",
       " 'Williams, Mr. Leslie': False,\n",
       " 'Williams-Lambert, Mr. Fletcher Fellows': False,\n",
       " 'Windelov, Mr. Einar': False,\n",
       " 'Wright, Mr. George': False,\n",
       " 'Young, Miss. Marie Grice': False,\n",
       " 'Youseff, Mr. Gerious': False,\n",
       " 'Yousif, Mr. Wazli': False,\n",
       " 'Zabour, Miss. Hileni': False,\n",
       " 'Zabour, Miss. Thamine': False,\n",
       " 'de Messemaeker, Mrs. Guillaume Joseph (Emma)': False,\n",
       " 'de Pelsmaeker, Mr. Alfons': False,\n",
       " 'van Billiard, Mr. Austin Blyler': False,\n",
       " 'van Melkebeke, Mr. Philemon': False,\n",
       " 'female': True,\n",
       " 'male': True,\n",
       " '110152': False,\n",
       " '110413': False,\n",
       " '110465': False,\n",
       " '110564': True,\n",
       " '110813': False,\n",
       " '111240': False,\n",
       " '111361': False,\n",
       " '111428': True,\n",
       " '112050': False,\n",
       " '112052': False,\n",
       " '112053': False,\n",
       " '112058': False,\n",
       " '112059': False,\n",
       " '112379': False,\n",
       " '113028': False,\n",
       " '113051': False,\n",
       " '113055': True,\n",
       " '113056': False,\n",
       " '113059': False,\n",
       " '113501': False,\n",
       " '113505': False,\n",
       " '113510': False,\n",
       " '113514': False,\n",
       " '113572': False,\n",
       " '113760': False,\n",
       " '113767': False,\n",
       " '113773': False,\n",
       " '113776': False,\n",
       " '113781': False,\n",
       " '113783': False,\n",
       " '113784': False,\n",
       " '113786': True,\n",
       " '113787': False,\n",
       " '113789': False,\n",
       " '113792': False,\n",
       " '113796': False,\n",
       " '113798': False,\n",
       " '113800': False,\n",
       " '113803': False,\n",
       " '113804': True,\n",
       " '113806': False,\n",
       " '113807': False,\n",
       " '11668': False,\n",
       " '11751': False,\n",
       " '11755': False,\n",
       " '11765': True,\n",
       " '11767': False,\n",
       " '11769': False,\n",
       " '11771': False,\n",
       " '11774': True,\n",
       " '11967': True,\n",
       " '12233': False,\n",
       " '12749': False,\n",
       " '13049': False,\n",
       " '13213': True,\n",
       " '13214': True,\n",
       " '13502': False,\n",
       " '13507': False,\n",
       " '13509': False,\n",
       " '13567': True,\n",
       " '14311': False,\n",
       " '14312': False,\n",
       " '14313': False,\n",
       " '14973': False,\n",
       " '1601': True,\n",
       " '16966': False,\n",
       " '16988': True,\n",
       " '17421': False,\n",
       " '17453': True,\n",
       " '17463': False,\n",
       " '17466': False,\n",
       " '17474': True,\n",
       " '19877': False,\n",
       " '19928': False,\n",
       " '19943': True,\n",
       " '19950': False,\n",
       " '19952': True,\n",
       " '19988': True,\n",
       " '21440': False,\n",
       " '218629': False,\n",
       " '219533': False,\n",
       " '220367': False,\n",
       " '220845': False,\n",
       " '2223': False,\n",
       " '223596': False,\n",
       " '226593': False,\n",
       " '228414': False,\n",
       " '230080': False,\n",
       " '230136': False,\n",
       " '230434': False,\n",
       " '231919': False,\n",
       " '231945': False,\n",
       " '233639': False,\n",
       " '233866': False,\n",
       " '234360': False,\n",
       " '234604': False,\n",
       " '234686': False,\n",
       " '234818': False,\n",
       " '236171': False,\n",
       " '236853': False,\n",
       " '237442': False,\n",
       " '237565': False,\n",
       " '237668': False,\n",
       " '237736': False,\n",
       " '237798': True,\n",
       " '239853': False,\n",
       " '239855': False,\n",
       " '239856': False,\n",
       " '239865': False,\n",
       " '240929': False,\n",
       " '24160': False,\n",
       " '243847': False,\n",
       " '243880': False,\n",
       " '244252': False,\n",
       " '244310': False,\n",
       " '244358': False,\n",
       " '244361': False,\n",
       " '244367': False,\n",
       " '244373': True,\n",
       " '248698': True,\n",
       " '248706': False,\n",
       " '248727': False,\n",
       " '248731': False,\n",
       " '248733': False,\n",
       " '250643': False,\n",
       " '250644': False,\n",
       " '250647': False,\n",
       " '250648': False,\n",
       " '250649': False,\n",
       " '250653': False,\n",
       " '250655': False,\n",
       " '2620': True,\n",
       " '2623': False,\n",
       " '2624': False,\n",
       " '2625': True,\n",
       " '2626': False,\n",
       " '2627': True,\n",
       " '2628': False,\n",
       " '2629': False,\n",
       " '2631': False,\n",
       " '26360': False,\n",
       " '2641': False,\n",
       " '2647': False,\n",
       " '2648': False,\n",
       " '2649': False,\n",
       " '2650': False,\n",
       " '2651': True,\n",
       " '2653': True,\n",
       " '2662': False,\n",
       " '2664': False,\n",
       " '2665': True,\n",
       " '2666': False,\n",
       " '2667': False,\n",
       " '2668': False,\n",
       " '2669': False,\n",
       " '26707': False,\n",
       " '2671': False,\n",
       " '2672': False,\n",
       " '2677': True,\n",
       " '2678': True,\n",
       " '2680': False,\n",
       " '2683': False,\n",
       " '2685': False,\n",
       " '2686': False,\n",
       " '2687': False,\n",
       " '2691': True,\n",
       " '2695': False,\n",
       " '2697': False,\n",
       " '2699': False,\n",
       " '2700': False,\n",
       " '27042': True,\n",
       " '27267': False,\n",
       " '27849': False,\n",
       " '28134': False,\n",
       " '28206': False,\n",
       " '28213': False,\n",
       " '28228': False,\n",
       " '28403': False,\n",
       " '28424': False,\n",
       " '28664': False,\n",
       " '28665': False,\n",
       " '29011': False,\n",
       " '2908': False,\n",
       " '29103': False,\n",
       " '29105': False,\n",
       " '29106': True,\n",
       " '29108': False,\n",
       " '2926': False,\n",
       " '29750': False,\n",
       " '29751': False,\n",
       " '3101264': False,\n",
       " '3101265': False,\n",
       " '3101267': False,\n",
       " '3101276': False,\n",
       " '3101277': False,\n",
       " '3101278': False,\n",
       " '3101281': False,\n",
       " '3101295': False,\n",
       " '3101296': False,\n",
       " '3101298': False,\n",
       " '31027': False,\n",
       " '31028': False,\n",
       " '312991': True,\n",
       " '312993': False,\n",
       " '31418': False,\n",
       " '315037': False,\n",
       " '315086': False,\n",
       " '315088': False,\n",
       " '315089': False,\n",
       " '315090': False,\n",
       " '315093': False,\n",
       " '315094': False,\n",
       " '315096': True,\n",
       " '315097': False,\n",
       " '315098': True,\n",
       " '315151': False,\n",
       " '315153': False,\n",
       " '323592': False,\n",
       " '323951': False,\n",
       " '324669': False,\n",
       " '330909': True,\n",
       " '330923': False,\n",
       " '330931': False,\n",
       " '330935': True,\n",
       " '330959': False,\n",
       " '330979': False,\n",
       " '334912': False,\n",
       " '335097': False,\n",
       " '335677': False,\n",
       " '33638': True,\n",
       " '341826': False,\n",
       " '34218': False,\n",
       " '342826': False,\n",
       " '343095': True,\n",
       " '343120': False,\n",
       " '343275': False,\n",
       " '343276': False,\n",
       " '345572': False,\n",
       " '345763': True,\n",
       " '345764': True,\n",
       " '345765': False,\n",
       " '345767': False,\n",
       " '345769': False,\n",
       " '345770': False,\n",
       " '345773': True,\n",
       " '345777': False,\n",
       " '345778': False,\n",
       " '345780': False,\n",
       " '345781': False,\n",
       " '345783': False,\n",
       " '347054': True,\n",
       " '347060': False,\n",
       " '347061': False,\n",
       " '347062': False,\n",
       " '347063': False,\n",
       " '347064': False,\n",
       " '347068': False,\n",
       " '347069': False,\n",
       " '347071': True,\n",
       " '347073': True,\n",
       " '347074': False,\n",
       " '347077': False,\n",
       " '347078': False,\n",
       " '347080': False,\n",
       " '347082': True,\n",
       " '347083': True,\n",
       " '347085': False,\n",
       " '347087': True,\n",
       " '347088': True,\n",
       " '347089': True,\n",
       " '3474': False,\n",
       " '347466': False,\n",
       " '347470': False,\n",
       " '347742': True,\n",
       " '347743': False,\n",
       " '348121': False,\n",
       " '348123': False,\n",
       " '348124': False,\n",
       " '349201': False,\n",
       " '349203': False,\n",
       " '349204': False,\n",
       " '349205': False,\n",
       " '349206': False,\n",
       " '349207': False,\n",
       " '349210': False,\n",
       " '349213': False,\n",
       " '349214': False,\n",
       " '349217': False,\n",
       " '349221': False,\n",
       " '349222': False,\n",
       " '349223': False,\n",
       " '349224': False,\n",
       " '349225': False,\n",
       " '349227': False,\n",
       " '349228': False,\n",
       " '349231': False,\n",
       " '349234': False,\n",
       " '349236': True,\n",
       " '349237': False,\n",
       " '349239': False,\n",
       " '349240': True,\n",
       " '349241': False,\n",
       " '349242': False,\n",
       " '349243': False,\n",
       " '349244': False,\n",
       " '349245': True,\n",
       " '349246': False,\n",
       " '349247': False,\n",
       " '349248': False,\n",
       " '349249': False,\n",
       " '349251': False,\n",
       " '349253': False,\n",
       " '349254': False,\n",
       " ...}"
      ]
     },
     "execution_count": 160,
     "metadata": {},
     "output_type": "execute_result"
    }
   ],
   "source": [
    "dict(zip(X_train.columns, selector.get_support()))"
   ]
  },
  {
   "cell_type": "code",
   "execution_count": null,
   "metadata": {},
   "outputs": [],
   "source": []
  },
  {
   "cell_type": "code",
   "execution_count": 171,
   "metadata": {
    "ExecuteTime": {
     "end_time": "2022-12-19T17:39:05.301420Z",
     "start_time": "2022-12-19T17:39:05.292786Z"
    }
   },
   "outputs": [],
   "source": [
    "# Logreg\n",
    "\n",
    "X_train_selected = select_important_features(X_train, selector)"
   ]
  },
  {
   "cell_type": "code",
   "execution_count": 172,
   "metadata": {
    "ExecuteTime": {
     "end_time": "2022-12-19T17:39:05.719385Z",
     "start_time": "2022-12-19T17:39:05.700648Z"
    }
   },
   "outputs": [],
   "source": [
    "logreg_sel = LogisticRegression(random_state=42, solver='liblinear', penalty='l1').fit(X_train_selected, y_train)"
   ]
  },
  {
   "cell_type": "code",
   "execution_count": 173,
   "metadata": {
    "ExecuteTime": {
     "end_time": "2022-12-19T17:39:06.415834Z",
     "start_time": "2022-12-19T17:39:06.155943Z"
    }
   },
   "outputs": [
    {
     "data": {
      "image/png": "[encoded data removed]",
      "text/plain": [
       "<Figure size 864x432 with 2 Axes>"
      ]
     },
     "metadata": {
      "needs_background": "light"
     },
     "output_type": "display_data"
    }
   ],
   "source": [
    "# Save for later comparison\n",
    "select_results = ModelWithCV(\n",
    "                    logreg_sel, \n",
    "                    'logreg_sel',\n",
    "                    X_train_selected,\n",
    "                    y_train\n",
    ")\n",
    "\n",
    "# Plot both all_features vs new model\n",
    "f,axes = plt.subplots(ncols=2, sharey='all', figsize=(12, 6))\n",
    "\n",
    "model_results[0].plot_cv(ax=axes[0])\n",
    "select_results.plot_cv(ax=axes[1])\n",
    "\n",
    "plt.tight_layout();"
   ]
  },
  {
   "cell_type": "code",
   "execution_count": 174,
   "metadata": {
    "ExecuteTime": {
     "end_time": "2022-12-19T17:39:09.455055Z",
     "start_time": "2022-12-19T17:39:09.452495Z"
    }
   },
   "outputs": [
    {
     "name": "stdout",
     "output_type": "stream",
     "text": [
      "Old: [0.73134328 0.74626866 0.80597015 0.7761194  0.85074627 0.80597015\n",
      " 0.82089552 0.73134328 0.75757576 0.89393939]\n",
      "New: [0.85074627 0.68656716 0.86567164 0.89552239 0.8358209  0.73134328\n",
      " 0.76119403 0.85074627 0.78787879 0.90909091]\n"
     ]
    }
   ],
   "source": [
    "print(\"Old:\", all_features_cross_val_score)\n",
    "print(\"New:\", select_results.cv_results)"
   ]
  },
  {
   "cell_type": "markdown",
   "metadata": {},
   "source": [
    "Probably still overfitting, but let's call this our final model!"
   ]
  },
  {
   "cell_type": "code",
   "execution_count": 175,
   "metadata": {
    "ExecuteTime": {
     "end_time": "2022-12-19T17:40:24.981818Z",
     "start_time": "2022-12-19T17:40:24.891463Z"
    }
   },
   "outputs": [
    {
     "data": {
      "image/png": "[encoded data removed]",
      "text/plain": [
       "<Figure size 432x288 with 2 Axes>"
      ]
     },
     "metadata": {
      "needs_background": "light"
     },
     "output_type": "display_data"
    }
   ],
   "source": [
    "fig, ax = plt.subplots()\n",
    "\n",
    "fig.suptitle('Logistic Regression with Selected Features (Scaled, Hyperparameters Tuned)')\n",
    "\n",
    "plot_confusion_matrix(logreg_sel, X_train_selected, y_train, ax=ax, cmap='plasma');"
   ]
  },
  {
   "cell_type": "markdown",
   "metadata": {},
   "source": [
    "# Final Model Evaluation"
   ]
  },
  {
   "cell_type": "markdown",
   "metadata": {},
   "source": [
    "Now that we have a final model, run X_test through all of the preprocessing steps so we can evaluate the model's performance"
   ]
  },
  {
   "cell_type": "code",
   "execution_count": 176,
   "metadata": {
    "ExecuteTime": {
     "end_time": "2022-12-19T17:40:30.965733Z",
     "start_time": "2022-12-19T17:40:30.962792Z"
    }
   },
   "outputs": [],
   "source": [
    "X_test_no_transformations = X_test.copy()"
   ]
  },
  {
   "cell_type": "code",
   "execution_count": 177,
   "metadata": {
    "ExecuteTime": {
     "end_time": "2022-12-19T17:40:48.117759Z",
     "start_time": "2022-12-19T17:40:48.114603Z"
    }
   },
   "outputs": [],
   "source": [
    "# add missing indicators\n",
    "X_test_mi = add_missing_indicator_columns(X_test_no_transformations, indicator)"
   ]
  },
  {
   "cell_type": "code",
   "execution_count": 178,
   "metadata": {
    "ExecuteTime": {
     "end_time": "2022-12-19T17:41:30.963769Z",
     "start_time": "2022-12-19T17:41:30.961365Z"
    }
   },
   "outputs": [],
   "source": [
    "# separate out values for imputation\n",
    "X_test_numeric = X_test_mi[numeric_feature_names]\n",
    "X_test_categorical = X_test_mi[categorical_feature_names]"
   ]
  },
  {
   "cell_type": "code",
   "execution_count": 179,
   "metadata": {
    "ExecuteTime": {
     "end_time": "2022-12-19T17:41:40.437948Z",
     "start_time": "2022-12-19T17:41:40.432932Z"
    }
   },
   "outputs": [],
   "source": [
    "# impute missing values\n",
    "X_test_numeric = impute_missing_values(X_test_numeric, numeric_imputer)\n",
    "X_test_categorical = impute_missing_values(X_test_categorical, categorical_imputer)\n",
    "X_test_imputed = pd.concat([X_test_numeric, X_test_categorical], axis=1)\n",
    "X_test_new = X_test_mi.drop(numeric_feature_names + categorical_feature_names, axis=1)\n",
    "X_test_final = pd.concat([X_test_imputed, X_test_new], axis=1)"
   ]
  },
  {
   "cell_type": "code",
   "execution_count": 180,
   "metadata": {
    "ExecuteTime": {
     "end_time": "2022-12-19T17:42:04.888147Z",
     "start_time": "2022-12-19T17:42:04.872648Z"
    }
   },
   "outputs": [],
   "source": [
    "# one-hot encode categorical data\n",
    "for categorical_feature in categorical_feature_names:\n",
    "    X_test_final = encode_and_concat_feature(X_test_final,\n",
    "                                       categorical_feature, encoders[categorical_feature])"
   ]
  },
  {
   "cell_type": "code",
   "execution_count": 181,
   "metadata": {
    "ExecuteTime": {
     "end_time": "2022-12-19T17:43:16.920292Z",
     "start_time": "2022-12-19T17:43:16.910410Z"
    }
   },
   "outputs": [],
   "source": [
    "# scale values\n",
    "X_test_scaled = scale_values(X_test_final, scaler)"
   ]
  },
  {
   "cell_type": "code",
   "execution_count": 182,
   "metadata": {
    "ExecuteTime": {
     "end_time": "2022-12-19T17:43:36.109022Z",
     "start_time": "2022-12-19T17:43:36.101454Z"
    }
   },
   "outputs": [],
   "source": [
    "# select features\n",
    "X_test_selected = select_important_features(X_test_scaled, selector)"
   ]
  },
  {
   "cell_type": "markdown",
   "metadata": {},
   "source": [
    "Create a model with the relevant hyperparameters, fit, and score"
   ]
  },
  {
   "cell_type": "code",
   "execution_count": 183,
   "metadata": {
    "ExecuteTime": {
     "end_time": "2022-12-19T17:43:47.255151Z",
     "start_time": "2022-12-19T17:43:47.245189Z"
    }
   },
   "outputs": [
    {
     "data": {
      "text/html": [
       "<div>\n",
       "<style scoped>\n",
       "    .dataframe tbody tr th:only-of-type {\n",
       "        vertical-align: middle;\n",
       "    }\n",
       "\n",
       "    .dataframe tbody tr th {\n",
       "        vertical-align: top;\n",
       "    }\n",
       "\n",
       "    .dataframe thead th {\n",
       "        text-align: right;\n",
       "    }\n",
       "</style>\n",
       "<table border=\"1\" class=\"dataframe\">\n",
       "  <thead>\n",
       "    <tr style=\"text-align: right;\">\n",
       "      <th></th>\n",
       "      <th>Age</th>\n",
       "      <th>Fare</th>\n",
       "      <th>3</th>\n",
       "      <th>Ahlin, Mrs. Johan (Johanna Persdotter Larsson)</th>\n",
       "      <th>Albimona, Mr. Nassef Cassem</th>\n",
       "      <th>Allison, Master. Hudson Trevor</th>\n",
       "      <th>Allison, Miss. Helen Loraine</th>\n",
       "      <th>Allison, Mrs. Hudson J C (Bessie Waldo Daniels)</th>\n",
       "      <th>Anderson, Mr. Harry</th>\n",
       "      <th>Andersson, Miss. Ellis Anna Maria</th>\n",
       "      <th>...</th>\n",
       "      <th>D45</th>\n",
       "      <th>D56</th>\n",
       "      <th>E10</th>\n",
       "      <th>E12</th>\n",
       "      <th>E121</th>\n",
       "      <th>E17</th>\n",
       "      <th>E24</th>\n",
       "      <th>E50</th>\n",
       "      <th>C</th>\n",
       "      <th>S</th>\n",
       "    </tr>\n",
       "  </thead>\n",
       "  <tbody>\n",
       "    <tr>\n",
       "      <th>709</th>\n",
       "      <td>0.000000</td>\n",
       "      <td>-0.328391</td>\n",
       "      <td>0.883931</td>\n",
       "      <td>-0.03872</td>\n",
       "      <td>-0.03872</td>\n",
       "      <td>-0.03872</td>\n",
       "      <td>-0.03872</td>\n",
       "      <td>-0.03872</td>\n",
       "      <td>-0.03872</td>\n",
       "      <td>-0.03872</td>\n",
       "      <td>...</td>\n",
       "      <td>-0.03872</td>\n",
       "      <td>-0.03872</td>\n",
       "      <td>-0.03872</td>\n",
       "      <td>-0.03872</td>\n",
       "      <td>-0.0548</td>\n",
       "      <td>-0.03872</td>\n",
       "      <td>-0.0548</td>\n",
       "      <td>-0.03872</td>\n",
       "      <td>2.170116</td>\n",
       "      <td>-1.678435</td>\n",
       "    </tr>\n",
       "    <tr>\n",
       "      <th>439</th>\n",
       "      <td>0.121437</td>\n",
       "      <td>-0.420425</td>\n",
       "      <td>-1.131311</td>\n",
       "      <td>-0.03872</td>\n",
       "      <td>-0.03872</td>\n",
       "      <td>-0.03872</td>\n",
       "      <td>-0.03872</td>\n",
       "      <td>-0.03872</td>\n",
       "      <td>-0.03872</td>\n",
       "      <td>-0.03872</td>\n",
       "      <td>...</td>\n",
       "      <td>-0.03872</td>\n",
       "      <td>-0.03872</td>\n",
       "      <td>-0.03872</td>\n",
       "      <td>-0.03872</td>\n",
       "      <td>-0.0548</td>\n",
       "      <td>-0.03872</td>\n",
       "      <td>-0.0548</td>\n",
       "      <td>-0.03872</td>\n",
       "      <td>-0.460805</td>\n",
       "      <td>0.595793</td>\n",
       "    </tr>\n",
       "    <tr>\n",
       "      <th>840</th>\n",
       "      <td>-0.724733</td>\n",
       "      <td>-0.470362</td>\n",
       "      <td>0.883931</td>\n",
       "      <td>-0.03872</td>\n",
       "      <td>-0.03872</td>\n",
       "      <td>-0.03872</td>\n",
       "      <td>-0.03872</td>\n",
       "      <td>-0.03872</td>\n",
       "      <td>-0.03872</td>\n",
       "      <td>-0.03872</td>\n",
       "      <td>...</td>\n",
       "      <td>-0.03872</td>\n",
       "      <td>-0.03872</td>\n",
       "      <td>-0.03872</td>\n",
       "      <td>-0.03872</td>\n",
       "      <td>-0.0548</td>\n",
       "      <td>-0.03872</td>\n",
       "      <td>-0.0548</td>\n",
       "      <td>-0.03872</td>\n",
       "      <td>-0.460805</td>\n",
       "      <td>0.595793</td>\n",
       "    </tr>\n",
       "    <tr>\n",
       "      <th>720</th>\n",
       "      <td>-1.801676</td>\n",
       "      <td>0.015914</td>\n",
       "      <td>-1.131311</td>\n",
       "      <td>-0.03872</td>\n",
       "      <td>-0.03872</td>\n",
       "      <td>-0.03872</td>\n",
       "      <td>-0.03872</td>\n",
       "      <td>-0.03872</td>\n",
       "      <td>-0.03872</td>\n",
       "      <td>-0.03872</td>\n",
       "      <td>...</td>\n",
       "      <td>-0.03872</td>\n",
       "      <td>-0.03872</td>\n",
       "      <td>-0.03872</td>\n",
       "      <td>-0.03872</td>\n",
       "      <td>-0.0548</td>\n",
       "      <td>-0.03872</td>\n",
       "      <td>-0.0548</td>\n",
       "      <td>-0.03872</td>\n",
       "      <td>-0.460805</td>\n",
       "      <td>0.595793</td>\n",
       "    </tr>\n",
       "    <tr>\n",
       "      <th>39</th>\n",
       "      <td>-1.186280</td>\n",
       "      <td>-0.406042</td>\n",
       "      <td>0.883931</td>\n",
       "      <td>-0.03872</td>\n",
       "      <td>-0.03872</td>\n",
       "      <td>-0.03872</td>\n",
       "      <td>-0.03872</td>\n",
       "      <td>-0.03872</td>\n",
       "      <td>-0.03872</td>\n",
       "      <td>-0.03872</td>\n",
       "      <td>...</td>\n",
       "      <td>-0.03872</td>\n",
       "      <td>-0.03872</td>\n",
       "      <td>-0.03872</td>\n",
       "      <td>-0.03872</td>\n",
       "      <td>-0.0548</td>\n",
       "      <td>-0.03872</td>\n",
       "      <td>-0.0548</td>\n",
       "      <td>-0.03872</td>\n",
       "      <td>2.170116</td>\n",
       "      <td>-1.678435</td>\n",
       "    </tr>\n",
       "  </tbody>\n",
       "</table>\n",
       "<p>5 rows × 247 columns</p>\n",
       "</div>"
      ],
      "text/plain": [
       "          Age      Fare         3  \\\n",
       "709  0.000000 -0.328391  0.883931   \n",
       "439  0.121437 -0.420425 -1.131311   \n",
       "840 -0.724733 -0.470362  0.883931   \n",
       "720 -1.801676  0.015914 -1.131311   \n",
       "39  -1.186280 -0.406042  0.883931   \n",
       "\n",
       "     Ahlin, Mrs. Johan (Johanna Persdotter Larsson)  \\\n",
       "709                                        -0.03872   \n",
       "439                                        -0.03872   \n",
       "840                                        -0.03872   \n",
       "720                                        -0.03872   \n",
       "39                                         -0.03872   \n",
       "\n",
       "     Albimona, Mr. Nassef Cassem  Allison, Master. Hudson Trevor  \\\n",
       "709                     -0.03872                        -0.03872   \n",
       "439                     -0.03872                        -0.03872   \n",
       "840                     -0.03872                        -0.03872   \n",
       "720                     -0.03872                        -0.03872   \n",
       "39                      -0.03872                        -0.03872   \n",
       "\n",
       "     Allison, Miss. Helen Loraine  \\\n",
       "709                      -0.03872   \n",
       "439                      -0.03872   \n",
       "840                      -0.03872   \n",
       "720                      -0.03872   \n",
       "39                       -0.03872   \n",
       "\n",
       "     Allison, Mrs. Hudson J C (Bessie Waldo Daniels)  Anderson, Mr. Harry  \\\n",
       "709                                         -0.03872             -0.03872   \n",
       "439                                         -0.03872             -0.03872   \n",
       "840                                         -0.03872             -0.03872   \n",
       "720                                         -0.03872             -0.03872   \n",
       "39                                          -0.03872             -0.03872   \n",
       "\n",
       "     Andersson, Miss. Ellis Anna Maria  ...      D45      D56      E10  \\\n",
       "709                           -0.03872  ... -0.03872 -0.03872 -0.03872   \n",
       "439                           -0.03872  ... -0.03872 -0.03872 -0.03872   \n",
       "840                           -0.03872  ... -0.03872 -0.03872 -0.03872   \n",
       "720                           -0.03872  ... -0.03872 -0.03872 -0.03872   \n",
       "39                            -0.03872  ... -0.03872 -0.03872 -0.03872   \n",
       "\n",
       "         E12    E121      E17     E24      E50         C         S  \n",
       "709 -0.03872 -0.0548 -0.03872 -0.0548 -0.03872  2.170116 -1.678435  \n",
       "439 -0.03872 -0.0548 -0.03872 -0.0548 -0.03872 -0.460805  0.595793  \n",
       "840 -0.03872 -0.0548 -0.03872 -0.0548 -0.03872 -0.460805  0.595793  \n",
       "720 -0.03872 -0.0548 -0.03872 -0.0548 -0.03872 -0.460805  0.595793  \n",
       "39  -0.03872 -0.0548 -0.03872 -0.0548 -0.03872  2.170116 -1.678435  \n",
       "\n",
       "[5 rows x 247 columns]"
      ]
     },
     "execution_count": 183,
     "metadata": {},
     "output_type": "execute_result"
    }
   ],
   "source": [
    "X_test_selected.head()"
   ]
  },
  {
   "cell_type": "code",
   "execution_count": 184,
   "metadata": {
    "ExecuteTime": {
     "end_time": "2022-12-19T17:45:51.198434Z",
     "start_time": "2022-12-19T17:45:51.179353Z"
    }
   },
   "outputs": [
    {
     "data": {
      "text/plain": [
       "LogisticRegression(penalty='l1', random_state=42, solver='liblinear')"
      ]
     },
     "execution_count": 184,
     "metadata": {},
     "output_type": "execute_result"
    }
   ],
   "source": [
    "final_model = LogisticRegression(random_state=42, solver='liblinear', penalty='l1')\n",
    "final_model.fit(X_train_selected, y_train)"
   ]
  },
  {
   "cell_type": "code",
   "execution_count": 185,
   "metadata": {
    "ExecuteTime": {
     "end_time": "2022-12-19T17:46:21.918440Z",
     "start_time": "2022-12-19T17:46:21.913354Z"
    }
   },
   "outputs": [
    {
     "data": {
      "text/plain": [
       "0.7937219730941704"
      ]
     },
     "execution_count": 185,
     "metadata": {},
     "output_type": "execute_result"
    }
   ],
   "source": [
    "final_model.score(X_test_selected, y_test)"
   ]
  },
  {
   "cell_type": "code",
   "execution_count": 187,
   "metadata": {
    "ExecuteTime": {
     "end_time": "2022-12-19T17:46:48.028992Z",
     "start_time": "2022-12-19T17:46:48.024858Z"
    }
   },
   "outputs": [
    {
     "data": {
      "text/plain": [
       "1.0"
      ]
     },
     "execution_count": 187,
     "metadata": {},
     "output_type": "execute_result"
    }
   ],
   "source": [
    "final_model.score(X_train_selected, y_train)"
   ]
  },
  {
   "cell_type": "markdown",
   "metadata": {},
   "source": [
    "## Compare the past models"
   ]
  },
  {
   "cell_type": "code",
   "execution_count": 191,
   "metadata": {
    "ExecuteTime": {
     "end_time": "2022-12-19T17:49:43.287582Z",
     "start_time": "2022-12-19T17:49:43.284369Z"
    },
    "code_folding": []
   },
   "outputs": [],
   "source": [
    "# Create a way to categorize our different models\n",
    "model_candidates = [\n",
    "    {\n",
    "        'name':'dummy_model'\n",
    "        ,'model':dummy_model\n",
    "        ,'X_test':X_test\n",
    "        ,'y_test':y_test\n",
    "    },\n",
    "    {\n",
    "        'name':'fsm_logreg_model'\n",
    "        ,'model':fsm_logreg\n",
    "        ,'X_test':X_test_no_transformations[[\"SibSp\", \"Parch\", \"Fare\"]]\n",
    "        ,'y_test':y_test\n",
    "    },\n",
    "    {\n",
    "        'name':'logreg_model_more_iterations'\n",
    "        ,'model':logreg_model_more_iterations\n",
    "        ,'X_test':X_test_final\n",
    "        ,'y_test':y_test\n",
    "    },\n",
    "    {\n",
    "        'name':'logreg_model_higher_tolerance'\n",
    "        ,'model':logreg_model_higher_tolerance\n",
    "        ,'X_test':X_test_final\n",
    "        ,'y_test':y_test\n",
    "    },\n",
    "    {\n",
    "        'name':'final_model'\n",
    "        ,'model':final_model\n",
    "        ,'X_test':X_test_selected\n",
    "        ,'y_test':y_test\n",
    "    }\n",
    "]"
   ]
  },
  {
   "cell_type": "code",
   "execution_count": 192,
   "metadata": {
    "ExecuteTime": {
     "end_time": "2022-12-19T17:49:45.021664Z",
     "start_time": "2022-12-19T17:49:45.004635Z"
    }
   },
   "outputs": [
    {
     "data": {
      "text/html": [
       "<div>\n",
       "<style scoped>\n",
       "    .dataframe tbody tr th:only-of-type {\n",
       "        vertical-align: middle;\n",
       "    }\n",
       "\n",
       "    .dataframe tbody tr th {\n",
       "        vertical-align: top;\n",
       "    }\n",
       "\n",
       "    .dataframe thead th {\n",
       "        text-align: right;\n",
       "    }\n",
       "</style>\n",
       "<table border=\"1\" class=\"dataframe\">\n",
       "  <thead>\n",
       "    <tr style=\"text-align: right;\">\n",
       "      <th></th>\n",
       "      <th>Mean Accuracy</th>\n",
       "    </tr>\n",
       "    <tr>\n",
       "      <th>Model Name</th>\n",
       "      <th></th>\n",
       "    </tr>\n",
       "  </thead>\n",
       "  <tbody>\n",
       "    <tr>\n",
       "      <th>dummy_model</th>\n",
       "      <td>0.600897</td>\n",
       "    </tr>\n",
       "    <tr>\n",
       "      <th>fsm_logreg_model</th>\n",
       "      <td>0.677130</td>\n",
       "    </tr>\n",
       "    <tr>\n",
       "      <th>logreg_model_more_iterations</th>\n",
       "      <td>0.816143</td>\n",
       "    </tr>\n",
       "    <tr>\n",
       "      <th>logreg_model_higher_tolerance</th>\n",
       "      <td>0.789238</td>\n",
       "    </tr>\n",
       "    <tr>\n",
       "      <th>final_model</th>\n",
       "      <td>0.793722</td>\n",
       "    </tr>\n",
       "  </tbody>\n",
       "</table>\n",
       "</div>"
      ],
      "text/plain": [
       "                               Mean Accuracy\n",
       "Model Name                                  \n",
       "dummy_model                         0.600897\n",
       "fsm_logreg_model                    0.677130\n",
       "logreg_model_more_iterations        0.816143\n",
       "logreg_model_higher_tolerance       0.789238\n",
       "final_model                         0.793722"
      ]
     },
     "execution_count": 192,
     "metadata": {},
     "output_type": "execute_result"
    }
   ],
   "source": [
    "final_scores_dict = {\n",
    "    \"Model Name\": [candidate.get('name') for candidate in model_candidates],\n",
    "    \"Mean Accuracy\": [\n",
    "        candidate.get('model').score(\n",
    "                                candidate.get('X_test'), \n",
    "                                candidate.get('y_test')\n",
    "        ) \n",
    "        for candidate in model_candidates\n",
    "    ]\n",
    "    \n",
    "}\n",
    "final_scores_df = pd.DataFrame(final_scores_dict).set_index('Model Name')\n",
    "final_scores_df"
   ]
  },
  {
   "cell_type": "markdown",
   "metadata": {},
   "source": [
    "Final comparison of confusion matrices"
   ]
  },
  {
   "cell_type": "code",
   "execution_count": 193,
   "metadata": {
    "ExecuteTime": {
     "end_time": "2022-12-19T17:49:48.348968Z",
     "start_time": "2022-12-19T17:49:48.003458Z"
    }
   },
   "outputs": [
    {
     "data": {
      "image/png": "[encoded data removed]",
      "text/plain": [
       "<Figure size 864x432 with 11 Axes>"
      ]
     },
     "metadata": {
      "needs_background": "light"
     },
     "output_type": "display_data"
    }
   ],
   "source": [
    "nrows = 2\n",
    "ncols = math.ceil(len(model_candidates)/nrows)\n",
    "\n",
    "fig, axes = plt.subplots(\n",
    "                nrows=nrows,\n",
    "                ncols=ncols,\n",
    "                figsize=(12, 6)\n",
    ")\n",
    "fig.suptitle(\"Confusion Matrix Comparison\")\n",
    "\n",
    "# Turn off all the axes (in case nothing to plot); turn on while iterating over\n",
    "[ax.axis('off') for ax in axes.ravel()]\n",
    "\n",
    "\n",
    "for i,candidate in enumerate(model_candidates):\n",
    "    # Logic for making rows and columns for matrices\n",
    "    row = i // 3\n",
    "    col = i % 3\n",
    "    ax = axes[row][col]\n",
    "    \n",
    "    ax.set_title(candidate.get('name'))\n",
    "    ax.set_axis_on() \n",
    "    cm_display = plot_confusion_matrix(\n",
    "                    candidate.get('model'),\n",
    "                    candidate.get('X_test'),\n",
    "                    candidate.get('y_test'),\n",
    "                    normalize='true',\n",
    "                    cmap='plasma',\n",
    "                    ax=ax,\n",
    "                    \n",
    "    )\n",
    "    cm_display.im_.set_clim(0, 1)\n",
    "\n",
    "plt.tight_layout()"
   ]
  },
  {
   "cell_type": "code",
   "execution_count": 194,
   "metadata": {
    "ExecuteTime": {
     "end_time": "2022-12-19T17:49:50.616244Z",
     "start_time": "2022-12-19T17:49:50.532230Z"
    }
   },
   "outputs": [
    {
     "data": {
      "image/png": "[encoded data removed]",
      "text/plain": [
       "<Figure size 432x288 with 1 Axes>"
      ]
     },
     "metadata": {
      "needs_background": "light"
     },
     "output_type": "display_data"
    }
   ],
   "source": [
    "fig, ax = plt.subplots()\n",
    "\n",
    "# Plot only the last models we created (so it's not too cluttered)\n",
    "for model_candidate in model_candidates[3:]:\n",
    "    plot_roc_curve(\n",
    "        model_candidate.get('model'),\n",
    "        model_candidate.get('X_test'),\n",
    "        model_candidate.get('y_test'), \n",
    "        name=model_candidate.get('name'),\n",
    "        ax=ax\n",
    "    )"
   ]
  },
  {
   "cell_type": "code",
   "execution_count": 195,
   "metadata": {
    "ExecuteTime": {
     "end_time": "2022-12-19T17:49:50.906394Z",
     "start_time": "2022-12-19T17:49:50.803469Z"
    }
   },
   "outputs": [
    {
     "data": {
      "image/png": "[encoded data removed]",
      "text/plain": [
       "<Figure size 432x288 with 1 Axes>"
      ]
     },
     "metadata": {
      "needs_background": "light"
     },
     "output_type": "display_data"
    }
   ],
   "source": [
    "fig, ax = plt.subplots()\n",
    "\n",
    "# Plot the final model against the other earlier models\n",
    "plot_roc_curve(\n",
    "    final_model, \n",
    "    X_test_selected, \n",
    "    y_test,\n",
    "    name='final_model', \n",
    "    ax=ax\n",
    ")\n",
    "\n",
    "for model_candidate in model_candidates[:3]:\n",
    "    plot_roc_curve(\n",
    "        model_candidate.get('model'),\n",
    "        model_candidate.get('X_test'),\n",
    "        model_candidate.get('y_test'), \n",
    "        name=model_candidate.get('name'),\n",
    "        ax=ax\n",
    "    )"
   ]
  },
  {
   "cell_type": "markdown",
   "metadata": {},
   "source": [
    "# Exercise"
   ]
  },
  {
   "cell_type": "markdown",
   "metadata": {},
   "source": [
    "Build and iterate on a logistic regression model of **color** for the diamonds dataset! Maximize accuracy."
   ]
  },
  {
   "cell_type": "code",
   "execution_count": null,
   "metadata": {},
   "outputs": [],
   "source": [
    "diamonds = sns.load_dataset('diamonds')"
   ]
  },
  {
   "cell_type": "code",
   "execution_count": null,
   "metadata": {},
   "outputs": [],
   "source": []
  }
 ],
 "metadata": {
  "kernelspec": {
   "display_name": "Python (learn-env)",
   "language": "python",
   "name": "learn-env"
  },
  "language_info": {
   "codemirror_mode": {
    "name": "ipython",
    "version": 3
   },
   "file_extension": ".py",
   "mimetype": "text/x-python",
   "name": "python",
   "nbconvert_exporter": "python",
   "pygments_lexer": "ipython3",
   "version": "3.8.5"
  },
  "toc": {
   "base_numbering": 1,
   "nav_menu": {},
   "number_sections": true,
   "sideBar": true,
   "skip_h1_title": false,
   "title_cell": "Table of Contents",
   "title_sidebar": "TOC",
   "toc_cell": true,
   "toc_position": {
    "height": "calc(100% - 180px)",
    "left": "10px",
    "top": "150px",
    "width": "288px"
   },
   "toc_section_display": true,
   "toc_window_display": false
  },
  "varInspector": {
   "cols": {
    "lenName": 16,
    "lenType": 16,
    "lenVar": 40
   },
   "kernels_config": {
    "python": {
     "delete_cmd_postfix": "",
     "delete_cmd_prefix": "del ",
     "library": "var_list.py",
     "varRefreshCmd": "print(var_dic_list())"
    },
    "r": {
     "delete_cmd_postfix": ") ",
     "delete_cmd_prefix": "rm(",
     "library": "var_list.r",
     "varRefreshCmd": "cat(var_dic_list()) "
    }
   },
   "types_to_exclude": [
    "module",
    "function",
    "builtin_function_or_method",
    "instance",
    "_Feature"
   ],
   "window_display": false
  }
 },
 "nbformat": 4,
 "nbformat_minor": 4
}
