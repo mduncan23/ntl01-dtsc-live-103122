{
 "cells": [
  {
   "cell_type": "markdown",
   "metadata": {
    "toc": true
   },
   "source": [
    "<h1>Table of Contents<span class=\"tocSkip\"></span></h1>\n",
    "<div class=\"toc\"><ul class=\"toc-item\"><li><span><a href=\"#Objectives\" data-toc-modified-id=\"Objectives-1\"><span class=\"toc-item-num\">1&nbsp;&nbsp;</span>Objectives</a></span></li><li><span><a href=\"#Solving-the-Line-of-Best-Fit-by-Guessing\" data-toc-modified-id=\"Solving-the-Line-of-Best-Fit-by-Guessing-2\"><span class=\"toc-item-num\">2&nbsp;&nbsp;</span>Solving the Line of Best Fit by Guessing</a></span></li><li><span><a href=\"#The-Loss-Function\" data-toc-modified-id=\"The-Loss-Function-3\"><span class=\"toc-item-num\">3&nbsp;&nbsp;</span>The Loss Function</a></span></li><li><span><a href=\"#The-Cost-Function\" data-toc-modified-id=\"The-Cost-Function-4\"><span class=\"toc-item-num\">4&nbsp;&nbsp;</span>The Cost Function</a></span></li><li><span><a href=\"#Better-Way-of-Guessing:-Gradient-Descent\" data-toc-modified-id=\"Better-Way-of-Guessing:-Gradient-Descent-5\"><span class=\"toc-item-num\">5&nbsp;&nbsp;</span>Better Way of Guessing: Gradient Descent</a></span><ul class=\"toc-item\"><li><span><a href=\"#Gradient-Descent-in-Words\" data-toc-modified-id=\"Gradient-Descent-in-Words-5.1\"><span class=\"toc-item-num\">5.1&nbsp;&nbsp;</span>Gradient Descent in Words</a></span></li><li><span><a href=\"#Stepping-Down-a-Hill:-Step-Size\" data-toc-modified-id=\"Stepping-Down-a-Hill:-Step-Size-5.2\"><span class=\"toc-item-num\">5.2&nbsp;&nbsp;</span>Stepping Down a Hill: Step Size</a></span></li><li><span><a href=\"#Putting-It-All-Together\" data-toc-modified-id=\"Putting-It-All-Together-5.3\"><span class=\"toc-item-num\">5.3&nbsp;&nbsp;</span>Putting It All Together</a></span></li></ul></li><li><span><a href=\"#Gradient-Descent-Walkthrough\" data-toc-modified-id=\"Gradient-Descent-Walkthrough-6\"><span class=\"toc-item-num\">6&nbsp;&nbsp;</span>Gradient Descent Walkthrough</a></span></li></ul></div>"
   ]
  },
  {
   "cell_type": "code",
   "execution_count": 1,
   "metadata": {
    "ExecuteTime": {
     "end_time": "2022-12-13T22:03:34.080053Z",
     "start_time": "2022-12-13T22:03:33.951352Z"
    }
   },
   "outputs": [],
   "source": [
    "import numpy as np\n",
    "import matplotlib.pyplot as plt\n",
    "%matplotlib inline"
   ]
  },
  {
   "cell_type": "markdown",
   "metadata": {},
   "source": [
    "# Objectives"
   ]
  },
  {
   "cell_type": "markdown",
   "metadata": {},
   "source": [
    "- Explain and use the concept of a gradient\n",
    "- Explain the algorithm of gradient descent\n",
    "- Describe the effect of the \"learning rate\" in the algorithm"
   ]
  },
  {
   "cell_type": "markdown",
   "metadata": {},
   "source": [
    "# Solving the Line of Best Fit by Guessing"
   ]
  },
  {
   "cell_type": "markdown",
   "metadata": {},
   "source": [
    "Let's say we have some data below: "
   ]
  },
  {
   "cell_type": "code",
   "execution_count": 2,
   "metadata": {
    "ExecuteTime": {
     "end_time": "2022-12-13T22:03:39.488533Z",
     "start_time": "2022-12-13T22:03:39.486485Z"
    }
   },
   "outputs": [],
   "source": [
    "# Randomly created data in x & y\n",
    "np.random.seed(42)\n",
    "\n",
    "x = np.random.rand(30, 1).reshape(30)\n",
    "y_randterm = np.random.normal(0, 3, 30)\n",
    "y = 3 + 50 * x + y_randterm"
   ]
  },
  {
   "cell_type": "markdown",
   "metadata": {},
   "source": [
    "Here's the data plotted out:"
   ]
  },
  {
   "cell_type": "code",
   "execution_count": 3,
   "metadata": {
    "ExecuteTime": {
     "end_time": "2022-12-13T22:03:40.360094Z",
     "start_time": "2022-12-13T22:03:40.254206Z"
    }
   },
   "outputs": [
    {
     "data": {
      "image/png": "[encoded data removed]",
      "text/plain": [
       "<Figure size 576x432 with 1 Axes>"
      ]
     },
     "metadata": {
      "needs_background": "light"
     },
     "output_type": "display_data"
    }
   ],
   "source": [
    "f, ax = plt.subplots(figsize=(8, 6))\n",
    "ax.scatter(x, y)\n",
    "\n",
    "ax.set_title('Data Points to Model')\n",
    "ax.set_xlabel('x', fontsize=14)\n",
    "ax.set_ylabel('y', fontsize=14)\n",
    "ax.set_xlim(0, 1)\n",
    "ax.set_ylim(0, 60)\n",
    "plt.tight_layout()"
   ]
  },
  {
   "cell_type": "markdown",
   "metadata": {},
   "source": [
    "If we wanted to make a best-fit line, what would you guess? Let's create a couple functions to make this easier to make a guess."
   ]
  },
  {
   "cell_type": "code",
   "execution_count": 4,
   "metadata": {
    "ExecuteTime": {
     "end_time": "2022-12-13T22:03:45.305622Z",
     "start_time": "2022-12-13T22:03:45.302593Z"
    },
    "code_folding": [
     8,
     24
    ]
   },
   "outputs": [],
   "source": [
    "# Plotting a guess of a regression line\n",
    "def regression_formula(x, a, b):\n",
    "    return a*x + b\n",
    "\n",
    "def plot_data_and_guess(slope, intercept, ax, x1=x, x2=y, **kwargs):\n",
    "    '''\n",
    "    Plot our data and regression line on the given axis.\n",
    "\n",
    "    Arguments:\n",
    "        slope : float\n",
    "            Value for the slope the regression line.\n",
    "            \n",
    "        intercept : float\n",
    "            Value for the intercept the regression line.\n",
    "        \n",
    "        ax : Axes\n",
    "            Axis to plot data and regression line\n",
    "        \n",
    "        x1 : array-like\n",
    "            Values along the x-axis\n",
    "        \n",
    "        x2 : array-like\n",
    "            Values along the y-axis\n",
    "        \n",
    "    Returns:\n",
    "        fig : Figure\n",
    "\n",
    "        ax : Axes\n",
    "    '''\n",
    "    # Plot data and regression line\n",
    "    ax.scatter(x1, x2)\n",
    "    yhat = regression_formula(x1, slope, intercept)\n",
    "    ax.plot(x1, yhat, 'r-', **kwargs)\n",
    "    \n",
    "    # Embelishments\n",
    "    ax.set_title('Data Points to Model')\n",
    "    ax.set_xlabel('x', fontsize=14)\n",
    "    ax.set_ylabel('y', fontsize=14)\n",
    "    ax.set_xlim(0, 1)\n",
    "    ax.set_ylim(0, 60)\n",
    "\n",
    "    return ax"
   ]
  },
  {
   "cell_type": "markdown",
   "metadata": {},
   "source": [
    "So what do you think the regression parameters are?"
   ]
  },
  {
   "cell_type": "code",
   "execution_count": 7,
   "metadata": {
    "ExecuteTime": {
     "end_time": "2022-12-13T22:04:09.931443Z",
     "start_time": "2022-12-13T22:04:09.862427Z"
    },
    "scrolled": false
   },
   "outputs": [
    {
     "data": {
      "text/plain": [
       "<AxesSubplot:title={'center':'Data Points to Model'}, xlabel='x', ylabel='y'>"
      ]
     },
     "execution_count": 7,
     "metadata": {},
     "output_type": "execute_result"
    },
    {
     "data": {
      "image/png": "[encoded data removed]",
      "text/plain": [
       "<Figure size 576x432 with 1 Axes>"
      ]
     },
     "metadata": {
      "needs_background": "light"
     },
     "output_type": "display_data"
    }
   ],
   "source": [
    "# Our guess\n",
    "guess = {\n",
    "    'slope': 50,\n",
    "    'intercept': 5,\n",
    "    'color':'orange'\n",
    "}\n",
    "\n",
    "f, ax = plt.subplots(figsize=(8, 6))\n",
    "plot_data_and_guess(**guess, ax=ax)"
   ]
  },
  {
   "cell_type": "markdown",
   "metadata": {},
   "source": [
    "What would be your next guess be? \n",
    "\n",
    "- How can we tell when our guess is \"better\"?\n",
    "- Could we formalize this?"
   ]
  },
  {
   "cell_type": "markdown",
   "metadata": {},
   "source": [
    "# The Loss Function"
   ]
  },
  {
   "cell_type": "markdown",
   "metadata": {},
   "source": [
    "One way we can know how well our guess or _model_ did is to compare the predicted values with the actual values. These are the _residuals_."
   ]
  },
  {
   "cell_type": "markdown",
   "metadata": {},
   "source": [
    "So this would give us the error for each data point:\n",
    "\n",
    "$$ r_i = \\hat{y}_i - y_i $$"
   ]
  },
  {
   "cell_type": "code",
   "execution_count": 8,
   "metadata": {
    "ExecuteTime": {
     "end_time": "2022-12-13T22:04:58.599735Z",
     "start_time": "2022-12-13T22:04:58.596440Z"
    }
   },
   "outputs": [],
   "source": [
    "def calculate_residuals(x_values, y_values, slope, intercept):\n",
    "    '''Find the residulas for each data point'''\n",
    "    yhat = intercept + slope*x_values\n",
    "    errors = y_values - yhat\n",
    "    return errors"
   ]
  },
  {
   "cell_type": "markdown",
   "metadata": {},
   "source": [
    "Then we can go further by having just one number to represent how faithful our model was to the actual y-values."
   ]
  },
  {
   "cell_type": "markdown",
   "metadata": {},
   "source": [
    "This leads us to the idea of the **mean squared error** or **MSE**. This is all the residuals squared and then averaged:\n",
    "\n",
    "$$ MSE = \\frac{1}{n} \\sum_{i}^{n} (\\hat{y}_i - y_i)^2 $$"
   ]
  },
  {
   "cell_type": "code",
   "execution_count": 9,
   "metadata": {
    "ExecuteTime": {
     "end_time": "2022-12-13T22:05:01.367651Z",
     "start_time": "2022-12-13T22:05:01.364604Z"
    }
   },
   "outputs": [],
   "source": [
    "def mse(x_values, y_values, slope, intercept):\n",
    "    \n",
    "    resid_sq = calculate_residuals(x_values, y_values, slope, intercept)**2 \n",
    "\n",
    "    return sum(resid_sq) / len(x_values)"
   ]
  },
  {
   "cell_type": "code",
   "execution_count": 10,
   "metadata": {
    "ExecuteTime": {
     "end_time": "2022-12-13T22:05:05.639321Z",
     "start_time": "2022-12-13T22:05:05.636309Z"
    }
   },
   "outputs": [
    {
     "data": {
      "text/plain": [
       "13.874091297509638"
      ]
     },
     "execution_count": 10,
     "metadata": {},
     "output_type": "execute_result"
    }
   ],
   "source": [
    "# Use our guess from earlier\n",
    "slope = guess.get('slope')\n",
    "intercept = guess.get('intercept')\n",
    "\n",
    "mse(x, y, slope, intercept)"
   ]
  },
  {
   "cell_type": "markdown",
   "metadata": {},
   "source": [
    "> The function we use to find how bad our model did in prediction is typically called the **loss function**."
   ]
  },
  {
   "cell_type": "markdown",
   "metadata": {},
   "source": [
    "What we found here is great! We can now compare different models with one another.\n",
    "\n",
    "If we made a few different guesses, we could make our predictions and then calculate from the _loss function_ how good or bad our model did! We will want to find the _smallest loss_."
   ]
  },
  {
   "cell_type": "markdown",
   "metadata": {},
   "source": [
    "# The Cost Function"
   ]
  },
  {
   "cell_type": "markdown",
   "metadata": {},
   "source": [
    "Now our model changes based on the different model _parameters_ (the coefficients $\\beta_i$ for linear regression). \n",
    "\n",
    "If we imagine all the different ways we can adjust these parameters $\\vec{\\theta}$ and measure how well the model performs with the loss or **cost function** $J(\\vec{\\theta})$, we can plot this as a surface in this multidimensional plane. See the image below:"
   ]
  },
  {
   "cell_type": "markdown",
   "metadata": {},
   "source": [
    "![](images/gradientdescent.png)"
   ]
  },
  {
   "cell_type": "markdown",
   "metadata": {},
   "source": [
    "> Note that the terms **loss function** and **cost function** are frequently used interchangeably. Sometimes they are the same function, but sometimes they differ by making changes in the cost to improve _training_ or _learning_."
   ]
  },
  {
   "cell_type": "markdown",
   "metadata": {},
   "source": [
    "Let's try creating the cost function's curve/surface for just one parameter (slope) using our earlier data example:"
   ]
  },
  {
   "cell_type": "code",
   "execution_count": 11,
   "metadata": {
    "ExecuteTime": {
     "end_time": "2022-12-13T22:10:54.180893Z",
     "start_time": "2022-12-13T22:10:54.108907Z"
    }
   },
   "outputs": [
    {
     "data": {
      "image/png": "[encoded data removed]",
      "text/plain": [
       "<Figure size 720x504 with 1 Axes>"
      ]
     },
     "metadata": {
      "needs_background": "light"
     },
     "output_type": "display_data"
    }
   ],
   "source": [
    "table = np.zeros((20, 2))\n",
    "# Find the MSE for different slope values\n",
    "for idx, val in enumerate(range(40, 60)):\n",
    "    table[idx, 0] = val\n",
    "    table[idx, 1] = mse(x, y, slope=val, intercept=0)\n",
    "\n",
    "plt.figure(figsize=(10, 7))\n",
    "plt.plot(table[:, 0], table[:, 1], '-')\n",
    "plt.xlabel(\"Slope Values\", fontsize=14)\n",
    "plt.ylabel(\"MSE\", fontsize=14)\n",
    "plt.title(\"MSE with changes to slope\", fontsize=16);"
   ]
  },
  {
   "cell_type": "code",
   "execution_count": 12,
   "metadata": {
    "ExecuteTime": {
     "end_time": "2022-12-13T22:11:34.670319Z",
     "start_time": "2022-12-13T22:11:34.666703Z"
    }
   },
   "outputs": [
    {
     "data": {
      "text/plain": [
       "array([[40.        , 55.44109216],\n",
       "       [41.        , 48.81313606],\n",
       "       [42.        , 42.72410617],\n",
       "       [43.        , 37.17400249],\n",
       "       [44.        , 32.16282502],\n",
       "       [45.        , 27.69057375],\n",
       "       [46.        , 23.75724869],\n",
       "       [47.        , 20.36284984],\n",
       "       [48.        , 17.5073772 ],\n",
       "       [49.        , 15.19083076],\n",
       "       [50.        , 13.41321053],\n",
       "       [51.        , 12.17451651],\n",
       "       [52.        , 11.4747487 ],\n",
       "       [53.        , 11.31390709],\n",
       "       [54.        , 11.69199169],\n",
       "       [55.        , 12.6090025 ],\n",
       "       [56.        , 14.06493951],\n",
       "       [57.        , 16.05980274],\n",
       "       [58.        , 18.59359217],\n",
       "       [59.        , 21.66630781]])"
      ]
     },
     "execution_count": 12,
     "metadata": {},
     "output_type": "execute_result"
    }
   ],
   "source": [
    "table"
   ]
  },
  {
   "cell_type": "markdown",
   "metadata": {},
   "source": [
    "Based on this graph, what is the optimal slope value?\n",
    "\n",
    "How could we extend this to find the best slope _and_ intercept combination?"
   ]
  },
  {
   "cell_type": "markdown",
   "metadata": {},
   "source": [
    "# Better Way of Guessing: Gradient Descent"
   ]
  },
  {
   "cell_type": "markdown",
   "metadata": {},
   "source": [
    "So this probably all sounds great! We just need to find the minimum of the cost function!\n",
    "\n",
    "But there's some bad news; we don't usually know what the cost function (which can be complicated!) \"looks\" like without trying a whole lot of different parameters $\\vec{\\theta}$. We'd need an _infinite_ number of parameter combinations to know $J(\\vec{\\theta})$ completely."
   ]
  },
  {
   "cell_type": "markdown",
   "metadata": {},
   "source": [
    "So what can we do?\n",
    "\n",
    "Well, we can take one \"guess\" (set of  parameters) and then measure $J(\\vec{\\theta})$. Then we can adjust our guess/parameters in a \"good\" direction, \"down the hill\". This is the basic idea of gradient descent."
   ]
  },
  {
   "cell_type": "markdown",
   "metadata": {},
   "source": [
    "> **Gradient descent** is an optimization procedure that uses the _gradient_ (a generalized notion of a derivative) of the cost function."
   ]
  },
  {
   "cell_type": "markdown",
   "metadata": {},
   "source": [
    "So how do we find this \"better\" guess? Well, we need to find the best direction to move \"downhill\" the fastest. We can do this with a generalization of the derivative called the **gradient**:\n",
    "\n",
    "$$\\begin{align}\\\\\n",
    "    \\large -\\nabla J &= -\\sum_i \\dfrac{\\partial J}{\\partial \\theta_i}\\hat{\\theta_i} \\\\\n",
    "            &= -\\frac{\\partial J}{\\partial \\theta_1}\\hat{\\theta_1} + \\dots +  \\frac{\\partial J}{\\partial \\theta_n}\\hat{\\theta_n}\n",
    "\\end{align}$$"
   ]
  },
  {
   "cell_type": "markdown",
   "metadata": {},
   "source": [
    "In the multivariate case, the gradient tells us how the function is changing **in each dimension**. A large value of the derivative with respect to a particular variable means that the gradient will have a large component in the corresponding direction. Therefore, **the gradient will point in the direction of steepest increase**."
   ]
  },
  {
   "cell_type": "markdown",
   "metadata": {},
   "source": [
    "## Gradient Descent in Words"
   ]
  },
  {
   "cell_type": "markdown",
   "metadata": {},
   "source": [
    "- Make a guess at where the function attains its minimum value\n",
    "- Calculate the gradient/derivative at that point\n",
    "- Use that value to decide how to make your next guess!\n",
    "\n",
    "Repeat until we get the [derivative](https://www.mathsisfun.com/calculus/derivative-plotter.html) as close as we like to 0.\n",
    "\n",
    "If we want to improve our guess at the minimum of our loss function, we'll move in the **opposite direction** of the gradient away from our last guess. Hence we are using the *gradient* of our loss function to *descend* to the minimum value of the relevant loss function."
   ]
  },
  {
   "cell_type": "markdown",
   "metadata": {},
   "source": [
    "## Stepping Down a Hill: Step Size"
   ]
  },
  {
   "cell_type": "markdown",
   "metadata": {},
   "source": [
    "So we now have the basic idea of gradient descent of \"going down a hill\" and hopefully it's obvious that the steeper the hill, the more we can adjust our parameters to get to \"bottom\" (optimal parameters) faster.\n",
    "\n",
    "But a big question is how big of a step do we take?"
   ]
  },
  {
   "cell_type": "markdown",
   "metadata": {},
   "source": [
    "> The amount we adjust our parameter is determined by our **step size**."
   ]
  },
  {
   "cell_type": "markdown",
   "metadata": {},
   "source": [
    "If our steps are _too big_, we risk skipping over the minimum value (optimal parameters).\n",
    "\n",
    "If our steps are _too small_, it might take us too long to reach the minimum value."
   ]
  },
  {
   "cell_type": "markdown",
   "metadata": {},
   "source": [
    "![learning_rate](https://www.jeremyjordan.me/content/images/2018/02/Screen-Shot-2018-02-24-at-11.47.09-AM.png)"
   ]
  },
  {
   "cell_type": "markdown",
   "metadata": {},
   "source": [
    "Here's an elegant solution: Make the size of your step **proportional to the value of the derivative at the point where you currently are in parameter space**! If we're very far from the minimum, then our values will be large, and so we therefore can safely take a large step; if we're close to the minimum, then our values will be small, and so we should therefore take a smaller step.\n",
    "\n",
    "I said the size of the step is proportional to the value of the derivative. The constant of proportionality is often called the **\"learning rate\"**. \n",
    "\n",
    "This page helps to explain the dangers of learning rates that are too large and too small: https://www.jeremyjordan.me/nn-learning-rate/."
   ]
  },
  {
   "cell_type": "markdown",
   "metadata": {},
   "source": [
    "> Note there are other optimizations we can do for gradient descent that rely on adjusting our cost function or how we take steps or both."
   ]
  },
  {
   "cell_type": "markdown",
   "metadata": {},
   "source": [
    "## Putting It All Together"
   ]
  },
  {
   "cell_type": "markdown",
   "metadata": {},
   "source": [
    "The general algorithm looks like this:\n",
    "\n",
    "We'll make a guess, $\\vec{s}$, at where our loss function attains a minimum. If we're not happy with how close the value of the gradient there is to 0, then we'll make a new guess, and the new guess will be constructed as follows:\n",
    "\n",
    "$\\large\\vec{s}_{new} = \\vec{s}_{old} - \\alpha\\nabla f(\\vec{s}_{old})$,\n",
    "\n",
    "where $\\alpha$ is the learning rate.\n",
    "\n",
    "In the one-dimensional case, we'll have:\n",
    "\n",
    "$\\large x_{new} = x_{old} - \\alpha\\frac{df}{dx}|_{x_{old}}$."
   ]
  },
  {
   "cell_type": "markdown",
   "metadata": {},
   "source": [
    "# Gradient Descent Walkthrough"
   ]
  },
  {
   "cell_type": "markdown",
   "metadata": {},
   "source": [
    "Let's go back to our original example and implement gradient descent to find the optimal parameters (slope and intercept)."
   ]
  },
  {
   "cell_type": "code",
   "execution_count": 16,
   "metadata": {
    "ExecuteTime": {
     "end_time": "2022-12-13T22:22:40.714577Z",
     "start_time": "2022-12-13T22:22:40.642499Z"
    }
   },
   "outputs": [
    {
     "data": {
      "image/png": "[encoded data removed]",
      "text/plain": [
       "<Figure size 576x432 with 1 Axes>"
      ]
     },
     "metadata": {
      "needs_background": "light"
     },
     "output_type": "display_data"
    }
   ],
   "source": [
    "f, ax = plt.subplots(figsize=(8, 6))\n",
    "ax.scatter(x, y)\n",
    "\n",
    "ax.set_title('Data Points to Model')\n",
    "ax.set_xlabel('x', fontsize=14)\n",
    "ax.set_ylabel('y', fontsize=14)\n",
    "\n",
    "plt.tight_layout()"
   ]
  },
  {
   "cell_type": "markdown",
   "metadata": {},
   "source": [
    "First we need to find the gradient for the cost function (2-dimensions: $a$ & $b$; slope & intercept):\n",
    "\n",
    "$$ \\frac{\\partial}{\\partial b}\\frac{1}{n}\\Sigma(y_i - (b + ax_i))^2 = -\\frac{2}{n}\\Sigma (y_i-ax_i - b)$$\n",
    "\n",
    "$$ \\frac{\\partial}{\\partial a}\\frac{1}{n}\\Sigma(y_i - (b + ax_i))^2 = -\\frac{2}{n}\\Sigma x_i (y_i-ax_i - b)$$"
   ]
  },
  {
   "cell_type": "markdown",
   "metadata": {},
   "source": [
    "Let's formalize this into a function:"
   ]
  },
  {
   "cell_type": "code",
   "execution_count": 86,
   "metadata": {
    "ExecuteTime": {
     "end_time": "2022-12-13T22:34:25.347350Z",
     "start_time": "2022-12-13T22:34:25.345315Z"
    }
   },
   "outputs": [],
   "source": [
    "def partial_deriv(a, b, x_i, y_i, respect_to):\n",
    "    '''\n",
    "    Get the partial derivative for cost function with respect to slope (a) \n",
    "    or intercept (b).\n",
    "    '''\n",
    "    if respect_to == 'b': # intercept\n",
    "        return (y_i - (a * x_i + b))\n",
    "    elif respect_to == 'a': # slope\n",
    "        return (x_i * (y_i - (a * x_i + b)))\n",
    "    else:\n",
    "        print('Choose either respect_to: a or b ')\n",
    "        return 0"
   ]
  },
  {
   "cell_type": "markdown",
   "metadata": {},
   "source": [
    "Observe: In the code above we've left out both the factors of two and the averages!\n",
    "\n",
    "- We'll take care of the averages below, but this is easily done because **the derivative of a sum is equal to the sum of the derivatives**: $\\frac{d}{dx}[f(x) + g(x)] = \\frac{df}{dx} + \\frac{dg}{dx}$.\n",
    "\n",
    "- The factors of two won't make any difference to our goals. Very often the cost function associated with some modeling task will be something like MSE and so have a squared term, and so then when we differentiate it we'll gain a factor of two. Clearly, minimizing $f(\\beta)$ and minimizing $2f(\\beta)$ will yield the same optimal $\\beta$, and so it's often convenient to leave off the factor of two from the expression of the derivative and so minimize the **half mean squared error** function: $\\frac{1}{2}\\Sigma(y - \\hat{y})^2$."
   ]
  },
  {
   "cell_type": "markdown",
   "metadata": {},
   "source": [
    "Next let's define the step we take (amount we adjust the parameters by) using the gradient and learning rate:"
   ]
  },
  {
   "cell_type": "code",
   "execution_count": 87,
   "metadata": {
    "ExecuteTime": {
     "end_time": "2022-12-13T22:34:26.148316Z",
     "start_time": "2022-12-13T22:34:26.144532Z"
    }
   },
   "outputs": [],
   "source": [
    "def step_gradient(a, b, x, y, learning_rate):\n",
    "    db = 0\n",
    "    da = 0 \n",
    "    # For each data point, update the derivative for the slope & intercept\n",
    "    N = len(x)\n",
    "    for i in range(N):\n",
    "        \n",
    "        # Partial derivatives of loss/cost function with respect to b & a\n",
    "        # Here's where we're taking our averages. Notice that we're leaving\n",
    "        # off the factors of 2.\n",
    "        db +=  -(1/N) * partial_deriv(a, b, x[i], y[i], respect_to='b')\n",
    "        da +=  -(1/N) * partial_deriv(a, b, x[i], y[i], respect_to='a')\n",
    "        \n",
    "    # Adjust the slope & intercept by the gradient\n",
    "    new_b = b - (learning_rate * db)\n",
    "    new_a = a - (learning_rate * da)\n",
    "    \n",
    "    return (new_a, new_b)"
   ]
  },
  {
   "cell_type": "markdown",
   "metadata": {},
   "source": [
    "Let's try it out and keep track of our guesses:"
   ]
  },
  {
   "cell_type": "code",
   "execution_count": 88,
   "metadata": {
    "ExecuteTime": {
     "end_time": "2022-12-13T22:34:27.002363Z",
     "start_time": "2022-12-13T22:34:27.001363Z"
    }
   },
   "outputs": [],
   "source": [
    "guesses = []\n",
    "alpha = 0.05"
   ]
  },
  {
   "cell_type": "code",
   "execution_count": 89,
   "metadata": {
    "ExecuteTime": {
     "end_time": "2022-12-13T22:34:27.547577Z",
     "start_time": "2022-12-13T22:34:27.545044Z"
    }
   },
   "outputs": [],
   "source": [
    "# Our guess\n",
    "guess = {\n",
    "    'slope': 5,\n",
    "    'intercept': 0\n",
    "}\n",
    "\n",
    "guesses.append(guess)"
   ]
  },
  {
   "cell_type": "code",
   "execution_count": 90,
   "metadata": {
    "ExecuteTime": {
     "end_time": "2022-12-13T22:34:28.089206Z",
     "start_time": "2022-12-13T22:34:28.017184Z"
    },
    "scrolled": false
   },
   "outputs": [
    {
     "data": {
      "image/png": "[encoded data removed]",
      "text/plain": [
       "<Figure size 576x432 with 1 Axes>"
      ]
     },
     "metadata": {
      "needs_background": "light"
     },
     "output_type": "display_data"
    }
   ],
   "source": [
    "f, ax = plt.subplots(figsize=(8, 6))\n",
    "plot_data_and_guess(**guess, ax=ax);"
   ]
  },
  {
   "cell_type": "code",
   "execution_count": 91,
   "metadata": {
    "ExecuteTime": {
     "end_time": "2022-12-13T22:34:28.692547Z",
     "start_time": "2022-12-13T22:34:28.689012Z"
    }
   },
   "outputs": [
    {
     "data": {
      "text/plain": [
       "(5.643995911625081, 1.1095394583845373)"
      ]
     },
     "execution_count": 91,
     "metadata": {},
     "output_type": "execute_result"
    }
   ],
   "source": [
    "step = step_gradient(guess['slope'], guess['intercept'], x, y, learning_rate=alpha)\n",
    "step"
   ]
  },
  {
   "cell_type": "code",
   "execution_count": 92,
   "metadata": {
    "ExecuteTime": {
     "end_time": "2022-12-13T22:34:28.891637Z",
     "start_time": "2022-12-13T22:34:28.888565Z"
    }
   },
   "outputs": [
    {
     "data": {
      "text/plain": [
       "626.9430663117076"
      ]
     },
     "execution_count": 92,
     "metadata": {},
     "output_type": "execute_result"
    }
   ],
   "source": [
    "mse(x, y, guess['slope'], guess['intercept'])"
   ]
  },
  {
   "cell_type": "markdown",
   "metadata": {},
   "source": [
    "Let's update our guess and try again:"
   ]
  },
  {
   "cell_type": "code",
   "execution_count": 93,
   "metadata": {
    "ExecuteTime": {
     "end_time": "2022-12-13T22:34:29.572558Z",
     "start_time": "2022-12-13T22:34:29.504673Z"
    }
   },
   "outputs": [
    {
     "data": {
      "text/plain": [
       "(6.254983117405326, 2.1494792013458146)"
      ]
     },
     "metadata": {},
     "output_type": "display_data"
    },
    {
     "data": {
      "text/plain": [
       "563.080346598956"
      ]
     },
     "metadata": {},
     "output_type": "display_data"
    },
    {
     "data": {
      "image/png": "[encoded data removed]",
      "text/plain": [
       "<Figure size 576x432 with 1 Axes>"
      ]
     },
     "metadata": {
      "needs_background": "light"
     },
     "output_type": "display_data"
    }
   ],
   "source": [
    "# Our guess using the new step\n",
    "new_slope, new_intercept = step\n",
    "guess = {\n",
    "    'slope': new_slope,\n",
    "    'intercept': new_intercept\n",
    "}\n",
    "guesses.append(guess)\n",
    "\n",
    "# Getting adjusted parameters\n",
    "step = step_gradient(guess['slope'], guess['intercept'], x, y, learning_rate=alpha)\n",
    "display(step)\n",
    "display(mse(x, y, guess['slope'], guess['intercept']))\n",
    "\n",
    "# Plotting out our new parameters\n",
    "f, ax = plt.subplots(figsize=(8, 6))\n",
    "plot_data_and_guess(**guess, ax=ax);"
   ]
  },
  {
   "cell_type": "markdown",
   "metadata": {},
   "source": [
    "Let's repeat this another 200 times:"
   ]
  },
  {
   "cell_type": "code",
   "execution_count": 94,
   "metadata": {
    "ExecuteTime": {
     "end_time": "2022-12-13T22:34:30.292456Z",
     "start_time": "2022-12-13T22:34:30.280852Z"
    },
    "scrolled": false
   },
   "outputs": [
    {
     "name": "stdout",
     "output_type": "stream",
     "text": [
      "Step # 0:\n",
      "Slope: 6.834932661023332 Intercept: 3.1240230910719453\n",
      "MSE for Step #0 = 506.62857243990607\n",
      "------------------------------\n",
      "\n",
      "\n",
      "Step # 10:\n",
      "Slope: 11.284596506689798 Intercept: 10.03451602816761\n",
      "MSE for Step #10 = 201.07503600371567\n",
      "------------------------------\n",
      "\n",
      "\n",
      "Step # 20:\n",
      "Slope: 14.102887458085156 Intercept: 13.54486670433417\n",
      "MSE for Step #20 = 109.80717700223398\n",
      "------------------------------\n",
      "\n",
      "\n",
      "Step # 30:\n",
      "Slope: 16.031557340269032 Intercept: 15.235541048082345\n",
      "MSE for Step #30 = 80.53653124886968\n",
      "------------------------------\n",
      "\n",
      "\n",
      "Step # 40:\n",
      "Slope: 17.46938127550854 Intercept: 15.955110486490918\n",
      "MSE for Step #40 = 69.3294372274141\n",
      "------------------------------\n",
      "\n",
      "\n",
      "Step # 50:\n",
      "Slope: 18.63092928530324 Intercept: 16.159097246870225\n",
      "MSE for Step #50 = 63.50362513603656\n",
      "------------------------------\n",
      "\n",
      "\n",
      "Step # 60:\n",
      "Slope: 19.631833168746986 Intercept: 16.091947114523855\n",
      "MSE for Step #60 = 59.39075256511361\n",
      "------------------------------\n",
      "\n",
      "\n",
      "Step # 70:\n",
      "Slope: 20.53457850459854 Intercept: 15.884755608740306\n",
      "MSE for Step #70 = 55.92284709013242\n",
      "------------------------------\n",
      "\n",
      "\n",
      "Step # 80:\n",
      "Slope: 21.37309711400965 Intercept: 15.60775051104056\n",
      "MSE for Step #80 = 52.78252928622342\n",
      "------------------------------\n",
      "\n",
      "\n",
      "Step # 90:\n",
      "Slope: 22.165974542968772 Intercept: 15.298476820774031\n",
      "MSE for Step #90 = 49.86947955738348\n",
      "------------------------------\n",
      "\n",
      "\n",
      "Step # 100:\n",
      "Slope: 22.92354336045079 Intercept: 14.97693298560525\n",
      "MSE for Step #100 = 47.146525621688156\n",
      "------------------------------\n",
      "\n",
      "\n",
      "Step # 110:\n",
      "Slope: 23.651692892769947 Intercept: 14.653699470374807\n",
      "MSE for Step #110 = 44.59521874009429\n",
      "------------------------------\n",
      "\n",
      "\n",
      "Step # 120:\n",
      "Slope: 24.35391554655397 Intercept: 14.334303947538285\n",
      "MSE for Step #120 = 42.20298972464782\n",
      "------------------------------\n",
      "\n",
      "\n",
      "Step # 130:\n",
      "Slope: 25.03240610099743 Intercept: 14.021565413842454\n",
      "MSE for Step #130 = 39.95941484832339\n",
      "------------------------------\n",
      "\n",
      "\n",
      "Step # 140:\n",
      "Slope: 25.688652397545667 Intercept: 13.716852917672037\n",
      "MSE for Step #140 = 37.85511099023837\n",
      "------------------------------\n",
      "\n",
      "\n",
      "Step # 150:\n",
      "Slope: 26.32375288012044 Intercept: 13.42076139542849\n",
      "MSE for Step #150 = 35.88139081081999\n",
      "------------------------------\n",
      "\n",
      "\n",
      "Step # 160:\n",
      "Slope: 26.938587433586928 Intercept: 13.133474477730228\n",
      "MSE for Step #160 = 34.03013875140585\n",
      "------------------------------\n",
      "\n",
      "\n",
      "Step # 170:\n",
      "Slope: 27.53390942805382 Intercept: 12.854959190906946\n",
      "MSE for Step #170 = 32.29375224509127\n",
      "------------------------------\n",
      "\n",
      "\n",
      "Step # 180:\n",
      "Slope: 28.110395438299683 Intercept: 12.585070384196507\n",
      "MSE for Step #180 = 30.665103163867922\n",
      "------------------------------\n",
      "\n",
      "\n",
      "Step # 190:\n",
      "Slope: 28.668672224033774 Intercept: 12.323606680427915\n",
      "MSE for Step #190 = 29.137506442167798\n",
      "------------------------------\n",
      "\n",
      "\n"
     ]
    }
   ],
   "source": [
    "for i in range(200):\n",
    "    # Our guess using the new step\n",
    "    new_slope, new_intercept = step\n",
    "    guess = {\n",
    "        'slope': new_slope,\n",
    "        'intercept': new_intercept\n",
    "    }\n",
    "    guesses.append(guess)\n",
    "\n",
    "    # Getting adjusted parameters\n",
    "    step = step_gradient(guess['slope'], guess['intercept'], x, y, learning_rate=alpha)\n",
    "    #  Only display every 10\n",
    "    if (i % 10) == 0:\n",
    "        print(f'Step # {i}:')\n",
    "        print(f'Slope: {step[0]} Intercept: {step[1]}')\n",
    "        print_mse = (mse(x, y, guess['slope'], guess['intercept']))\n",
    "        print(f'MSE for Step #{i} = {print_mse}')\n",
    "        print('-'*30)\n",
    "        print('\\n')"
   ]
  },
  {
   "cell_type": "markdown",
   "metadata": {},
   "source": [
    "What does our final result look like?"
   ]
  },
  {
   "cell_type": "code",
   "execution_count": 95,
   "metadata": {
    "ExecuteTime": {
     "end_time": "2022-12-13T22:34:37.228283Z",
     "start_time": "2022-12-13T22:34:37.161353Z"
    }
   },
   "outputs": [
    {
     "data": {
      "image/png": "[encoded data removed]",
      "text/plain": [
       "<Figure size 576x432 with 1 Axes>"
      ]
     },
     "metadata": {
      "needs_background": "light"
     },
     "output_type": "display_data"
    }
   ],
   "source": [
    "# Plotting out our new parameters\n",
    "f, ax = plt.subplots(figsize=(8, 6))\n",
    "plot_data_and_guess(**guesses[-1], ax=ax);"
   ]
  },
  {
   "cell_type": "markdown",
   "metadata": {},
   "source": [
    "Let's take a look at the MSE over the guesses:"
   ]
  },
  {
   "cell_type": "code",
   "execution_count": 96,
   "metadata": {
    "ExecuteTime": {
     "end_time": "2022-12-13T22:34:38.124222Z",
     "start_time": "2022-12-13T22:34:38.056621Z"
    }
   },
   "outputs": [
    {
     "data": {
      "image/png": "[encoded data removed]",
      "text/plain": [
       "<Figure size 432x288 with 1 Axes>"
      ]
     },
     "metadata": {
      "needs_background": "light"
     },
     "output_type": "display_data"
    }
   ],
   "source": [
    "mses = [\n",
    "    mse(x, y, d['slope'], d['intercept']) for d in guesses\n",
    "]\n",
    "plt.plot(range(len(mses)), mses);"
   ]
  },
  {
   "cell_type": "markdown",
   "metadata": {},
   "source": [
    "This was what we had for 200 iterations. What could we do to improve or speed up this method?"
   ]
  },
  {
   "cell_type": "code",
   "execution_count": 80,
   "metadata": {
    "ExecuteTime": {
     "end_time": "2022-12-13T22:33:49.923490Z",
     "start_time": "2022-12-13T22:33:49.921489Z"
    }
   },
   "outputs": [],
   "source": [
    "guesses = []\n",
    "alpha = .05"
   ]
  },
  {
   "cell_type": "code",
   "execution_count": 81,
   "metadata": {
    "ExecuteTime": {
     "end_time": "2022-12-13T22:33:50.347784Z",
     "start_time": "2022-12-13T22:33:50.345559Z"
    }
   },
   "outputs": [],
   "source": [
    "# Our guess\n",
    "guess = {\n",
    "    'slope': 2,\n",
    "    'intercept': 0\n",
    "}\n",
    "\n",
    "guesses.append(guess)"
   ]
  },
  {
   "cell_type": "code",
   "execution_count": 82,
   "metadata": {
    "ExecuteTime": {
     "end_time": "2022-12-13T22:33:50.948466Z",
     "start_time": "2022-12-13T22:33:50.882092Z"
    }
   },
   "outputs": [
    {
     "data": {
      "image/png": "[encoded data removed]",
      "text/plain": [
       "<Figure size 576x432 with 1 Axes>"
      ]
     },
     "metadata": {
      "needs_background": "light"
     },
     "output_type": "display_data"
    }
   ],
   "source": [
    "f, ax = plt.subplots(figsize=(8, 6))\n",
    "plot_data_and_guess(**guess, ax=ax);"
   ]
  },
  {
   "cell_type": "code",
   "execution_count": 83,
   "metadata": {
    "ExecuteTime": {
     "end_time": "2022-12-13T22:33:52.998913Z",
     "start_time": "2022-12-13T22:33:52.954560Z"
    },
    "scrolled": false
   },
   "outputs": [
    {
     "name": "stdout",
     "output_type": "stream",
     "text": [
      "Step # 0:\n",
      "Slope: 29.209331489556018 Intercept: 12.070340397073156\n",
      "MSE for Step #0 = 27.70469202706115\n",
      "------------------------------\n",
      "\n",
      "\n",
      "Step # 10:\n",
      "Slope: 29.732938071966945 Intercept: 11.825033492377226\n",
      "MSE for Step #10 = 26.360778966813754\n",
      "------------------------------\n",
      "\n",
      "\n",
      "Step # 20:\n",
      "Slope: 30.24003459200731 Intercept: 11.587446010282955\n",
      "MSE for Step #20 = 25.10025122193924\n",
      "------------------------------\n",
      "\n",
      "\n",
      "Step # 30:\n",
      "Slope: 30.73114419720495 Intercept: 11.357340500663504\n",
      "MSE for Step #30 = 23.91793501019737\n",
      "------------------------------\n",
      "\n",
      "\n",
      "Step # 40:\n",
      "Slope: 31.20677227278007 Intercept: 11.134484281765722\n",
      "MSE for Step #40 = 22.808977566806714\n",
      "------------------------------\n",
      "\n",
      "\n",
      "Step # 50:\n",
      "Slope: 31.667407590703835 Intercept: 10.918650547348784\n",
      "MSE for Step #50 = 21.768827225268573\n",
      "------------------------------\n",
      "\n",
      "\n",
      "Step # 60:\n",
      "Slope: 32.11352314976664 Intercept: 10.709618856780192\n",
      "MSE for Step #60 = 20.79321473490331\n",
      "------------------------------\n",
      "\n",
      "\n",
      "Step # 70:\n",
      "Slope: 32.545576842678344 Intercept: 10.507175297049383\n",
      "MSE for Step #70 = 19.878135737800218\n",
      "------------------------------\n",
      "\n",
      "\n",
      "Step # 80:\n",
      "Slope: 32.96401202347125 Intercept: 10.31111247177789\n",
      "MSE for Step #80 = 19.01983433307996\n",
      "------------------------------\n",
      "\n",
      "\n",
      "Step # 90:\n",
      "Slope: 33.369258014769485 Intercept: 10.121229400408847\n",
      "MSE for Step #90 = 18.214787660958766\n",
      "------------------------------\n",
      "\n",
      "\n",
      "Step # 100:\n",
      "Slope: 33.761730576379925 Intercept: 9.937331372150956\n",
      "MSE for Step #100 = 17.45969144332541\n",
      "------------------------------\n",
      "\n",
      "\n",
      "Step # 110:\n",
      "Slope: 34.14183234692817 Intercept: 9.759229778520986\n",
      "MSE for Step #110 = 16.751446421478438\n",
      "------------------------------\n",
      "\n",
      "\n",
      "Step # 120:\n",
      "Slope: 34.509953265030056 Intercept: 9.58674193719887\n",
      "MSE for Step #120 = 16.08714563535718\n",
      "------------------------------\n",
      "\n",
      "\n",
      "Step # 130:\n",
      "Slope: 34.866470973673785 Intercept: 9.419690913934717\n",
      "MSE for Step #130 = 15.464062492053879\n",
      "------------------------------\n",
      "\n",
      "\n",
      "Step # 140:\n",
      "Slope: 35.21175120996838 Intercept: 9.257905346041507\n",
      "MSE for Step #140 = 14.879639574634863\n",
      "------------------------------\n",
      "\n",
      "\n",
      "Step # 150:\n",
      "Slope: 35.54614818159377 Intercept: 9.101219269288183\n",
      "MSE for Step #150 = 14.331478145337003\n",
      "------------------------------\n",
      "\n",
      "\n",
      "Step # 160:\n",
      "Slope: 35.87000493084084 Intercept: 8.949471949087387\n",
      "MSE for Step #160 = 13.817328300055609\n",
      "------------------------------\n",
      "\n",
      "\n",
      "Step # 170:\n",
      "Slope: 36.1836536868845 Intercept: 8.80250771638034\n",
      "MSE for Step #170 = 13.335079733713606\n",
      "------------------------------\n",
      "\n",
      "\n",
      "Step # 180:\n",
      "Slope: 36.48741620679615 Intercept: 8.6601758083596\n",
      "MSE for Step #180 = 12.882753078608575\n",
      "------------------------------\n",
      "\n",
      "\n",
      "Step # 190:\n",
      "Slope: 36.781604105723126 Intercept: 8.522330214032293\n",
      "MSE for Step #190 = 12.458491780186359\n",
      "------------------------------\n",
      "\n",
      "\n"
     ]
    }
   ],
   "source": [
    "for i in range(200):\n",
    "    # Our guess using the new step\n",
    "    new_slope, new_intercept = step\n",
    "    guess = {\n",
    "        'slope': new_slope,\n",
    "        'intercept': new_intercept\n",
    "    }\n",
    "    guesses.append(guess)\n",
    "\n",
    "    # Getting adjusted parameters\n",
    "    step = step_gradient(guess['slope'], guess['intercept'], x, y, learning_rate=alpha)\n",
    "    #  Only display every 10\n",
    "    if (i % 10) == 0:\n",
    "        print(f'Step # {i}:')\n",
    "        print(f'Slope: {step[0]} Intercept: {step[1]}')\n",
    "        print_mse = (mse(x, y, guess['slope'], guess['intercept']))\n",
    "        print(f'MSE for Step #{i} = {print_mse}')\n",
    "        print('-'*30)\n",
    "        print('\\n')"
   ]
  },
  {
   "cell_type": "code",
   "execution_count": 84,
   "metadata": {
    "ExecuteTime": {
     "end_time": "2022-12-13T22:33:57.524939Z",
     "start_time": "2022-12-13T22:33:57.449563Z"
    }
   },
   "outputs": [
    {
     "data": {
      "image/png": "[encoded data removed]",
      "text/plain": [
       "<Figure size 576x432 with 1 Axes>"
      ]
     },
     "metadata": {
      "needs_background": "light"
     },
     "output_type": "display_data"
    }
   ],
   "source": [
    "# Plotting out our new parameters\n",
    "f, ax = plt.subplots(figsize=(8, 6))\n",
    "plot_data_and_guess(**guesses[-1], ax=ax);"
   ]
  },
  {
   "cell_type": "code",
   "execution_count": 85,
   "metadata": {
    "ExecuteTime": {
     "end_time": "2022-12-13T22:33:58.157971Z",
     "start_time": "2022-12-13T22:33:58.090906Z"
    }
   },
   "outputs": [
    {
     "data": {
      "image/png": "[encoded data removed]",
      "text/plain": [
       "<Figure size 432x288 with 1 Axes>"
      ]
     },
     "metadata": {
      "needs_background": "light"
     },
     "output_type": "display_data"
    }
   ],
   "source": [
    "mses = [\n",
    "    mse(x, y, d['slope'], d['intercept']) for d in guesses\n",
    "]\n",
    "plt.plot(range(len(mses)), mses);"
   ]
  },
  {
   "cell_type": "code",
   "execution_count": null,
   "metadata": {},
   "outputs": [],
   "source": []
  }
 ],
 "metadata": {
  "kernelspec": {
   "display_name": "Python (learn-env)",
   "language": "python",
   "name": "learn-env"
  },
  "language_info": {
   "codemirror_mode": {
    "name": "ipython",
    "version": 3
   },
   "file_extension": ".py",
   "mimetype": "text/x-python",
   "name": "python",
   "nbconvert_exporter": "python",
   "pygments_lexer": "ipython3",
   "version": "3.8.5"
  },
  "toc": {
   "base_numbering": 1,
   "nav_menu": {},
   "number_sections": true,
   "sideBar": true,
   "skip_h1_title": false,
   "title_cell": "Table of Contents",
   "title_sidebar": "TOC",
   "toc_cell": true,
   "toc_position": {
    "height": "calc(100% - 180px)",
    "left": "10px",
    "top": "150px",
    "width": "288px"
   },
   "toc_section_display": true,
   "toc_window_display": true
  },
  "varInspector": {
   "cols": {
    "lenName": 16,
    "lenType": 16,
    "lenVar": 40
   },
   "kernels_config": {
    "python": {
     "delete_cmd_postfix": "",
     "delete_cmd_prefix": "del ",
     "library": "var_list.py",
     "varRefreshCmd": "print(var_dic_list())"
    },
    "r": {
     "delete_cmd_postfix": ") ",
     "delete_cmd_prefix": "rm(",
     "library": "var_list.r",
     "varRefreshCmd": "cat(var_dic_list()) "
    }
   },
   "types_to_exclude": [
    "module",
    "function",
    "builtin_function_or_method",
    "instance",
    "_Feature"
   ],
   "window_display": false
  }
 },
 "nbformat": 4,
 "nbformat_minor": 4
}
