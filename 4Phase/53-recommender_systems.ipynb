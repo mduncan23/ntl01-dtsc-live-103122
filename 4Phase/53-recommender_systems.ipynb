{
 "cells": [
  {
   "cell_type": "markdown",
   "metadata": {},
   "source": [
    "# Recommender Systems"
   ]
  },
  {
   "cell_type": "code",
   "execution_count": 1,
   "metadata": {
    "ExecuteTime": {
     "end_time": "2023-01-09T22:00:28.486226Z",
     "start_time": "2023-01-09T22:00:27.791961Z"
    }
   },
   "outputs": [],
   "source": [
    "from random import gauss as gs, uniform as uni, seed\n",
    "import numpy as np\n",
    "import pandas as pd\n",
    "from sklearn.linear_model import LinearRegression"
   ]
  },
  {
   "cell_type": "markdown",
   "metadata": {},
   "source": [
    "![Netflix](https://miro.medium.com/max/1400/1*jlQxemlP9Yim_rWTqlCFDQ.png)"
   ]
  },
  {
   "cell_type": "markdown",
   "metadata": {},
   "source": [
    "![Amazon](images/amazon_recommender.png)"
   ]
  },
  {
   "cell_type": "markdown",
   "metadata": {},
   "source": [
    "## Agenda"
   ]
  },
  {
   "cell_type": "markdown",
   "metadata": {},
   "source": [
    "- describe the difference between content-based and collaborative-filtering algorithms\n",
    "- explain and use the cosine similarity metric\n",
    "- describe the algorithm of alternating least-squares"
   ]
  },
  {
   "cell_type": "markdown",
   "metadata": {},
   "source": [
    "## Intro"
   ]
  },
  {
   "cell_type": "markdown",
   "metadata": {},
   "source": [
    "Recommender systems can be classified along various lines. One fundamental distinction is **content-based** vs. **collaborative-filtering** systems.\n",
    "\n",
    "To illustrate this, consider two different strategies: (a) I recommend items to you that are *similar to other items* you've used/bought/read/watched; and (b) I recommend items to you that people *similar to you* have used/bought/read/watched. The first is the **content-based strategy**; the second is the **collaborative-filtering strategy**. \n",
    "\n",
    "Another distinction drawn is in whether (a) the system uses existing ratings to compute user-user or item-item similarity, or (b) the system uses machine learning techniques to make predictions. Recommenders of the first sort are called **memory-based**; recommenders of the second sort are called **model-based**."
   ]
  },
  {
   "cell_type": "markdown",
   "metadata": {},
   "source": [
    "## Content-Based Systems"
   ]
  },
  {
   "cell_type": "markdown",
   "metadata": {},
   "source": [
    "The basic idea here is to recommend items to a user that are *similar to* items that the user has already enjoyed. Suppose we represent TV shows as rows, where the columns represent various features of these TV shows. These features might be things like the presence of a certain actor or the show fitting into a particular genre etc. We'll just use binary features here, perhaps the result of some one-hot encoding:"
   ]
  },
  {
   "cell_type": "code",
   "execution_count": 2,
   "metadata": {
    "ExecuteTime": {
     "end_time": "2023-01-09T22:04:22.938185Z",
     "start_time": "2023-01-09T22:04:22.932139Z"
    }
   },
   "outputs": [
    {
     "data": {
      "text/plain": [
       "array([[0, 1, 1, 0, 1, 1, 1],\n",
       "       [0, 0, 0, 1, 1, 1, 0],\n",
       "       [1, 1, 1, 0, 0, 1, 1],\n",
       "       [0, 1, 1, 1, 0, 0, 1]])"
      ]
     },
     "execution_count": 2,
     "metadata": {},
     "output_type": "execute_result"
    }
   ],
   "source": [
    "tv_shows = np.array([[0, 1, 1, 0, 1, 1, 1],\n",
    "                   [0, 0, 0, 1, 1, 1, 0],\n",
    "                   [1, 1, 1, 0, 0, 1, 1],\n",
    "                   [0, 1, 1, 1, 0, 0, 1]])\n",
    "\n",
    "tv_shows"
   ]
  },
  {
   "cell_type": "markdown",
   "metadata": {},
   "source": [
    "Bob likes the TV Show represented by Row \\#1. Which show (row) should we recommend to Bob?\n",
    "\n",
    "One natural way of measuring the similarity between two vectors is by the **cosine of the angle between them**. Two points near one another in feature space will correspond to vectors that nearly overlap, i.e. vectors that describe a small angle $\\theta$. And as $\\theta$ decreases, $\\cos(\\theta)$ *increases*. So we'll be looking for large values of the cosine (which ranges between -1 and 1). We can also think of the cosine between two vectors as the *projection of one vector onto the other*:\n",
    "\n",
    "![image.png](https://www.oreilly.com/api/v2/epubs/9781788295758/files/assets/2b4a7a82-ad4c-4b2a-b808-e423a334de6f.png)\n",
    "We can use this metric easily if we treat our rows (the items we're comparing for similarity) as vectors: We can calculate the cosine of the angle $\\theta$ between two vectors $\\vec{a}$ and $\\vec{b}$ as follows: $\\cos(\\theta) = \\frac{\\vec{a}\\cdot\\vec{b}}{|\\vec{a}||\\vec{b}|}$"
   ]
  },
  {
   "cell_type": "code",
   "execution_count": 3,
   "metadata": {
    "ExecuteTime": {
     "end_time": "2023-01-09T22:05:56.101485Z",
     "start_time": "2023-01-09T22:05:56.098112Z"
    }
   },
   "outputs": [],
   "source": [
    "numerators = np.array([tv_shows[0].dot(tv_show) for tv_show in tv_shows[1:]])"
   ]
  },
  {
   "cell_type": "code",
   "execution_count": 4,
   "metadata": {
    "ExecuteTime": {
     "end_time": "2023-01-09T22:05:56.484329Z",
     "start_time": "2023-01-09T22:05:56.482158Z"
    }
   },
   "outputs": [
    {
     "data": {
      "text/plain": [
       "array([2, 4, 3])"
      ]
     },
     "execution_count": 4,
     "metadata": {},
     "output_type": "execute_result"
    }
   ],
   "source": [
    "numerators"
   ]
  },
  {
   "cell_type": "code",
   "execution_count": 5,
   "metadata": {
    "ExecuteTime": {
     "end_time": "2023-01-09T22:06:04.588956Z",
     "start_time": "2023-01-09T22:06:04.586142Z"
    }
   },
   "outputs": [],
   "source": [
    "denominators = np.array(\n",
    "    [(np.linalg.norm(tv_shows[0]) * np.linalg.norm(tv_show)) for tv_show in tv_shows[1:]]\n",
    ")"
   ]
  },
  {
   "cell_type": "code",
   "execution_count": 6,
   "metadata": {
    "ExecuteTime": {
     "end_time": "2023-01-09T22:06:04.957019Z",
     "start_time": "2023-01-09T22:06:04.953909Z"
    }
   },
   "outputs": [
    {
     "data": {
      "text/plain": [
       "array([3.87298335, 5.        , 4.47213595])"
      ]
     },
     "execution_count": 6,
     "metadata": {},
     "output_type": "execute_result"
    }
   ],
   "source": [
    "denominators"
   ]
  },
  {
   "cell_type": "code",
   "execution_count": 7,
   "metadata": {
    "ExecuteTime": {
     "end_time": "2023-01-09T22:06:14.916463Z",
     "start_time": "2023-01-09T22:06:14.913692Z"
    }
   },
   "outputs": [
    {
     "data": {
      "text/plain": [
       "array([0.51639778, 0.8       , 0.67082039])"
      ]
     },
     "execution_count": 7,
     "metadata": {},
     "output_type": "execute_result"
    }
   ],
   "source": [
    "numerators / denominators"
   ]
  },
  {
   "cell_type": "markdown",
   "metadata": {},
   "source": [
    "Since the cosine similarity to Row \\#1 is highest for Row \\#3, we would recommend this TV show."
   ]
  },
  {
   "cell_type": "markdown",
   "metadata": {},
   "source": [
    "***"
   ]
  },
  {
   "cell_type": "code",
   "execution_count": 8,
   "metadata": {
    "ExecuteTime": {
     "end_time": "2023-01-09T22:06:43.421127Z",
     "start_time": "2023-01-09T22:06:43.418123Z"
    }
   },
   "outputs": [
    {
     "data": {
      "text/plain": [
       "array([[0, 1, 1, 0, 1, 1, 1],\n",
       "       [0, 0, 0, 1, 1, 1, 0],\n",
       "       [1, 1, 1, 0, 0, 1, 1],\n",
       "       [0, 1, 1, 1, 0, 0, 1]])"
      ]
     },
     "execution_count": 8,
     "metadata": {},
     "output_type": "execute_result"
    }
   ],
   "source": [
    "tv_shows"
   ]
  },
  {
   "cell_type": "markdown",
   "metadata": {},
   "source": [
    "## Collaborative Filtering\n",
    "\n",
    "Now the idea is to recommend items to a user based on what *similar* users have enjoyed. Suppose we have the following recording of explicit ratings of five items by three users:"
   ]
  },
  {
   "cell_type": "code",
   "execution_count": 9,
   "metadata": {
    "ExecuteTime": {
     "end_time": "2023-01-09T22:07:38.707098Z",
     "start_time": "2023-01-09T22:07:38.703197Z"
    },
    "scrolled": true
   },
   "outputs": [
    {
     "data": {
      "text/plain": [
       "array([[5, 4, 3, 4, 5],\n",
       "       [3, 1, 1, 2, 5],\n",
       "       [4, 2, 3, 1, 4]])"
      ]
     },
     "execution_count": 9,
     "metadata": {},
     "output_type": "execute_result"
    }
   ],
   "source": [
    "users = np.array([[5, 4, 3, 4, 5], [3, 1, 1, 2, 5], [4, 2, 3, 1, 4]])\n",
    "\n",
    "new_user = np.array([5, 0, 0, 0, 0])\n",
    "users"
   ]
  },
  {
   "cell_type": "markdown",
   "metadata": {},
   "source": [
    "To which user is `new_user` most similar?\n",
    "\n",
    "One metric is cosine similarity:"
   ]
  },
  {
   "cell_type": "code",
   "execution_count": 10,
   "metadata": {
    "ExecuteTime": {
     "end_time": "2023-01-09T22:08:21.049895Z",
     "start_time": "2023-01-09T22:08:21.047007Z"
    }
   },
   "outputs": [],
   "source": [
    "new_user_mag = 5\n",
    "\n",
    "numerators = np.array([new_user.dot(user) for user in users])"
   ]
  },
  {
   "cell_type": "code",
   "execution_count": 11,
   "metadata": {
    "ExecuteTime": {
     "end_time": "2023-01-09T22:08:27.617274Z",
     "start_time": "2023-01-09T22:08:27.614625Z"
    }
   },
   "outputs": [
    {
     "data": {
      "text/plain": [
       "array([25, 15, 20])"
      ]
     },
     "execution_count": 11,
     "metadata": {},
     "output_type": "execute_result"
    }
   ],
   "source": [
    "numerators"
   ]
  },
  {
   "cell_type": "code",
   "execution_count": 12,
   "metadata": {
    "ExecuteTime": {
     "end_time": "2023-01-09T22:08:41.577195Z",
     "start_time": "2023-01-09T22:08:41.574161Z"
    }
   },
   "outputs": [],
   "source": [
    "denominators = np.array(\n",
    "    [(np.linalg.norm(new_user) * np.linalg.norm(user)) for user in users]\n",
    ")"
   ]
  },
  {
   "cell_type": "code",
   "execution_count": 13,
   "metadata": {
    "ExecuteTime": {
     "end_time": "2023-01-09T22:08:42.081783Z",
     "start_time": "2023-01-09T22:08:42.078155Z"
    }
   },
   "outputs": [
    {
     "data": {
      "text/plain": [
       "array([47.69696007, 31.6227766 , 33.91164992])"
      ]
     },
     "execution_count": 13,
     "metadata": {},
     "output_type": "execute_result"
    }
   ],
   "source": [
    "denominators"
   ]
  },
  {
   "cell_type": "code",
   "execution_count": 14,
   "metadata": {
    "ExecuteTime": {
     "end_time": "2023-01-09T22:08:43.305079Z",
     "start_time": "2023-01-09T22:08:43.301898Z"
    }
   },
   "outputs": [
    {
     "data": {
      "text/plain": [
       "array([0.52414242, 0.47434165, 0.58976782])"
      ]
     },
     "execution_count": 14,
     "metadata": {},
     "output_type": "execute_result"
    }
   ],
   "source": [
    "numerators / denominators"
   ]
  },
  {
   "cell_type": "markdown",
   "metadata": {},
   "source": [
    "But we could also use another metric, such as Pearson Correlation:"
   ]
  },
  {
   "cell_type": "code",
   "execution_count": 15,
   "metadata": {
    "ExecuteTime": {
     "end_time": "2023-01-09T22:08:44.424769Z",
     "start_time": "2023-01-09T22:08:44.422392Z"
    }
   },
   "outputs": [
    {
     "data": {
      "text/plain": [
       "[0.5345224838248488, 0.2004459314343183, 0.5144957554275266]"
      ]
     },
     "execution_count": 15,
     "metadata": {},
     "output_type": "execute_result"
    }
   ],
   "source": [
    "[np.corrcoef(new_user, user)[0, 1] for user in users]"
   ]
  },
  {
   "cell_type": "markdown",
   "metadata": {},
   "source": [
    "For more on content-based vs. collaborative systems, see [this Wikipedia article](https://en.wikipedia.org/wiki/Collaborative_filtering) and [this blog post](https://towardsdatascience.com/recommendation-systems-models-and-evaluation-84944a84fb8e). [This post](https://dataconomy.com/2015/03/an-introduction-to-recommendation-engines/) on dataconomy is also useful."
   ]
  },
  {
   "cell_type": "markdown",
   "metadata": {},
   "source": [
    "***"
   ]
  },
  {
   "cell_type": "markdown",
   "metadata": {},
   "source": [
    "## Matrix Factorization\n",
    "\n",
    "Suppose we start with a matrix $R$ of users and products, where each cell records the ranking the relevant user gave to the relevant product. Very often we'll be able to record this data as a sparse matrix, because many users will not have ranked many items.\n",
    "\n",
    "Imagine factoring this matrix into a user matrix $P$ and an item matrix $Q^T$: $R = PQ^T$. What would the shapes of $P$ and $Q^T$ be? Clearly $P$ must have as many rows as $R$, which is just the number of users who have given ratings. Similarly, $Q^T$ must have as many columns as $R$, which is just the number of items that have received ratings. We also know that the number of columns of $P$ must match the number of rows of $Q^T$ for the factorization to be possible, but this number could really be anything. In practice this will be a small number, and for reasons that will emerge shortly let's refer to these dimensions as **latent features** of the items in $R$. If $p$ is a row of $P$, i.e. a user-vector, and $q$ is a column of $Q^T$, i.e. an item-vector, then $p$ will record the user's particular weights or *preferences* with respect to the latent features, while $q$ will record how the item ranks with respect to those same latent features. This in turn means that we could predict a user's ranking of a particular item simply by calculating the dot-product of $p$ and $q$! \n",
    "\n",
    "If we could effect such a factorization, $R = PQ^T$, then we could calculate *all* predictions, i.e. fill in the gaps in $R$, by solving for $P$ and $Q$.\n",
    "\n",
    "The isolation of these latent features can be achieved in various ways. But this is at heart a matter of **dimensionality reduction**, and so one way is with the [SVD](https://hackernoon.com/introduction-to-recommender-system-part-1-collaborative-filtering-singular-value-decomposition-44c9659c5e75).\n",
    "\n",
    "An alternative is to use the method of Alternating Least Squares."
   ]
  },
  {
   "cell_type": "markdown",
   "metadata": {},
   "source": [
    "### Alternating Least-Squares (ALS)\n",
    "\n",
    "ALS recommendation systems are often implemented in Spark architectures because of the appropriateness for distributed computing. ALS systems often involve very large datasets (consider how much data the recommendation engine for NETFLIX must have, for example!), and it is often useful to store them as sparse matrices, which Spark's ML library can handle. In fact, Spark's mllib even includes a \"Rating\" datatype! ALS is **collaborative** and **model-based**, and is especially useful for working with *implicit* ratings.\n",
    "\n",
    "We're looking for two matrices (a user matrix and an item matrix) into which we can factor our ratings matrix. We can't of course solve for two matrices at once. But here's what we can do:\n",
    "\n",
    "Make guesses of the values for $P$ and $Q$. Then hold the values of one *constant* so that we can optimize for the values of the other!\n",
    "\n",
    "Basically this converts our problem into a familiar *least-squares* problem. See [this page](https://textbooks.math.gatech.edu/ila/least-squares.html) and [this page](https://datasciencemadesimpler.wordpress.com/tag/alternating-least-squares/) for more details, but here's the basic idea:"
   ]
  },
  {
   "cell_type": "markdown",
   "metadata": {},
   "source": [
    "If we have an equation $Ax = b$ for *non-square* $A$, then we have:\n",
    "\n",
    "$A^TAx = A^Tb$ <br/>\n",
    "Thus: <br/>\n",
    "$x = (A^TA)^{-1}A^Tb$\n",
    "\n",
    "This $(A^TA)^{-1}A^T$ **is the pseudo-inverse of** $A$. We encountered this before in our whirlwind tour of linear algebra."
   ]
  },
  {
   "cell_type": "code",
   "execution_count": 16,
   "metadata": {
    "ExecuteTime": {
     "end_time": "2023-01-09T22:14:47.481918Z",
     "start_time": "2023-01-09T22:14:47.477528Z"
    }
   },
   "outputs": [],
   "source": [
    "np.random.seed(42)\n",
    "\n",
    "A = np.random.rand(5, 5)\n",
    "b = np.random.rand(5, 1)"
   ]
  },
  {
   "cell_type": "code",
   "execution_count": 17,
   "metadata": {
    "ExecuteTime": {
     "end_time": "2023-01-09T22:14:49.155328Z",
     "start_time": "2023-01-09T22:14:49.150535Z"
    }
   },
   "outputs": [
    {
     "data": {
      "text/plain": [
       "array([[-226.17808974],\n",
       "       [ 218.48756728],\n",
       "       [-362.56506519],\n",
       "       [ 147.90541489],\n",
       "       [ 350.1459068 ]])"
      ]
     },
     "execution_count": 17,
     "metadata": {},
     "output_type": "execute_result"
    }
   ],
   "source": [
    "np.linalg.inv(A.T.dot(A)).dot(A.T).dot(b)"
   ]
  },
  {
   "cell_type": "markdown",
   "metadata": {},
   "source": [
    "The `numpy` library has a shortcut for this: `numpy.linalg.pinv()`:"
   ]
  },
  {
   "cell_type": "code",
   "execution_count": 18,
   "metadata": {
    "ExecuteTime": {
     "end_time": "2023-01-09T22:14:56.913969Z",
     "start_time": "2023-01-09T22:14:56.909375Z"
    }
   },
   "outputs": [
    {
     "data": {
      "text/plain": [
       "array([[-226.17808981],\n",
       "       [ 218.48756735],\n",
       "       [-362.56506531],\n",
       "       [ 147.90541493],\n",
       "       [ 350.14590691]])"
      ]
     },
     "execution_count": 18,
     "metadata": {},
     "output_type": "execute_result"
    }
   ],
   "source": [
    "np.linalg.pinv(A).dot(b)"
   ]
  },
  {
   "cell_type": "markdown",
   "metadata": {},
   "source": [
    "\"When we talk about collaborative filtering for recommender systems we want to solve the problem of our original matrix having millions of different dimensions, but our 'tastes' not being nearly as complex. Even if i’ve \\[sic\\] viewed hundreds of items they might just express a couple of different tastes. Here we can actually use matrix factorization to mathematically reduce the dimensionality of our original 'all users by all items' matrix into something much smaller that represents 'all items by some taste dimensions' and 'all users by some taste dimensions'. These dimensions are called ***latent or hidden features*** and we learn them from our data\" ([Medium article: \"ALS Implicit Collaborative Filtering\"](https://medium.com/radon-dev/als-implicit-collaborative-filtering-5ed653ba39fe))."
   ]
  },
  {
   "cell_type": "markdown",
   "metadata": {},
   "source": [
    "#### Simple Example\n",
    "\n",
    "Suppose Max and Erin have rated five films:"
   ]
  },
  {
   "cell_type": "code",
   "execution_count": 19,
   "metadata": {
    "ExecuteTime": {
     "end_time": "2023-01-09T22:17:39.840628Z",
     "start_time": "2023-01-09T22:17:39.832978Z"
    }
   },
   "outputs": [
    {
     "data": {
      "text/html": [
       "<div>\n",
       "<style scoped>\n",
       "    .dataframe tbody tr th:only-of-type {\n",
       "        vertical-align: middle;\n",
       "    }\n",
       "\n",
       "    .dataframe tbody tr th {\n",
       "        vertical-align: top;\n",
       "    }\n",
       "\n",
       "    .dataframe thead th {\n",
       "        text-align: right;\n",
       "    }\n",
       "</style>\n",
       "<table border=\"1\" class=\"dataframe\">\n",
       "  <thead>\n",
       "    <tr style=\"text-align: right;\">\n",
       "      <th></th>\n",
       "      <th>film1</th>\n",
       "      <th>film2</th>\n",
       "      <th>film3</th>\n",
       "      <th>film4</th>\n",
       "      <th>film5</th>\n",
       "    </tr>\n",
       "  </thead>\n",
       "  <tbody>\n",
       "    <tr>\n",
       "      <th>max</th>\n",
       "      <td>0</td>\n",
       "      <td>1</td>\n",
       "      <td>0</td>\n",
       "      <td>0</td>\n",
       "      <td>4</td>\n",
       "    </tr>\n",
       "    <tr>\n",
       "      <th>erin</th>\n",
       "      <td>0</td>\n",
       "      <td>0</td>\n",
       "      <td>0</td>\n",
       "      <td>5</td>\n",
       "      <td>0</td>\n",
       "    </tr>\n",
       "  </tbody>\n",
       "</table>\n",
       "</div>"
      ],
      "text/plain": [
       "      film1  film2  film3  film4  film5\n",
       "max       0      1      0      0      4\n",
       "erin      0      0      0      5      0"
      ]
     },
     "execution_count": 19,
     "metadata": {},
     "output_type": "execute_result"
    }
   ],
   "source": [
    "ratings_arr = pd.DataFrame([[0, 1, 0, 0, 4], [0, 0, 0, 5, 0]],\\\n",
    "                           index=['max', 'erin'],\n",
    "             columns=['film' + str(i) for i in range(1, 6)])\n",
    "ratings_arr"
   ]
  },
  {
   "cell_type": "markdown",
   "metadata": {},
   "source": [
    "Suppose now that we isolate ten latent features of these films, and that we can capture our users, i.e. the tastes of Max and Erin, according to these features. (We'll just fill out a matrix randomly.)"
   ]
  },
  {
   "cell_type": "code",
   "execution_count": 20,
   "metadata": {
    "ExecuteTime": {
     "end_time": "2023-01-09T22:17:41.851071Z",
     "start_time": "2023-01-09T22:17:41.849052Z"
    }
   },
   "outputs": [],
   "source": [
    "seed(100)\n",
    "users = []\n",
    "\n",
    "for _ in range(2):\n",
    "    user = []\n",
    "    for _ in range(10):\n",
    "        user.append(gs(0, 1))\n",
    "    users.append(user)\n",
    "users_arr = np.array(users)"
   ]
  },
  {
   "cell_type": "code",
   "execution_count": 21,
   "metadata": {
    "ExecuteTime": {
     "end_time": "2023-01-09T22:17:43.547911Z",
     "start_time": "2023-01-09T22:17:43.545155Z"
    }
   },
   "outputs": [
    {
     "data": {
      "text/plain": [
       "array([[ 0.67155333,  0.87331967,  0.20361655, -1.55034921, -0.12059128,\n",
       "        -1.05927574,  0.38143697, -1.17342904,  0.96637182,  0.53248343],\n",
       "       [ 2.22041991,  0.68901284,  0.85436449, -0.29504752, -0.62335055,\n",
       "         1.5917369 ,  0.17920475,  0.60086339,  0.3474319 ,  0.85537186]])"
      ]
     },
     "execution_count": 21,
     "metadata": {},
     "output_type": "execute_result"
    }
   ],
   "source": [
    "users_arr"
   ]
  },
  {
   "cell_type": "markdown",
   "metadata": {},
   "source": [
    "Now we'll make another random matrix that expresses *our items* in terms of these latent features."
   ]
  },
  {
   "cell_type": "code",
   "execution_count": 22,
   "metadata": {
    "ExecuteTime": {
     "end_time": "2023-01-09T22:17:58.812017Z",
     "start_time": "2023-01-09T22:17:58.808387Z"
    }
   },
   "outputs": [],
   "source": [
    "seed(100)\n",
    "items = []\n",
    "\n",
    "for _ in range(5):\n",
    "    item = []\n",
    "    for _ in range(10):\n",
    "        item.append(gs(0, 1))\n",
    "    items.append(item)\n",
    "items_arr = np.array(items)"
   ]
  },
  {
   "cell_type": "code",
   "execution_count": 23,
   "metadata": {
    "ExecuteTime": {
     "end_time": "2023-01-09T22:17:59.491217Z",
     "start_time": "2023-01-09T22:17:59.488211Z"
    }
   },
   "outputs": [
    {
     "data": {
      "text/plain": [
       "array([[ 0.67155333,  0.87331967,  0.20361655, -1.55034921, -0.12059128,\n",
       "        -1.05927574,  0.38143697, -1.17342904,  0.96637182,  0.53248343],\n",
       "       [ 2.22041991,  0.68901284,  0.85436449, -0.29504752, -0.62335055,\n",
       "         1.5917369 ,  0.17920475,  0.60086339,  0.3474319 ,  0.85537186],\n",
       "       [-1.80291827, -1.83311295,  0.60911087,  2.4250145 , -2.02233576,\n",
       "        -0.73382756,  0.24510831, -0.53817586, -0.30637608, -0.41367264],\n",
       "       [ 1.0027436 ,  0.03558136,  0.19013362, -1.27827915,  0.67648704,\n",
       "         1.79506722,  0.63054322, -0.37947302, -1.35033057,  0.45576721],\n",
       "       [ 0.42542416, -0.29962041, -2.48035968, -0.87457154, -1.23050164,\n",
       "        -1.00629648,  0.1857537 , -1.174924  , -0.33108494,  1.29437514]])"
      ]
     },
     "execution_count": 23,
     "metadata": {},
     "output_type": "execute_result"
    }
   ],
   "source": [
    "items_arr"
   ]
  },
  {
   "cell_type": "code",
   "execution_count": 24,
   "metadata": {
    "ExecuteTime": {
     "end_time": "2023-01-09T22:18:15.179102Z",
     "start_time": "2023-01-09T22:18:15.176590Z"
    }
   },
   "outputs": [
    {
     "data": {
      "text/plain": [
       "(2, 10)"
      ]
     },
     "execution_count": 24,
     "metadata": {},
     "output_type": "execute_result"
    }
   ],
   "source": [
    "users_arr.shape"
   ]
  },
  {
   "cell_type": "code",
   "execution_count": 25,
   "metadata": {
    "ExecuteTime": {
     "end_time": "2023-01-09T22:18:16.794410Z",
     "start_time": "2023-01-09T22:18:16.792397Z"
    }
   },
   "outputs": [
    {
     "data": {
      "text/plain": [
       "(5, 10)"
      ]
     },
     "execution_count": 25,
     "metadata": {},
     "output_type": "execute_result"
    }
   ],
   "source": [
    "items_arr.shape"
   ]
  },
  {
   "cell_type": "markdown",
   "metadata": {},
   "source": [
    "To construct our large users-by-items matrix, we'll simply take the product of our two random matrices."
   ]
  },
  {
   "cell_type": "code",
   "execution_count": 26,
   "metadata": {
    "ExecuteTime": {
     "end_time": "2023-01-09T22:18:24.411173Z",
     "start_time": "2023-01-09T22:18:24.408531Z"
    }
   },
   "outputs": [
    {
     "data": {
      "text/plain": [
       "array([[ 7.53516384,  1.26783511, -5.21738432,  0.36547776,  3.90803828],\n",
       "       [ 1.26783511, 10.38970834, -6.10853643,  5.03189793, -1.63817674]])"
      ]
     },
     "execution_count": 26,
     "metadata": {},
     "output_type": "execute_result"
    }
   ],
   "source": [
    "users_arr.dot(items_arr.T)"
   ]
  },
  {
   "cell_type": "markdown",
   "metadata": {},
   "source": [
    "Now here's where the ALS really kicks in: We'll solve for Max's and Erin's preference vectors by multiplying the pseudo-inverse of the items array by their respective ratings vectors:"
   ]
  },
  {
   "cell_type": "markdown",
   "metadata": {},
   "source": [
    "$x = (A^TA)^{-1}A^Tb$\n",
    "\n",
    " $MaxPreferences = (items^Titems)^{-1}items^TMaxRatings$"
   ]
  },
  {
   "cell_type": "code",
   "execution_count": 27,
   "metadata": {
    "ExecuteTime": {
     "end_time": "2023-01-09T22:19:17.906310Z",
     "start_time": "2023-01-09T22:19:17.902803Z"
    }
   },
   "outputs": [
    {
     "name": "stdout",
     "output_type": "stream",
     "text": [
      "[ 0.47099573 -0.11214938 -0.98527859  0.09266666 -0.64747458  0.00854642\n",
      " -0.11601818  0.09586291 -0.08579953  0.55693307]\n",
      "[-0.23238655 -0.55138144  0.5415508  -0.71191248  0.27767197  0.81157767\n",
      "  0.78557579 -1.03623954 -1.25490079  0.02606555]\n"
     ]
    }
   ],
   "source": [
    "max_pref = np.linalg.pinv(items_arr).dot(ratings_arr.loc['max', :])\n",
    "print(max_pref)\n",
    "erin_pref = np.linalg.pinv(items_arr).dot(ratings_arr.loc['erin', :])\n",
    "print(erin_pref)"
   ]
  },
  {
   "cell_type": "code",
   "execution_count": 28,
   "metadata": {
    "ExecuteTime": {
     "end_time": "2023-01-09T22:19:18.841541Z",
     "start_time": "2023-01-09T22:19:18.839067Z"
    }
   },
   "outputs": [
    {
     "data": {
      "text/plain": [
       "(10, 5)"
      ]
     },
     "execution_count": 28,
     "metadata": {},
     "output_type": "execute_result"
    }
   ],
   "source": [
    "items_arr.T.shape"
   ]
  },
  {
   "cell_type": "markdown",
   "metadata": {},
   "source": [
    "We'll predict (or, in this case, reproduce) Max's and Erin's ratings for films by simply multiplying their preference vectors by the transpose of the items array:"
   ]
  },
  {
   "cell_type": "code",
   "execution_count": 29,
   "metadata": {
    "ExecuteTime": {
     "end_time": "2023-01-09T22:19:44.401539Z",
     "start_time": "2023-01-09T22:19:44.397764Z"
    }
   },
   "outputs": [
    {
     "data": {
      "text/plain": [
       "array([-1.24900090e-15,  1.00000000e+00,  3.27515792e-15,  2.91433544e-16,\n",
       "        4.00000000e+00])"
      ]
     },
     "execution_count": 29,
     "metadata": {},
     "output_type": "execute_result"
    }
   ],
   "source": [
    "newmax = max_pref.dot(items_arr.T)\n",
    "newmax"
   ]
  },
  {
   "cell_type": "markdown",
   "metadata": {},
   "source": [
    "This lines up with the ratings with which we began."
   ]
  },
  {
   "cell_type": "code",
   "execution_count": 30,
   "metadata": {
    "ExecuteTime": {
     "end_time": "2023-01-09T22:19:48.776919Z",
     "start_time": "2023-01-09T22:19:48.774123Z"
    }
   },
   "outputs": [
    {
     "data": {
      "text/plain": [
       "array([-5.55111512e-16, -4.10782519e-15,  2.22044605e-16,  5.00000000e+00,\n",
       "        2.44249065e-15])"
      ]
     },
     "execution_count": 30,
     "metadata": {},
     "output_type": "execute_result"
    }
   ],
   "source": [
    "newerin = erin_pref.dot(items_arr.T)\n",
    "newerin"
   ]
  },
  {
   "cell_type": "code",
   "execution_count": 31,
   "metadata": {
    "ExecuteTime": {
     "end_time": "2023-01-09T22:19:49.690465Z",
     "start_time": "2023-01-09T22:19:49.685730Z"
    }
   },
   "outputs": [
    {
     "data": {
      "text/html": [
       "<div>\n",
       "<style scoped>\n",
       "    .dataframe tbody tr th:only-of-type {\n",
       "        vertical-align: middle;\n",
       "    }\n",
       "\n",
       "    .dataframe tbody tr th {\n",
       "        vertical-align: top;\n",
       "    }\n",
       "\n",
       "    .dataframe thead th {\n",
       "        text-align: right;\n",
       "    }\n",
       "</style>\n",
       "<table border=\"1\" class=\"dataframe\">\n",
       "  <thead>\n",
       "    <tr style=\"text-align: right;\">\n",
       "      <th></th>\n",
       "      <th>film1</th>\n",
       "      <th>film2</th>\n",
       "      <th>film3</th>\n",
       "      <th>film4</th>\n",
       "      <th>film5</th>\n",
       "    </tr>\n",
       "  </thead>\n",
       "  <tbody>\n",
       "    <tr>\n",
       "      <th>max</th>\n",
       "      <td>0</td>\n",
       "      <td>1</td>\n",
       "      <td>0</td>\n",
       "      <td>0</td>\n",
       "      <td>4</td>\n",
       "    </tr>\n",
       "    <tr>\n",
       "      <th>erin</th>\n",
       "      <td>0</td>\n",
       "      <td>0</td>\n",
       "      <td>0</td>\n",
       "      <td>5</td>\n",
       "      <td>0</td>\n",
       "    </tr>\n",
       "  </tbody>\n",
       "</table>\n",
       "</div>"
      ],
      "text/plain": [
       "      film1  film2  film3  film4  film5\n",
       "max       0      1      0      0      4\n",
       "erin      0      0      0      5      0"
      ]
     },
     "execution_count": 31,
     "metadata": {},
     "output_type": "execute_result"
    }
   ],
   "source": [
    "ratings_arr"
   ]
  },
  {
   "cell_type": "markdown",
   "metadata": {},
   "source": [
    "Ditto!"
   ]
  },
  {
   "cell_type": "markdown",
   "metadata": {},
   "source": [
    "We'll make a quick error calculation:"
   ]
  },
  {
   "cell_type": "code",
   "execution_count": 32,
   "metadata": {
    "ExecuteTime": {
     "end_time": "2023-01-09T22:21:24.935138Z",
     "start_time": "2023-01-09T22:21:24.931746Z"
    }
   },
   "outputs": [
    {
     "name": "stdout",
     "output_type": "stream",
     "text": [
      "1.34106353887572e-29\n"
     ]
    }
   ],
   "source": [
    "guess = np.vstack([newmax, newerin])\n",
    "\n",
    "err = 0\n",
    "for i in range(2):\n",
    "    for j in range(len(ratings_arr.values[i, :])):\n",
    "        if ratings_arr.values[i, j] != 0:\n",
    "            err += (ratings_arr.values[i, j] - guess[i, j])**2\n",
    "print(err)"
   ]
  },
  {
   "cell_type": "markdown",
   "metadata": {},
   "source": [
    "#### Second Example"
   ]
  },
  {
   "cell_type": "code",
   "execution_count": null,
   "metadata": {
    "ExecuteTime": {
     "end_time": "2023-01-06T17:51:38.377794Z",
     "start_time": "2023-01-06T17:51:38.363794Z"
    }
   },
   "outputs": [],
   "source": [
    "# Users: m x n (m users)\n",
    "# Items: r x n (r items)\n",
    "# Ratings: m x r"
   ]
  },
  {
   "cell_type": "code",
   "execution_count": 33,
   "metadata": {
    "ExecuteTime": {
     "end_time": "2023-01-09T22:23:47.545168Z",
     "start_time": "2023-01-09T22:23:47.536652Z"
    }
   },
   "outputs": [],
   "source": [
    "# If P = users and Q = items, then we want to approximate R = PQ^T\n",
    "# Let's generate R.\n",
    "\n",
    "seed(42)\n",
    "ratings2 = []\n",
    "for _ in range(100):\n",
    "    user = []\n",
    "    for _ in range(100):\n",
    "        chance = gs(0, 0.4)\n",
    "        \n",
    "        # We'll fill our ratings matrix mostly with 0's to represent\n",
    "        # unrated films. This is NOT standard; we're doing this only\n",
    "        # to illustrate the general algorithm.\n",
    "        if chance > 0.5:\n",
    "            user.append(int(uni(1, 6)))\n",
    "        else:\n",
    "            user.append(0)\n",
    "        \n",
    "        # This 'if' will simply ensure that everyone has given at least\n",
    "        # one rating.\n",
    "        if user.count(0) == 10:\n",
    "            user[int(uni(0, 10))] = int(uni(1, 6))\n",
    "    ratings2.append(user)\n",
    "ratings_arr2 = np.array(ratings2)"
   ]
  },
  {
   "cell_type": "code",
   "execution_count": 34,
   "metadata": {
    "ExecuteTime": {
     "end_time": "2023-01-09T22:23:55.002928Z",
     "start_time": "2023-01-09T22:23:55.000019Z"
    }
   },
   "outputs": [
    {
     "data": {
      "text/plain": [
       "(100, 100)"
      ]
     },
     "execution_count": 34,
     "metadata": {},
     "output_type": "execute_result"
    }
   ],
   "source": [
    "ratings_arr2.shape"
   ]
  },
  {
   "cell_type": "code",
   "execution_count": 35,
   "metadata": {
    "ExecuteTime": {
     "end_time": "2023-01-09T22:23:59.706137Z",
     "start_time": "2023-01-09T22:23:59.704105Z"
    }
   },
   "outputs": [
    {
     "data": {
      "text/plain": [
       "array([[0, 0, 0, ..., 0, 2, 0],\n",
       "       [3, 0, 2, ..., 0, 0, 0],\n",
       "       [5, 3, 0, ..., 0, 0, 0],\n",
       "       ...,\n",
       "       [0, 0, 0, ..., 5, 0, 2],\n",
       "       [0, 2, 5, ..., 0, 0, 0],\n",
       "       [2, 2, 0, ..., 5, 0, 5]])"
      ]
     },
     "execution_count": 35,
     "metadata": {},
     "output_type": "execute_result"
    }
   ],
   "source": [
    "ratings_arr2"
   ]
  },
  {
   "cell_type": "code",
   "execution_count": 36,
   "metadata": {
    "ExecuteTime": {
     "end_time": "2023-01-09T22:24:31.130831Z",
     "start_time": "2023-01-09T22:24:31.126976Z"
    }
   },
   "outputs": [],
   "source": [
    "users2 = []\n",
    "\n",
    "# Random generation of values for the user matrix\n",
    "for _ in range(100):\n",
    "    user = []\n",
    "    for _ in range(10):\n",
    "        user.append(gs(0, 1))\n",
    "    users2.append(user)\n",
    "users_arr2 = np.array(users2)"
   ]
  },
  {
   "cell_type": "code",
   "execution_count": 37,
   "metadata": {
    "ExecuteTime": {
     "end_time": "2023-01-09T22:24:32.066417Z",
     "start_time": "2023-01-09T22:24:32.063015Z"
    }
   },
   "outputs": [
    {
     "data": {
      "text/plain": [
       "(100, 10)"
      ]
     },
     "execution_count": 37,
     "metadata": {},
     "output_type": "execute_result"
    }
   ],
   "source": [
    "users_arr2.shape"
   ]
  },
  {
   "cell_type": "code",
   "execution_count": 38,
   "metadata": {
    "ExecuteTime": {
     "end_time": "2023-01-09T22:24:40.848441Z",
     "start_time": "2023-01-09T22:24:40.831772Z"
    }
   },
   "outputs": [
    {
     "data": {
      "text/plain": [
       "array([[ 8.82274940e-01, -6.95578968e-01,  1.54768279e+00,\n",
       "         1.78060346e+00,  7.60860746e-01,  1.69049328e-03,\n",
       "        -8.11676645e-01, -2.96592311e-01,  1.22018185e+00,\n",
       "        -6.40643075e-01],\n",
       "       [ 3.38046603e-01, -8.84372639e-02, -4.71171046e-01,\n",
       "         2.97457087e-01,  7.47705044e-01, -1.52768298e+00,\n",
       "         8.60478025e-01, -2.29952221e+00,  8.31657461e-02,\n",
       "         1.75486978e+00],\n",
       "       [-6.05034368e-01, -7.91079221e-01,  6.60531797e-01,\n",
       "         1.77741409e+00,  2.32317539e+00,  1.10269697e+00,\n",
       "        -3.46441549e-01,  2.08400708e+00,  1.17115157e+00,\n",
       "         1.14886862e+00],\n",
       "       [ 5.39182805e-01, -1.96643053e-01, -1.40011107e+00,\n",
       "         5.20215810e-01,  9.77939247e-03, -1.46830679e-01,\n",
       "         6.39371173e-01,  5.80257468e-01,  1.12484728e+00,\n",
       "         8.45800019e-01],\n",
       "       [-1.44557940e+00,  2.65330167e-01, -1.55962186e-01,\n",
       "         4.92370669e-01, -4.90071582e-02, -1.09964415e+00,\n",
       "         2.51199253e+00,  1.18982721e+00,  7.73182610e-01,\n",
       "        -4.87234239e-01],\n",
       "       [-4.11557188e-01,  2.94441233e+00, -1.54869365e+00,\n",
       "         1.42706204e+00,  8.50885145e-01,  7.29851475e-01,\n",
       "        -1.75969125e+00, -1.04035878e+00, -6.39867207e-01,\n",
       "        -1.65974592e+00],\n",
       "       [ 3.78976084e-02, -7.12321884e-01,  2.77091477e+00,\n",
       "         2.09547887e+00, -1.07697297e+00, -8.17282853e-01,\n",
       "        -1.31079100e+00,  1.53377519e+00, -9.70031891e-01,\n",
       "        -1.63813380e+00],\n",
       "       [ 1.01875074e+00, -2.39546357e-01, -1.29474032e+00,\n",
       "        -1.52679001e+00, -3.02708205e-01,  1.57589850e+00,\n",
       "        -1.23207707e-01,  7.51428277e-01, -1.04192339e+00,\n",
       "        -5.12589394e-02],\n",
       "       [ 1.47402702e+00, -2.44674146e+00,  4.00256328e-01,\n",
       "         2.30284125e-01,  2.56972014e-01, -7.00052694e-01,\n",
       "        -1.33667935e+00,  4.22079129e-02, -2.36924199e-01,\n",
       "        -4.04251834e-01],\n",
       "       [ 3.03161926e-01, -1.54068913e+00, -1.76923865e+00,\n",
       "        -7.09130949e-01, -8.59872849e-01,  8.51032667e-01,\n",
       "         8.75698698e-01, -4.44507300e-01, -1.07257823e+00,\n",
       "        -7.96521325e-01],\n",
       "       [ 6.71518268e-01, -2.38964456e+00, -4.44547744e-01,\n",
       "        -2.28713618e-01,  8.32818466e-02, -9.42247115e-01,\n",
       "        -1.01123566e+00, -1.91307036e+00, -8.82186854e-01,\n",
       "         4.71864242e-01],\n",
       "       [-3.30190663e-02, -9.23146106e-01,  4.64117027e-01,\n",
       "        -1.89969286e+00, -1.08945476e+00, -5.40908922e-01,\n",
       "         1.70387638e+00, -6.72173910e-01, -1.20188094e+00,\n",
       "        -1.24992575e+00],\n",
       "       [-1.10971227e-01, -1.99086481e-01, -2.01827875e-01,\n",
       "        -9.02599859e-02,  4.30089580e-01, -1.51948728e-01,\n",
       "         1.58047899e+00, -8.60235331e-01, -2.55320103e-01,\n",
       "        -1.92911045e+00],\n",
       "       [-4.07802675e-02,  1.84658793e+00, -1.50191416e+00,\n",
       "         2.23863546e+00,  8.86991450e-03,  1.08679701e+00,\n",
       "         1.05757203e+00,  3.27528591e-01,  7.80284899e-01,\n",
       "        -4.42907307e-02],\n",
       "       [ 1.85614314e-01, -6.59867839e-01,  1.64134243e-01,\n",
       "        -1.24820381e+00, -4.42094090e-01,  9.11379079e-01,\n",
       "        -1.06691361e+00,  1.49718932e+00,  1.10500083e+00,\n",
       "        -1.63213190e+00],\n",
       "       [-6.95392778e-01,  1.19697660e+00, -1.21122909e-01,\n",
       "        -1.89841586e+00,  2.63843650e-01,  1.85980297e+00,\n",
       "         1.28667344e+00,  9.50953727e-01, -5.54550484e-01,\n",
       "        -6.65654188e-01],\n",
       "       [-6.41820686e-01,  1.13221401e-02, -5.80636649e-01,\n",
       "         5.27030501e-01, -2.45773323e-01, -8.96096836e-01,\n",
       "         7.31638227e-01, -1.99680054e+00,  7.58433911e-02,\n",
       "        -2.52936984e+00],\n",
       "       [-2.14614055e-01,  4.36277901e-01, -1.90554016e+00,\n",
       "        -1.07656054e+00, -3.94487699e-01, -1.22006051e+00,\n",
       "         5.28696701e-02, -1.24204952e+00, -1.23618701e+00,\n",
       "         9.22444637e-01],\n",
       "       [ 1.38219890e-01,  4.13169049e-01, -1.67124286e+00,\n",
       "        -1.18194791e+00, -6.45675483e-01,  4.40956224e-01,\n",
       "        -2.62409304e-01, -1.20551062e+00, -1.79661768e+00,\n",
       "         1.36210513e+00],\n",
       "       [ 1.98862784e+00,  1.51522299e+00,  8.24950977e-01,\n",
       "        -1.92046633e+00, -3.53984175e-01,  1.25025280e+00,\n",
       "         3.36443149e+00,  1.91096613e+00, -2.69935136e-01,\n",
       "         1.01930112e-01],\n",
       "       [-1.41708757e+00, -4.40706206e-01, -1.73937677e-01,\n",
       "         1.15504640e+00,  1.42872213e+00, -2.47768756e+00,\n",
       "         2.08937247e-02,  7.15190804e-01, -4.17452296e-01,\n",
       "        -5.58878082e-01],\n",
       "       [ 7.45109456e-01,  5.82567963e-02,  1.36474924e+00,\n",
       "         1.79154666e-01,  5.43030664e-01, -8.80786104e-01,\n",
       "        -1.22924239e+00, -4.09901620e-01, -1.65363326e+00,\n",
       "         1.01587105e+00],\n",
       "       [-1.22728831e+00, -6.83729086e-01,  2.12785930e+00,\n",
       "        -1.79198318e+00, -3.15621209e-02, -1.56602543e+00,\n",
       "         1.79209678e+00, -2.04505899e-01, -8.18186106e-02,\n",
       "         9.58176481e-01],\n",
       "       [ 1.90238396e+00, -1.38119773e+00, -4.01025570e-01,\n",
       "         8.50076656e-01,  5.18948473e-01, -1.39898741e-01,\n",
       "         1.86571221e+00, -2.25685480e+00,  2.42498410e-02,\n",
       "         1.24297441e+00],\n",
       "       [ 1.94330684e+00,  2.03748669e+00,  2.53906596e-01,\n",
       "        -1.16269756e+00, -8.57267118e-01,  1.31707475e-01,\n",
       "         4.79213906e-01, -1.27416591e+00, -2.96923561e-01,\n",
       "        -1.56219295e+00],\n",
       "       [-7.79161329e-01, -1.00404526e+00,  1.11403450e+00,\n",
       "        -1.04762900e-01, -2.95318283e-01, -1.48744709e-01,\n",
       "        -8.60745477e-01, -7.96226177e-01, -2.27805781e+00,\n",
       "         9.65742912e-01],\n",
       "       [ 6.07795481e-01,  1.12798855e+00, -3.20906180e-01,\n",
       "        -1.24719927e-01, -1.15731373e+00,  1.64442544e+00,\n",
       "         9.05994872e-01,  1.21269335e+00,  1.46040034e+00,\n",
       "         6.36473440e-01],\n",
       "       [-2.19721900e+00, -1.02978132e+00, -2.20257929e-01,\n",
       "        -1.56598316e+00, -1.55825212e+00,  9.00792692e-02,\n",
       "         2.73962258e+00, -1.03033847e+00,  2.37925687e-01,\n",
       "         1.07086841e+00],\n",
       "       [-1.45520614e+00, -3.58037615e-01, -6.29585264e-01,\n",
       "         1.13617746e+00,  1.72027105e+00, -1.69945658e+00,\n",
       "         7.68134876e-01,  9.80480908e-01, -3.63443177e-01,\n",
       "        -7.89304638e-01],\n",
       "       [ 1.37030335e+00,  5.83700755e-02, -2.22135440e-01,\n",
       "        -9.15466505e-01,  2.01013431e+00,  1.88013053e+00,\n",
       "        -9.27313162e-01, -8.05708014e-01, -1.99702210e-01,\n",
       "        -1.61177285e+00],\n",
       "       [ 1.02320212e-02,  1.35650975e+00,  3.48285986e-02,\n",
       "        -6.27759290e-01,  6.06253281e-01,  1.31480629e+00,\n",
       "        -5.04259138e-01,  1.59261083e-02,  2.04817997e+00,\n",
       "         1.28372828e+00],\n",
       "       [-2.18084914e+00, -1.09404243e+00, -7.77888298e-01,\n",
       "         6.64792482e-01, -1.80396253e-01, -5.15402464e-01,\n",
       "        -2.48351742e-01,  3.73993099e-01, -9.61934125e-01,\n",
       "         1.23759597e+00],\n",
       "       [ 8.53151003e-01, -8.10651236e-01,  4.04890996e-01,\n",
       "         9.28697681e-01,  4.26031407e-01,  2.88176350e+00,\n",
       "        -6.11059924e-01, -6.75861576e-01,  1.38954858e-02,\n",
       "        -1.21816426e+00],\n",
       "       [ 1.35394432e+00,  1.74507776e-01,  3.46963605e-01,\n",
       "        -3.93864763e-02, -4.24550348e-01,  4.34553220e-01,\n",
       "         1.19535784e+00, -2.78258385e-01,  9.85206404e-01,\n",
       "         2.88610955e-02],\n",
       "       [ 2.13776031e+00,  3.75224676e-01, -1.82576246e+00,\n",
       "        -7.67903345e-01,  6.21433424e-01, -1.77533538e-01,\n",
       "        -4.59384534e-01, -4.36153986e-01,  1.81679197e-01,\n",
       "         9.02213964e-01],\n",
       "       [ 1.53249217e+00, -1.58944095e+00, -1.05822021e+00,\n",
       "        -7.65983993e-01,  1.21521317e+00, -9.86970104e-01,\n",
       "         4.54820995e-01, -4.28872976e-01,  1.09754369e+00,\n",
       "         1.48790593e+00],\n",
       "       [ 2.76137889e-01,  5.32907450e-02, -2.44835424e+00,\n",
       "        -5.89259872e-01,  1.68997749e+00, -6.60477128e-01,\n",
       "        -3.13627778e-01,  7.68539608e-01, -3.67739752e-01,\n",
       "         5.12529119e-01],\n",
       "       [-2.13257049e+00, -2.48858753e-01, -1.36006341e+00,\n",
       "         2.00744861e-02,  2.24722649e+00, -3.75350926e-02,\n",
       "         2.12448583e+00, -8.75017721e-01, -9.47621841e-01,\n",
       "        -2.94660737e-01],\n",
       "       [-4.71072750e-01,  1.59845220e-01, -8.56161018e-01,\n",
       "        -3.04970701e-01, -4.91708716e-01,  5.52858889e-01,\n",
       "         2.66164724e-01, -5.88646149e-01, -7.76709845e-01,\n",
       "         5.32970247e-01],\n",
       "       [ 1.95148071e+00, -1.12760633e+00,  8.18847208e-01,\n",
       "        -2.03421180e+00, -5.02776412e-01, -1.84409614e+00,\n",
       "         9.85402921e-01,  7.04463425e-01, -4.54590123e-01,\n",
       "        -7.52529137e-01],\n",
       "       [-1.28908211e+00, -2.23624720e-01, -9.81104328e-01,\n",
       "        -1.99487488e-01, -6.41549348e-01, -1.92439897e-01,\n",
       "        -4.66053189e-01,  9.85323886e-01,  7.70583700e-01,\n",
       "         2.27593034e+00],\n",
       "       [-9.56304106e-01,  4.77318580e-01,  1.90869725e-01,\n",
       "         1.08693634e-01,  1.01761344e+00,  7.82385802e-01,\n",
       "        -6.59600335e-01, -5.43322101e-01,  1.71431952e+00,\n",
       "        -8.31409396e-02],\n",
       "       [ 2.02327881e-01, -1.53613154e+00, -2.87271552e-01,\n",
       "        -5.02301565e-02,  8.09171058e-01, -2.81138078e-01,\n",
       "        -1.83104844e+00, -1.12159099e+00, -1.37984376e+00,\n",
       "        -3.80158611e-01],\n",
       "       [-8.33855985e-02, -1.23346678e+00,  8.12479387e-01,\n",
       "         2.48317971e-01,  9.76427676e-01,  2.38861548e+00,\n",
       "         1.76779315e+00,  6.04447546e-01,  1.14875946e+00,\n",
       "        -1.16760452e+00],\n",
       "       [-6.19583750e-01, -9.40837457e-02, -1.06688470e+00,\n",
       "         1.12439501e+00,  3.85830676e-01, -2.42609973e-01,\n",
       "         2.00787899e+00, -6.52897385e-01, -9.10839787e-02,\n",
       "        -3.78455214e-01],\n",
       "       [ 1.95586066e-01,  6.51879486e-01, -1.12645896e-01,\n",
       "        -1.36901465e-01,  5.99494512e-01, -3.19413726e-01,\n",
       "        -8.44499676e-01, -2.10928847e+00,  7.41219288e-01,\n",
       "         2.20760777e-02],\n",
       "       [ 7.34417759e-01, -1.73779890e+00,  2.93522111e+00,\n",
       "        -2.88591928e-01,  4.46217264e-01, -8.54770080e-01,\n",
       "         1.58583819e-01, -2.57739725e-01,  4.73105411e-01,\n",
       "         5.84257189e-01],\n",
       "       [-1.01252520e+00, -1.80222043e+00, -1.15034834e+00,\n",
       "         6.05929700e-01,  9.19390905e-01, -1.05959324e+00,\n",
       "         5.74563707e-01,  1.97193838e+00, -6.69294912e-02,\n",
       "        -7.95059120e-01],\n",
       "       [-3.80032535e-01, -9.64830649e-01, -6.91322277e-01,\n",
       "         4.16861996e-01,  1.49761884e+00, -1.07269238e+00,\n",
       "        -1.35025886e+00,  1.00153490e-01, -7.02552792e-01,\n",
       "        -7.16255883e-01],\n",
       "       [-3.63433967e-01, -1.02976798e+00, -3.69381243e-01,\n",
       "        -6.06730545e-01, -3.21207542e-01, -3.76550446e-01,\n",
       "         9.46230823e-01, -6.67537665e-01,  3.62105401e-01,\n",
       "         8.13649126e-01],\n",
       "       [ 7.21914374e-01, -2.67601218e-01, -9.71658861e-01,\n",
       "        -2.09575111e+00, -9.94656530e-01,  7.39946764e-01,\n",
       "        -2.81103277e-01,  1.26863116e+00,  3.91587764e-01,\n",
       "         3.17748637e-01],\n",
       "       [ 9.17627683e-01, -1.86192040e+00,  1.21035444e+00,\n",
       "        -3.91510901e-01, -5.21400650e-01,  6.65988185e-03,\n",
       "         1.12465059e+00, -3.13937722e-02,  5.57093299e-01,\n",
       "         4.57012475e-01],\n",
       "       [ 3.18487954e-01, -5.53552155e-01,  1.42652497e-01,\n",
       "        -1.80656210e+00,  7.16040340e-02,  1.38042170e+00,\n",
       "        -5.13600426e-01,  2.10443089e-01, -2.37412000e-01,\n",
       "        -1.65747414e-01],\n",
       "       [ 1.56005753e+00, -6.91269801e-01,  2.57186997e-01,\n",
       "         6.37488712e-01, -5.36887583e-01,  1.18073050e+00,\n",
       "         8.66584246e-01, -2.90086395e-01,  2.14917388e+00,\n",
       "        -6.92127466e-01],\n",
       "       [-3.93780728e-01,  5.41154086e-01, -6.14996190e-01,\n",
       "        -7.84014131e-01,  4.75105651e-01,  6.81430782e-01,\n",
       "         5.87329889e-01,  2.48264300e-01,  5.01939746e-01,\n",
       "         1.37623291e+00],\n",
       "       [-1.87757868e+00,  7.58828397e-01,  6.80838960e-01,\n",
       "         3.17159862e-01, -1.25533494e+00, -2.27688914e-01,\n",
       "         1.60240782e+00,  2.02252161e+00,  1.42403906e+00,\n",
       "         5.30068633e-01],\n",
       "       [-1.04348484e+00,  6.62913250e-01, -4.48576367e-01,\n",
       "        -4.13804511e-01,  8.77425293e-01, -3.94179581e-01,\n",
       "         2.90438769e-01,  3.67167749e-01,  1.00403749e-01,\n",
       "         9.74632589e-01],\n",
       "       [-1.69278116e+00, -7.03811805e-01,  5.91645358e-02,\n",
       "        -5.01351215e-01,  2.24288466e-01,  1.38886967e+00,\n",
       "        -3.61000596e-01, -1.52566528e-01, -1.30500479e+00,\n",
       "        -1.76945412e+00],\n",
       "       [ 1.32825886e+00, -5.53011307e-01, -2.80317602e-01,\n",
       "         1.35495505e+00, -1.57814964e+00,  5.16378757e-01,\n",
       "        -5.63723735e-01, -1.25652477e+00, -1.67363739e+00,\n",
       "         2.45782125e+00],\n",
       "       [-2.15518709e+00,  6.26370562e-01,  7.08958063e-01,\n",
       "         1.01738915e+00, -3.56366390e-01,  4.30028952e-01,\n",
       "        -4.03218124e-01, -4.69671637e-01,  3.67873682e+00,\n",
       "        -7.64963860e-01],\n",
       "       [ 7.06366102e-01, -6.47322063e-01,  1.79382311e+00,\n",
       "         2.37351506e-01,  6.85918909e-01,  8.72717567e-01,\n",
       "        -3.05356872e-01, -1.21092557e+00,  1.46181986e-01,\n",
       "         1.00385877e+00],\n",
       "       [ 5.00638623e-01, -7.87399339e-01,  9.76705743e-01,\n",
       "        -3.73413188e-01, -1.41367064e+00,  8.03689532e-01,\n",
       "        -9.30723901e-01,  3.42413164e-01, -5.81393944e-01,\n",
       "         6.71612994e-01],\n",
       "       [-1.29023239e+00,  9.51314293e-01,  1.91257823e-01,\n",
       "         6.72727048e-01,  2.38476858e-01,  6.13160714e-01,\n",
       "         1.02857602e+00, -1.04675201e+00, -1.57588840e+00,\n",
       "        -1.45905624e+00],\n",
       "       [-1.62195603e+00, -5.06860054e-01, -1.20475177e+00,\n",
       "         7.83723511e-01,  1.25448988e-01,  5.37593916e-01,\n",
       "         1.12770725e+00,  9.16922588e-01, -5.88158090e-01,\n",
       "         1.79784618e+00],\n",
       "       [ 2.15018463e-01, -1.38128637e+00,  6.64322169e-01,\n",
       "         2.19946107e-01, -5.53348098e-01, -1.86324425e-01,\n",
       "        -9.02034398e-01,  8.02425211e-01,  4.58671950e-01,\n",
       "         9.79759938e-01],\n",
       "       [-3.40558842e-01, -9.27062482e-01, -3.98120766e-01,\n",
       "        -6.92847698e-01, -3.25804681e-02, -1.28695350e+00,\n",
       "         5.65358351e-01,  8.41597249e-01,  1.32019073e-01,\n",
       "        -6.50684196e-01],\n",
       "       [-9.54262063e-01,  5.94801013e-01,  3.57299037e-01,\n",
       "        -3.90048709e-01,  7.91822311e-01, -3.65020196e-01,\n",
       "         1.25653167e+00, -5.62408633e-01, -1.88198261e-01,\n",
       "        -2.03425260e+00],\n",
       "       [-7.86642469e-01, -1.57282087e+00,  1.13264085e-01,\n",
       "         6.77066909e-02,  2.13420933e-01, -2.50682422e-01,\n",
       "         5.21006909e-01, -6.93000366e-01,  5.49455619e-01,\n",
       "        -3.89765911e-01],\n",
       "       [ 4.04716621e-01,  5.61505696e-01,  5.12246821e-01,\n",
       "        -7.99616323e-01,  1.11404256e+00, -7.14422581e-01,\n",
       "         5.36020529e-01, -1.00086400e+00, -2.37742440e-01,\n",
       "        -7.92294039e-01],\n",
       "       [ 1.03221654e+00,  7.64910697e-01,  4.66323127e-01,\n",
       "        -3.35159474e-01, -1.06188383e+00,  6.26323642e-01,\n",
       "        -4.32229849e-01, -3.97233033e-01, -1.06580615e+00,\n",
       "        -3.63569860e-01],\n",
       "       [ 1.52198831e+00, -1.60260510e-01,  2.24739598e+00,\n",
       "        -1.55532480e+00, -2.90114891e-01, -4.82696234e-01,\n",
       "        -1.57924345e+00,  5.69640156e-01,  6.44890674e-01,\n",
       "         7.37056116e-01],\n",
       "       [-4.44002654e-01,  4.20267315e-01,  1.51454448e+00,\n",
       "         1.90887905e-01,  9.57422714e-01, -2.10451041e+00,\n",
       "        -5.45539118e-01, -3.22127787e-01,  2.08509762e+00,\n",
       "        -1.63870762e+00],\n",
       "       [ 1.22134360e+00, -4.25855462e-01,  2.23453707e+00,\n",
       "        -1.95499163e+00,  2.85742501e-01, -2.47198135e-01,\n",
       "         5.58886534e-01,  6.33478051e-01, -4.46594798e-01,\n",
       "         3.52678176e-01],\n",
       "       [ 1.76756892e+00, -7.89402725e-02, -1.24532375e+00,\n",
       "        -2.22873697e+00, -6.77513724e-01,  1.42353754e+00,\n",
       "         3.95081140e-01, -1.31776559e-01, -1.43109738e+00,\n",
       "        -1.07889964e+00],\n",
       "       [ 2.09506062e+00,  2.10739618e-01, -5.29101999e-01,\n",
       "         3.00743800e-01,  3.87986183e-01, -5.25271795e-01,\n",
       "        -2.29006680e-01,  1.19050135e+00,  1.00171086e+00,\n",
       "        -5.84578402e-01],\n",
       "       [ 2.71262772e-01, -1.82322288e-01,  6.01536033e-02,\n",
       "         8.53687424e-01, -1.01081549e+00,  3.35956056e-01,\n",
       "         1.61159886e+00,  4.18710909e-01,  6.78740741e-02,\n",
       "        -1.10485051e+00],\n",
       "       [ 1.10844305e+00,  6.11588227e-01,  1.88587422e+00,\n",
       "         2.02475641e+00, -1.15780631e+00, -1.14578787e+00,\n",
       "         9.71772680e-01,  1.17879260e-01,  8.07123634e-01,\n",
       "        -5.51976147e-01],\n",
       "       [ 1.45495462e+00,  3.34670907e-01, -2.96393495e-01,\n",
       "        -8.54399085e-01,  6.42532742e-01, -1.85211805e+00,\n",
       "         2.17561296e-01, -9.99223072e-01, -1.30910434e+00,\n",
       "         2.00308943e+00],\n",
       "       [-2.44490784e-01, -1.24412915e+00, -7.85668864e-01,\n",
       "         5.52293721e-02,  1.91685767e+00, -1.16049495e+00,\n",
       "         1.27607670e+00,  7.52456086e-01, -4.98275874e-01,\n",
       "         1.08327903e+00],\n",
       "       [ 1.37982852e+00,  1.19394294e+00,  1.64639869e-01,\n",
       "        -4.46477568e-01,  8.63104800e-01,  4.35782665e-01,\n",
       "         1.02000230e+00,  1.48091021e+00,  3.60239574e-01,\n",
       "        -1.96363959e+00],\n",
       "       [ 1.64248555e-01,  9.96613522e-03,  7.08132523e-01,\n",
       "        -1.89247109e+00, -4.31234845e-01, -3.92198755e-01,\n",
       "        -1.42184032e+00, -1.44210954e+00, -1.97162118e+00,\n",
       "         4.96163416e-01],\n",
       "       [ 1.06460288e-01, -4.60859047e-01,  1.12433438e+00,\n",
       "         1.08243319e+00,  5.16373624e-01,  1.57311949e+00,\n",
       "         3.82803503e-01,  2.14082096e-01,  8.36728607e-02,\n",
       "        -2.63801990e-02],\n",
       "       [ 1.88226696e-01, -7.03779220e-01,  3.86889739e-01,\n",
       "         1.25704418e-01, -5.25547647e-01,  1.10950917e+00,\n",
       "        -6.55487919e-01,  9.94155061e-02,  1.35991921e+00,\n",
       "        -1.03335413e-01],\n",
       "       [ 3.22314911e-01,  7.58713514e-01, -8.95544739e-01,\n",
       "        -1.78971576e+00,  5.92697982e-01,  2.40138251e-01,\n",
       "         6.21449370e-01,  2.46647224e-02,  1.79827884e-01,\n",
       "         5.27618441e-01],\n",
       "       [-2.59102275e+00, -7.00054635e-01, -4.81735092e-01,\n",
       "        -1.48158345e+00,  5.71975817e-01,  2.94974950e-01,\n",
       "        -1.34755049e+00,  2.79925782e+00,  7.42702957e-01,\n",
       "         1.21067577e+00],\n",
       "       [-1.13475388e+00, -7.43437987e-01, -8.19084177e-01,\n",
       "        -3.42668341e-02, -1.67015065e+00,  8.30945925e-01,\n",
       "        -1.12324227e-01, -1.22465254e+00, -1.47784878e+00,\n",
       "        -2.16995641e+00],\n",
       "       [-1.75612105e-02,  1.67539725e+00,  3.30805393e-01,\n",
       "         1.42297608e-01, -9.06771587e-01,  1.34838266e+00,\n",
       "        -1.34621627e+00, -1.26172242e+00,  1.49036378e+00,\n",
       "         8.18744453e-01],\n",
       "       [-3.28370371e-02, -1.51870845e-01, -1.54745582e-02,\n",
       "        -4.29533773e-01, -1.89458475e+00, -1.17148586e+00,\n",
       "        -9.74466836e-01,  1.15587607e+00, -1.60968856e-01,\n",
       "        -3.32245728e-01],\n",
       "       [-1.49385075e-01,  1.90772500e+00, -1.56844678e+00,\n",
       "         5.01058912e-01, -1.16802303e+00,  1.44210484e-01,\n",
       "         7.30042997e-02, -8.64230698e-01,  6.49717200e-01,\n",
       "        -3.68460616e-03],\n",
       "       [-2.52153429e-01, -1.53930125e-01, -6.73714538e-01,\n",
       "         8.92681075e-01, -2.20152064e+00,  5.41133263e-01,\n",
       "         1.52573147e+00, -2.20069575e+00, -2.08604074e+00,\n",
       "         4.85260769e-01],\n",
       "       [-5.28814475e-01,  1.63862250e-01,  3.61835597e-03,\n",
       "        -1.04309762e+00,  5.41549752e-01,  8.39595922e-02,\n",
       "        -1.23221920e+00,  2.76495207e+00, -6.81052953e-01,\n",
       "        -7.45573540e-01],\n",
       "       [ 1.76363694e+00,  1.54982474e-01, -3.24220829e-01,\n",
       "        -5.23688767e-01, -5.31899197e-01, -3.51487671e-01,\n",
       "         8.24651822e-01,  5.59268634e-01,  5.33668145e-01,\n",
       "         7.33559813e-01],\n",
       "       [ 9.88714594e-01,  1.35525689e-01, -8.22382497e-01,\n",
       "         2.35257138e+00, -6.84677973e-01, -2.19276611e-01,\n",
       "        -1.59824149e+00,  1.35542019e-01, -2.21366499e+00,\n",
       "         9.93549000e-01],\n",
       "       [ 1.41550614e+00,  2.22493483e+00,  2.37389949e+00,\n",
       "         9.35762031e-01,  8.06798326e-01,  3.60664959e-01,\n",
       "        -8.17640498e-01,  1.20562352e-01,  2.23208452e-01,\n",
       "         2.38568241e+00],\n",
       "       [ 3.43053317e-01, -9.79390774e-01,  8.55267920e-01,\n",
       "         6.98399590e-02,  7.66496789e-01,  1.18468140e+00,\n",
       "        -4.26183230e-01, -9.69067076e-01,  3.79597893e-01,\n",
       "         3.64849616e-01],\n",
       "       [-3.19776707e-01,  1.57414831e+00,  7.01796225e-01,\n",
       "        -1.87059288e+00, -1.81130851e+00,  1.93938111e+00,\n",
       "         1.00410322e+00,  4.20540299e-01, -5.94477901e-01,\n",
       "         3.41561008e-01],\n",
       "       [-3.35925181e-01,  6.47174303e-01,  6.00024232e-01,\n",
       "        -6.24071775e-01,  2.31417833e+00, -1.35415854e+00,\n",
       "         2.91669836e-01, -1.23865717e+00, -7.93236313e-01,\n",
       "        -4.18210620e-01],\n",
       "       [ 1.78562727e-01,  4.89958334e-01, -6.17308725e-01,\n",
       "         1.27357101e+00,  7.09245152e-01, -1.30057660e-01,\n",
       "        -6.13931564e-01, -4.05128853e-01,  4.90828769e-01,\n",
       "        -1.04892626e+00],\n",
       "       [-1.94364948e-01,  3.73903904e-02, -4.47188225e-01,\n",
       "        -3.08451284e-02,  1.68927413e-03, -1.39794137e+00,\n",
       "         1.01368586e+00,  5.68173952e-01, -1.68257193e+00,\n",
       "        -1.26496099e+00],\n",
       "       [ 7.59580253e-01, -2.03838868e-01, -1.64692350e+00,\n",
       "         5.41016765e-01,  2.06225682e-01, -7.77161467e-01,\n",
       "         1.20759953e+00,  1.51870518e+00,  7.01361677e-01,\n",
       "         2.72711538e-01]])"
      ]
     },
     "execution_count": 38,
     "metadata": {},
     "output_type": "execute_result"
    }
   ],
   "source": [
    "users_arr2"
   ]
  },
  {
   "cell_type": "code",
   "execution_count": 39,
   "metadata": {
    "ExecuteTime": {
     "end_time": "2023-01-09T22:24:48.914484Z",
     "start_time": "2023-01-09T22:24:48.910537Z"
    }
   },
   "outputs": [],
   "source": [
    "items2 = []\n",
    "\n",
    "# Random generation of values for the item matrix\n",
    "for _ in range(100):\n",
    "    item = []\n",
    "    for _ in range(10):\n",
    "        item.append(gs(0, 1))\n",
    "    items2.append(item)\n",
    "items_arr2 = np.array(items2)"
   ]
  },
  {
   "cell_type": "code",
   "execution_count": 40,
   "metadata": {
    "ExecuteTime": {
     "end_time": "2023-01-09T22:24:49.417722Z",
     "start_time": "2023-01-09T22:24:49.415146Z"
    }
   },
   "outputs": [
    {
     "data": {
      "text/plain": [
       "(100, 10)"
      ]
     },
     "execution_count": 40,
     "metadata": {},
     "output_type": "execute_result"
    }
   ],
   "source": [
    "items_arr2.shape"
   ]
  },
  {
   "cell_type": "markdown",
   "metadata": {},
   "source": [
    "Our first guess at filling in the matrix will simply be the matrix product:"
   ]
  },
  {
   "cell_type": "code",
   "execution_count": 41,
   "metadata": {
    "ExecuteTime": {
     "end_time": "2023-01-09T22:24:52.608827Z",
     "start_time": "2023-01-09T22:24:52.606311Z"
    }
   },
   "outputs": [],
   "source": [
    "guess = users_arr2.dot(items_arr2.T)"
   ]
  },
  {
   "cell_type": "code",
   "execution_count": 42,
   "metadata": {
    "ExecuteTime": {
     "end_time": "2023-01-09T22:24:53.721231Z",
     "start_time": "2023-01-09T22:24:53.718228Z"
    }
   },
   "outputs": [
    {
     "data": {
      "text/plain": [
       "True"
      ]
     },
     "execution_count": 42,
     "metadata": {},
     "output_type": "execute_result"
    }
   ],
   "source": [
    "guess.shape == ratings_arr2.shape"
   ]
  },
  {
   "cell_type": "markdown",
   "metadata": {},
   "source": [
    "Let's get a measure of error:"
   ]
  },
  {
   "cell_type": "code",
   "execution_count": 43,
   "metadata": {
    "ExecuteTime": {
     "end_time": "2023-01-09T22:24:56.681155Z",
     "start_time": "2023-01-09T22:24:56.678568Z"
    }
   },
   "outputs": [
    {
     "data": {
      "text/plain": [
       "array([[ 1.20022042, -4.79370844,  0.16745819, ...,  0.71515764,\n",
       "         5.29265957,  2.34612024],\n",
       "       [12.81954999,  1.09244517,  2.76883236, ...,  3.84048632,\n",
       "         3.63986143,  1.251285  ],\n",
       "       [-0.11924386,  0.1143655 , -0.52294795, ...,  3.37782545,\n",
       "        -2.46092459,  0.03240239],\n",
       "       ...,\n",
       "       [ 1.78409526, -0.16181232,  1.29355933, ...,  6.03771907,\n",
       "         1.97382977,  4.89026489],\n",
       "       [-1.85314949,  4.16815931,  3.84911175, ..., -0.0342376 ,\n",
       "        -5.73579374, -1.53629352],\n",
       "       [ 2.51939362,  5.31266136, -1.7857387 , ...,  5.18275941,\n",
       "        -2.55671716,  4.90783561]])"
      ]
     },
     "execution_count": 43,
     "metadata": {},
     "output_type": "execute_result"
    }
   ],
   "source": [
    "ratings_arr2 - guess"
   ]
  },
  {
   "cell_type": "code",
   "execution_count": 44,
   "metadata": {
    "ExecuteTime": {
     "end_time": "2023-01-09T22:25:08.281990Z",
     "start_time": "2023-01-09T22:25:08.277950Z"
    }
   },
   "outputs": [
    {
     "data": {
      "text/plain": [
       "122333.98763617325"
      ]
     },
     "execution_count": 44,
     "metadata": {},
     "output_type": "execute_result"
    }
   ],
   "source": [
    "err = (ratings_arr2 - guess)**2\n",
    "\n",
    "np.sum(err)"
   ]
  },
  {
   "cell_type": "markdown",
   "metadata": {},
   "source": [
    "Pretty terrible! But we started with random numbers and have only done one iteration. Let's see if we can do better:"
   ]
  },
  {
   "cell_type": "code",
   "execution_count": 45,
   "metadata": {
    "ExecuteTime": {
     "end_time": "2023-01-09T22:26:55.983736Z",
     "start_time": "2023-01-09T22:26:55.979701Z"
    }
   },
   "outputs": [],
   "source": [
    "def als(ratings, users, items, reps=10):\n",
    "    \n",
    "    ratings_cols = ratings.T\n",
    "    for _ in range(reps):\n",
    "        new_users = []\n",
    "        for i in range(len(ratings)):\n",
    "            \n",
    "            user = LinearRegression(fit_intercept=False)\\\n",
    "            .fit(items, ratings[i]).coef_\n",
    "            new_users.append(user)\n",
    "        new_users = np.asarray(new_users)\n",
    "        \n",
    "        new_items = []\n",
    "        for i in range(len(ratings)):\n",
    "            \n",
    "            item = LinearRegression(fit_intercept=False)\\\n",
    "            .fit(new_users, ratings_cols[i]).coef_\n",
    "            new_items.append(item)\n",
    "        new_items = np.asarray(new_items)\n",
    "        \n",
    "        guess = new_users.dot(new_items.T)\n",
    "        err = 0\n",
    "        for i in range(len(ratings)):\n",
    "            for j in range(len(ratings[i])):\n",
    "                if ratings[i, j] != 0:\n",
    "                    err += (ratings[i, j] - guess[i, j])**2\n",
    "        print(err)\n",
    "        \n",
    "        items = new_items\n",
    "        \n",
    "    return new_users.dot(new_items.T)"
   ]
  },
  {
   "cell_type": "markdown",
   "metadata": {},
   "source": [
    "We should see our error decrease with more iterations:"
   ]
  },
  {
   "cell_type": "code",
   "execution_count": 48,
   "metadata": {
    "ExecuteTime": {
     "end_time": "2023-01-09T22:27:28.701034Z",
     "start_time": "2023-01-09T22:27:28.426545Z"
    }
   },
   "outputs": [
    {
     "name": "stdout",
     "output_type": "stream",
     "text": [
      "8679.959268046981\n",
      "6511.270608291889\n",
      "6272.528821101912\n",
      "6190.959718973225\n",
      "6153.148460896026\n",
      "6133.158269096346\n",
      "6121.902204676272\n",
      "6115.079057339579\n",
      "6110.538074584967\n",
      "6107.255266508425\n"
     ]
    }
   ],
   "source": [
    "new_users2 = als(ratings_arr2, users_arr2, items_arr2,10)[:5, :]"
   ]
  },
  {
   "cell_type": "code",
   "execution_count": 49,
   "metadata": {
    "ExecuteTime": {
     "end_time": "2023-01-09T22:27:41.861567Z",
     "start_time": "2023-01-09T22:27:41.858683Z"
    }
   },
   "outputs": [
    {
     "data": {
      "text/plain": [
       "(5, 100)"
      ]
     },
     "execution_count": 49,
     "metadata": {},
     "output_type": "execute_result"
    }
   ],
   "source": [
    "new_users2.shape"
   ]
  },
  {
   "cell_type": "markdown",
   "metadata": {},
   "source": [
    "#### ALS in `pyspark`\n",
    "\n",
    "We'll talk about Big Data and Spark soon, but I'll just note here that Spark has a recommendation submodule inside its ml (machine learning) module. Source code for `pyspark`'s version [here](https://spark.apache.org/docs/latest/api/python/_modules/pyspark/ml/recommendation.html)."
   ]
  },
  {
   "cell_type": "code",
   "execution_count": null,
   "metadata": {},
   "outputs": [],
   "source": []
  }
 ],
 "metadata": {
  "kernelspec": {
   "display_name": "Python (learn-env)",
   "language": "python",
   "name": "learn-env"
  },
  "language_info": {
   "codemirror_mode": {
    "name": "ipython",
    "version": 3
   },
   "file_extension": ".py",
   "mimetype": "text/x-python",
   "name": "python",
   "nbconvert_exporter": "python",
   "pygments_lexer": "ipython3",
   "version": "3.8.5"
  },
  "toc": {
   "base_numbering": 1,
   "nav_menu": {},
   "number_sections": true,
   "sideBar": true,
   "skip_h1_title": false,
   "title_cell": "Table of Contents",
   "title_sidebar": "Contents",
   "toc_cell": false,
   "toc_position": {},
   "toc_section_display": true,
   "toc_window_display": false
  },
  "varInspector": {
   "cols": {
    "lenName": 16,
    "lenType": 16,
    "lenVar": 40
   },
   "kernels_config": {
    "python": {
     "delete_cmd_postfix": "",
     "delete_cmd_prefix": "del ",
     "library": "var_list.py",
     "varRefreshCmd": "print(var_dic_list())"
    },
    "r": {
     "delete_cmd_postfix": ") ",
     "delete_cmd_prefix": "rm(",
     "library": "var_list.r",
     "varRefreshCmd": "cat(var_dic_list()) "
    }
   },
   "types_to_exclude": [
    "module",
    "function",
    "builtin_function_or_method",
    "instance",
    "_Feature"
   ],
   "window_display": false
  }
 },
 "nbformat": 4,
 "nbformat_minor": 2
}
